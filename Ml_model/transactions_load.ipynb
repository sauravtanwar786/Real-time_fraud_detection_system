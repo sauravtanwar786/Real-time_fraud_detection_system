{
 "cells": [
  {
   "cell_type": "code",
   "execution_count": 1,
   "metadata": {},
   "outputs": [
    {
     "name": "stdout",
     "output_type": "stream",
     "text": [
      "   TRANSACTION_ID         TX_DATETIME CUSTOMER_ID TERMINAL_ID  TX_AMOUNT  \\\n",
      "0         2051331 2025-01-01 00:01:33        1959        9559     143.11   \n",
      "1         2051332 2025-01-01 00:02:26         658        9395      73.66   \n",
      "2         2051333 2025-01-01 00:03:36        4371        7721      99.55   \n",
      "3         2051334 2025-01-01 00:04:03         802        6022      50.71   \n",
      "4         2051335 2025-01-01 00:04:49        4630        2924      23.60   \n",
      "\n",
      "  TX_TIME_SECONDS TX_TIME_DAYS  TX_FRAUD  TX_FRAUD_SCENARIO  \n",
      "0        18489693          214         0                  0  \n",
      "1        18489746          214         0                  0  \n",
      "2        18489816          214         0                  0  \n",
      "3        18489843          214         0                  0  \n",
      "4        18489889          214         0                  0  \n"
     ]
    }
   ],
   "source": [
    "import os\n",
    "import pandas as pd\n",
    "\n",
    "# Path to the folder containing the pickle files\n",
    "folder_path = \"../data/raw/transaction/\"\n",
    "\n",
    "# Define the start and end dates\n",
    "start_date = \"2025-01-01\"\n",
    "end_date = \"2025-01-01\"\n",
    "\n",
    "# List all pickle files in the folder\n",
    "pickle_files = [f for f in os.listdir(folder_path) if f.endswith(\".pkl\")]\n",
    "\n",
    "# Filter files within the date range\n",
    "filtered_files = [\n",
    "    f for f in pickle_files\n",
    "    if start_date <= f.split(\".pkl\")[0] <= end_date\n",
    "]\n",
    "\n",
    "# Initialize an empty list to store DataFrames\n",
    "dataframes = []\n",
    "\n",
    "# Iterate through each filtered pickle file and load it into a DataFrame\n",
    "for pickle_file in filtered_files:\n",
    "    file_path = os.path.join(folder_path, pickle_file)\n",
    "    df = pd.read_pickle(file_path)\n",
    "    dataframes.append(df)\n",
    "\n",
    "# Concatenate all DataFrames into one\n",
    "transactions_df = pd.concat(dataframes, ignore_index=True)\n",
    "\n",
    "# Display the first few rows of the final DataFrame\n",
    "print(transactions_df.head())\n"
   ]
  },
  {
   "cell_type": "code",
   "execution_count": 2,
   "metadata": {},
   "outputs": [],
   "source": [
    "import pandas as pd"
   ]
  },
  {
   "cell_type": "code",
   "execution_count": 3,
   "metadata": {},
   "outputs": [],
   "source": [
    "from pyspark.sql import SparkSession\n",
    "from pyspark.sql.types import StringType\n",
    "from pyspark.sql.functions import col\n",
    "from pyspark.sql.types import StringType, StructType, StructField"
   ]
  },
  {
   "cell_type": "code",
   "execution_count": 4,
   "metadata": {},
   "outputs": [
    {
     "name": "stderr",
     "output_type": "stream",
     "text": [
      "25/02/13 21:29:08 WARN Utils: Your hostname, Gauravs-MacBook-Air-3.local resolves to a loopback address: 127.0.0.1; using 192.168.1.6 instead (on interface en0)\n",
      "25/02/13 21:29:08 WARN Utils: Set SPARK_LOCAL_IP if you need to bind to another address\n"
     ]
    },
    {
     "name": "stdout",
     "output_type": "stream",
     "text": [
      ":: loading settings :: url = jar:file:/Users/saurabh/Desktop/workspace/realtime_fraud_detection_system/.venv/lib/python3.11/site-packages/pyspark/jars/ivy-2.5.1.jar!/org/apache/ivy/core/settings/ivysettings.xml\n"
     ]
    },
    {
     "name": "stderr",
     "output_type": "stream",
     "text": [
      "Ivy Default Cache set to: /Users/saurabh/.ivy2/cache\n",
      "The jars for the packages stored in: /Users/saurabh/.ivy2/jars\n",
      "org.apache.spark#spark-sql-kafka-0-10_2.12 added as a dependency\n",
      "org.apache.iceberg#iceberg-spark-runtime-3.5_2.12 added as a dependency\n",
      "org.apache.hadoop#hadoop-aws added as a dependency\n",
      ":: resolving dependencies :: org.apache.spark#spark-submit-parent-7ada9a4b-4833-4a61-9f10-a94854880f14;1.0\n",
      "\tconfs: [default]\n",
      "\tfound org.apache.spark#spark-sql-kafka-0-10_2.12;3.3.1 in central\n",
      "\tfound org.apache.spark#spark-token-provider-kafka-0-10_2.12;3.3.1 in central\n",
      "\tfound org.apache.kafka#kafka-clients;2.8.1 in central\n",
      "\tfound org.lz4#lz4-java;1.8.0 in central\n",
      "\tfound org.xerial.snappy#snappy-java;1.1.8.4 in central\n",
      "\tfound org.slf4j#slf4j-api;1.7.32 in central\n",
      "\tfound org.apache.hadoop#hadoop-client-runtime;3.3.2 in central\n",
      "\tfound org.spark-project.spark#unused;1.0.0 in central\n",
      "\tfound org.apache.hadoop#hadoop-client-api;3.3.2 in central\n",
      "\tfound commons-logging#commons-logging;1.1.3 in central\n",
      "\tfound com.google.code.findbugs#jsr305;3.0.0 in central\n",
      "\tfound org.apache.commons#commons-pool2;2.11.1 in central\n",
      "\tfound org.apache.iceberg#iceberg-spark-runtime-3.5_2.12;1.7.1 in central\n",
      "\tfound org.apache.hadoop#hadoop-aws;3.3.2 in central\n",
      "\tfound com.amazonaws#aws-java-sdk-bundle;1.11.1026 in central\n",
      "\tfound org.wildfly.openssl#wildfly-openssl;1.0.7.Final in central\n",
      ":: resolution report :: resolve 1298ms :: artifacts dl 38ms\n",
      "\t:: modules in use:\n",
      "\tcom.amazonaws#aws-java-sdk-bundle;1.11.1026 from central in [default]\n",
      "\tcom.google.code.findbugs#jsr305;3.0.0 from central in [default]\n",
      "\tcommons-logging#commons-logging;1.1.3 from central in [default]\n",
      "\torg.apache.commons#commons-pool2;2.11.1 from central in [default]\n",
      "\torg.apache.hadoop#hadoop-aws;3.3.2 from central in [default]\n",
      "\torg.apache.hadoop#hadoop-client-api;3.3.2 from central in [default]\n",
      "\torg.apache.hadoop#hadoop-client-runtime;3.3.2 from central in [default]\n",
      "\torg.apache.iceberg#iceberg-spark-runtime-3.5_2.12;1.7.1 from central in [default]\n",
      "\torg.apache.kafka#kafka-clients;2.8.1 from central in [default]\n",
      "\torg.apache.spark#spark-sql-kafka-0-10_2.12;3.3.1 from central in [default]\n",
      "\torg.apache.spark#spark-token-provider-kafka-0-10_2.12;3.3.1 from central in [default]\n",
      "\torg.lz4#lz4-java;1.8.0 from central in [default]\n",
      "\torg.slf4j#slf4j-api;1.7.32 from central in [default]\n",
      "\torg.spark-project.spark#unused;1.0.0 from central in [default]\n",
      "\torg.wildfly.openssl#wildfly-openssl;1.0.7.Final from central in [default]\n",
      "\torg.xerial.snappy#snappy-java;1.1.8.4 from central in [default]\n",
      "\t---------------------------------------------------------------------\n",
      "\t|                  |            modules            ||   artifacts   |\n",
      "\t|       conf       | number| search|dwnlded|evicted|| number|dwnlded|\n",
      "\t---------------------------------------------------------------------\n",
      "\t|      default     |   16  |   0   |   0   |   0   ||   16  |   0   |\n",
      "\t---------------------------------------------------------------------\n",
      ":: retrieving :: org.apache.spark#spark-submit-parent-7ada9a4b-4833-4a61-9f10-a94854880f14\n",
      "\tconfs: [default]\n",
      "\t0 artifacts copied, 16 already retrieved (0kB/29ms)\n",
      "25/02/13 21:29:10 WARN NativeCodeLoader: Unable to load native-hadoop library for your platform... using builtin-java classes where applicable\n",
      "Setting default log level to \"WARN\".\n",
      "To adjust logging level use sc.setLogLevel(newLevel). For SparkR, use setLogLevel(newLevel).\n",
      "25/02/13 21:29:12 WARN Utils: Service 'SparkUI' could not bind on port 4040. Attempting port 4041.\n",
      "25/02/13 21:29:12 WARN Utils: Service 'SparkUI' could not bind on port 4041. Attempting port 4042.\n",
      "25/02/13 21:29:12 WARN Utils: Service 'SparkUI' could not bind on port 4042. Attempting port 4043.\n",
      "25/02/13 21:29:12 WARN Utils: Service 'SparkUI' could not bind on port 4043. Attempting port 4044.\n",
      "25/02/13 21:29:12 WARN Utils: Service 'SparkUI' could not bind on port 4044. Attempting port 4045.\n",
      "25/02/13 21:29:12 WARN Utils: Service 'SparkUI' could not bind on port 4045. Attempting port 4046.\n",
      "25/02/13 21:29:12 WARN Utils: Service 'SparkUI' could not bind on port 4046. Attempting port 4047.\n"
     ]
    }
   ],
   "source": [
    "from pyspark.sql import SparkSession\n",
    "spark = (SparkSession.builder\n",
    "                .config(\"spark.jars.packages\", \"org.apache.spark:spark-sql-kafka-0-10_2.12:3.3.1,org.apache.iceberg:iceberg-spark-runtime-3.5_2.12:1.7.1,org.apache.hadoop:hadoop-aws:3.3.2\")\n",
    "                .config(\"spark.hadoop.fs.s3a.endpoint\", \"http://localhost:9000\") \n",
    "                .config(\"spark.hadoop.fs.s3a.access.key\", \"minio\") \n",
    "                .config(\"spark.hadoop.fs.s3a.secret.key\", \"minio123\") \n",
    "                .config(\"spark.hadoop.fs.s3a.path.style.access\", \"true\") \n",
    "                .config(\"spark.hadoop.fs.s3a.impl\", \"org.apache.hadoop.fs.s3a.S3AFileSystem\")\n",
    "                .config(\"spark.sql.catalog.spark_catalog\", \"org.apache.iceberg.spark.SparkSessionCatalog\")\n",
    "                .config(\"spark.sql.catalog.spark_catalog.type\", \"hadoop\")\n",
    "                .config(\"spark.sql.catalog.spark_catalog.warehouse\", \"s3a://commerce/warehouse/\") \n",
    "                .config(\"spark.sql.extensions\", \"org.apache.iceberg.spark.extensions.IcebergSparkSessionExtensions\") \n",
    "                .appName(\"data_store\")\n",
    "         .getOrCreate())"
   ]
  },
  {
   "cell_type": "code",
   "execution_count": 5,
   "metadata": {},
   "outputs": [],
   "source": [
    "transactions_df=transactions_df[[\"TRANSACTION_ID\",\"TX_DATETIME\",\"CUSTOMER_ID\",\"TERMINAL_ID\",\"TX_AMOUNT\"]]"
   ]
  },
  {
   "cell_type": "code",
   "execution_count": 6,
   "metadata": {},
   "outputs": [],
   "source": [
    "transactions_sdf=spark.createDataFrame(transactions_df)"
   ]
  },
  {
   "cell_type": "code",
   "execution_count": 7,
   "metadata": {},
   "outputs": [],
   "source": [
    "t1=transactions_sdf.withColumnRenamed(\"TRANSACTION_ID\",\"tx_id\") \\\n",
    ".withColumnRenamed(\"TX_DATETIME\",\"tx_datetime\") \\\n",
    ".withColumnRenamed(\"CUSTOMER_ID\",\"customer_id\") \\\n",
    ".withColumnRenamed(\"TERMINAL_ID\",\"terminal_id\") \\\n",
    ".withColumnRenamed(\"TX_AMOUNT\",\"tx_amount\")"
   ]
  },
  {
   "cell_type": "code",
   "execution_count": 8,
   "metadata": {},
   "outputs": [],
   "source": [
    "from pyspark.sql.functions import current_timestamp\n",
    "transactions_sdf1=t1.withColumn(\"row_created_timestamp\", current_timestamp()) \\\n",
    ".withColumn(\"row_updated_timestamp\", current_timestamp())"
   ]
  },
  {
   "cell_type": "code",
   "execution_count": 9,
   "metadata": {},
   "outputs": [
    {
     "name": "stderr",
     "output_type": "stream",
     "text": [
      "25/02/13 21:30:18 WARN MetricsConfig: Cannot locate configuration: tried hadoop-metrics2-s3a-file-system.properties,hadoop-metrics2.properties\n"
     ]
    }
   ],
   "source": [
    "transactions_sdf1.createOrReplaceTempView(\"transaction1\")"
   ]
  },
  {
   "cell_type": "code",
   "execution_count": 10,
   "metadata": {},
   "outputs": [
    {
     "name": "stderr",
     "output_type": "stream",
     "text": [
      "                                                                                \r"
     ]
    },
    {
     "name": "stdout",
     "output_type": "stream",
     "text": [
      "+-------+-------------------+-----------+-----------+---------+---------------------+---------------------+\n",
      "|  tx_id|        tx_datetime|customer_id|terminal_id|tx_amount|row_created_timestamp|row_updated_timestamp|\n",
      "+-------+-------------------+-----------+-----------+---------+---------------------+---------------------+\n",
      "|2051331|2025-01-01 00:01:33|       1959|       9559|   143.11| 2025-02-13 21:30:...| 2025-02-13 21:30:...|\n",
      "|2051332|2025-01-01 00:02:26|        658|       9395|    73.66| 2025-02-13 21:30:...| 2025-02-13 21:30:...|\n",
      "|2051333|2025-01-01 00:03:36|       4371|       7721|    99.55| 2025-02-13 21:30:...| 2025-02-13 21:30:...|\n",
      "|2051334|2025-01-01 00:04:03|        802|       6022|    50.71| 2025-02-13 21:30:...| 2025-02-13 21:30:...|\n",
      "|2051335|2025-01-01 00:04:49|       4630|       2924|     23.6| 2025-02-13 21:30:...| 2025-02-13 21:30:...|\n",
      "|2051336|2025-01-01 00:05:58|       1837|       1216|    56.17| 2025-02-13 21:30:...| 2025-02-13 21:30:...|\n",
      "|2051337|2025-01-01 00:06:26|       3001|       5852|    79.13| 2025-02-13 21:30:...| 2025-02-13 21:30:...|\n",
      "|2051338|2025-01-01 00:08:20|       4654|       3538|    27.62| 2025-02-13 21:30:...| 2025-02-13 21:30:...|\n",
      "|2051339|2025-01-01 00:08:44|        352|       1636|    25.35| 2025-02-13 21:30:...| 2025-02-13 21:30:...|\n",
      "|2051340|2025-01-01 00:09:22|       3275|       5110|    33.52| 2025-02-13 21:30:...| 2025-02-13 21:30:...|\n",
      "|2051341|2025-01-01 00:11:16|       4989|       8210|    74.07| 2025-02-13 21:30:...| 2025-02-13 21:30:...|\n",
      "|2051342|2025-01-01 00:13:09|       2209|       4071|    90.83| 2025-02-13 21:30:...| 2025-02-13 21:30:...|\n",
      "|2051343|2025-01-01 00:13:54|       3719|       1320|    76.44| 2025-02-13 21:30:...| 2025-02-13 21:30:...|\n",
      "|2051344|2025-01-01 00:14:14|       2518|        194|    36.84| 2025-02-13 21:30:...| 2025-02-13 21:30:...|\n",
      "|2051345|2025-01-01 00:15:12|       1183|       5900|   106.66| 2025-02-13 21:30:...| 2025-02-13 21:30:...|\n",
      "|2051346|2025-01-01 00:15:44|       4230|       8889|    82.88| 2025-02-13 21:30:...| 2025-02-13 21:30:...|\n",
      "|2051347|2025-01-01 00:16:46|        281|       6231|    99.36| 2025-02-13 21:30:...| 2025-02-13 21:30:...|\n",
      "|2051348|2025-01-01 00:18:03|       4952|       2033|    86.19| 2025-02-13 21:30:...| 2025-02-13 21:30:...|\n",
      "|2051349|2025-01-01 00:18:11|         81|       1489|     78.2| 2025-02-13 21:30:...| 2025-02-13 21:30:...|\n",
      "|2051350|2025-01-01 00:19:52|       3542|       4819|    34.19| 2025-02-13 21:30:...| 2025-02-13 21:30:...|\n",
      "+-------+-------------------+-----------+-----------+---------+---------------------+---------------------+\n",
      "only showing top 20 rows\n",
      "\n"
     ]
    }
   ],
   "source": [
    "spark.sql(\"select * from transaction1 \").show()"
   ]
  },
  {
   "cell_type": "code",
   "execution_count": 11,
   "metadata": {},
   "outputs": [
    {
     "data": {
      "text/plain": [
       "DataFrame[]"
      ]
     },
     "execution_count": 11,
     "metadata": {},
     "output_type": "execute_result"
    }
   ],
   "source": [
    "spark.sql(\"\"\"\n",
    "      CREATE TABLE IF NOT EXISTS payment.transactions (\n",
    "                    tx_id INT,\n",
    "                    tx_datetime Timestamp,\n",
    "                    customer_id INT,\n",
    "                    terminal_id INT,\n",
    "                    tx_amount DECIMAL(10,2),\n",
    "    row_created_timestamp TIMESTAMP,\n",
    "    row_updated_timestamp TIMESTAMP\n",
    ")\n",
    "USING iceberg\n",
    "\"\"\")"
   ]
  },
  {
   "cell_type": "code",
   "execution_count": 12,
   "metadata": {},
   "outputs": [
    {
     "name": "stderr",
     "output_type": "stream",
     "text": [
      "                                                                                \r"
     ]
    },
    {
     "data": {
      "text/plain": [
       "DataFrame[]"
      ]
     },
     "execution_count": 12,
     "metadata": {},
     "output_type": "execute_result"
    }
   ],
   "source": [
    "spark.sql(\"\"\"\n",
    "    MERGE INTO payment.transactions AS target\n",
    "    USING transaction1 AS source\n",
    "ON target.tx_id = source.tx_id\n",
    "WHEN MATCHED THEN\n",
    "  UPDATE SET\n",
    "    target.tx_datetime = source.tx_datetime,\n",
    "    target.customer_id = source.customer_id,\n",
    "    target.terminal_id = source.terminal_id,\n",
    "    target.tx_amount = source.tx_amount,      \n",
    "    target.row_updated_timestamp = source.row_updated_timestamp\n",
    "WHEN NOT MATCHED THEN\n",
    "  INSERT (          tx_id,\n",
    "                    tx_datetime,\n",
    "                    customer_id,\n",
    "                    terminal_id,\n",
    "                    tx_amount,\n",
    "    row_created_timestamp,\n",
    "    row_updated_timestamp\n",
    "  )\n",
    "  VALUES (\n",
    "    source.tx_id,\n",
    "    source.tx_datetime,\n",
    "    source.customer_id,\n",
    "    source.terminal_id,\n",
    "    source.tx_amount,\n",
    "    source.row_created_timestamp,\n",
    "    source.row_updated_timestamp\n",
    "  )\n",
    "\"\"\")"
   ]
  },
  {
   "cell_type": "code",
   "execution_count": null,
   "metadata": {},
   "outputs": [],
   "source": []
  }
 ],
 "metadata": {
  "kernelspec": {
   "display_name": ".venv",
   "language": "python",
   "name": "python3"
  },
  "language_info": {
   "codemirror_mode": {
    "name": "ipython",
    "version": 3
   },
   "file_extension": ".py",
   "mimetype": "text/x-python",
   "name": "python",
   "nbconvert_exporter": "python",
   "pygments_lexer": "ipython3",
   "version": "3.11.10"
  }
 },
 "nbformat": 4,
 "nbformat_minor": 2
}
