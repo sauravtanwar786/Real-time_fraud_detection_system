{
 "cells": [
  {
   "cell_type": "code",
   "execution_count": 1,
   "metadata": {},
   "outputs": [],
   "source": [
    "from pyspark.sql import SparkSession\n",
    "from pyspark.sql.types import StringType\n",
    "from pyspark.sql.functions import col\n",
    "from pyspark.sql.types import StringType, StructType, StructField\n"
   ]
  },
  {
   "cell_type": "code",
   "execution_count": 2,
   "metadata": {},
   "outputs": [
    {
     "name": "stderr",
     "output_type": "stream",
     "text": [
      "25/02/13 21:38:25 WARN Utils: Your hostname, Gauravs-MacBook-Air-3.local resolves to a loopback address: 127.0.0.1; using 192.168.1.6 instead (on interface en0)\n",
      "25/02/13 21:38:25 WARN Utils: Set SPARK_LOCAL_IP if you need to bind to another address\n"
     ]
    },
    {
     "name": "stdout",
     "output_type": "stream",
     "text": [
      ":: loading settings :: url = jar:file:/Users/saurabh/Desktop/workspace/realtime_fraud_detection_system/.venv/lib/python3.11/site-packages/pyspark/jars/ivy-2.5.1.jar!/org/apache/ivy/core/settings/ivysettings.xml\n"
     ]
    },
    {
     "name": "stderr",
     "output_type": "stream",
     "text": [
      "Ivy Default Cache set to: /Users/saurabh/.ivy2/cache\n",
      "The jars for the packages stored in: /Users/saurabh/.ivy2/jars\n",
      "org.apache.spark#spark-sql-kafka-0-10_2.12 added as a dependency\n",
      "org.apache.iceberg#iceberg-spark-runtime-3.5_2.12 added as a dependency\n",
      "org.apache.hadoop#hadoop-aws added as a dependency\n",
      ":: resolving dependencies :: org.apache.spark#spark-submit-parent-c914ee51-01da-4a19-bc47-fb4cec6d1de6;1.0\n",
      "\tconfs: [default]\n",
      "\tfound org.apache.spark#spark-sql-kafka-0-10_2.12;3.3.1 in central\n",
      "\tfound org.apache.spark#spark-token-provider-kafka-0-10_2.12;3.3.1 in central\n",
      "\tfound org.apache.kafka#kafka-clients;2.8.1 in central\n",
      "\tfound org.lz4#lz4-java;1.8.0 in central\n",
      "\tfound org.xerial.snappy#snappy-java;1.1.8.4 in central\n",
      "\tfound org.slf4j#slf4j-api;1.7.32 in central\n",
      "\tfound org.apache.hadoop#hadoop-client-runtime;3.3.2 in central\n",
      "\tfound org.spark-project.spark#unused;1.0.0 in central\n",
      "\tfound org.apache.hadoop#hadoop-client-api;3.3.2 in central\n",
      "\tfound commons-logging#commons-logging;1.1.3 in central\n",
      "\tfound com.google.code.findbugs#jsr305;3.0.0 in central\n",
      "\tfound org.apache.commons#commons-pool2;2.11.1 in central\n",
      "\tfound org.apache.iceberg#iceberg-spark-runtime-3.5_2.12;1.7.1 in central\n",
      "\tfound org.apache.hadoop#hadoop-aws;3.3.2 in central\n",
      "\tfound com.amazonaws#aws-java-sdk-bundle;1.11.1026 in central\n",
      "\tfound org.wildfly.openssl#wildfly-openssl;1.0.7.Final in central\n",
      ":: resolution report :: resolve 1255ms :: artifacts dl 29ms\n",
      "\t:: modules in use:\n",
      "\tcom.amazonaws#aws-java-sdk-bundle;1.11.1026 from central in [default]\n",
      "\tcom.google.code.findbugs#jsr305;3.0.0 from central in [default]\n",
      "\tcommons-logging#commons-logging;1.1.3 from central in [default]\n",
      "\torg.apache.commons#commons-pool2;2.11.1 from central in [default]\n",
      "\torg.apache.hadoop#hadoop-aws;3.3.2 from central in [default]\n",
      "\torg.apache.hadoop#hadoop-client-api;3.3.2 from central in [default]\n",
      "\torg.apache.hadoop#hadoop-client-runtime;3.3.2 from central in [default]\n",
      "\torg.apache.iceberg#iceberg-spark-runtime-3.5_2.12;1.7.1 from central in [default]\n",
      "\torg.apache.kafka#kafka-clients;2.8.1 from central in [default]\n",
      "\torg.apache.spark#spark-sql-kafka-0-10_2.12;3.3.1 from central in [default]\n",
      "\torg.apache.spark#spark-token-provider-kafka-0-10_2.12;3.3.1 from central in [default]\n",
      "\torg.lz4#lz4-java;1.8.0 from central in [default]\n",
      "\torg.slf4j#slf4j-api;1.7.32 from central in [default]\n",
      "\torg.spark-project.spark#unused;1.0.0 from central in [default]\n",
      "\torg.wildfly.openssl#wildfly-openssl;1.0.7.Final from central in [default]\n",
      "\torg.xerial.snappy#snappy-java;1.1.8.4 from central in [default]\n",
      "\t---------------------------------------------------------------------\n",
      "\t|                  |            modules            ||   artifacts   |\n",
      "\t|       conf       | number| search|dwnlded|evicted|| number|dwnlded|\n",
      "\t---------------------------------------------------------------------\n",
      "\t|      default     |   16  |   0   |   0   |   0   ||   16  |   0   |\n",
      "\t---------------------------------------------------------------------\n",
      ":: retrieving :: org.apache.spark#spark-submit-parent-c914ee51-01da-4a19-bc47-fb4cec6d1de6\n",
      "\tconfs: [default]\n",
      "\t0 artifacts copied, 16 already retrieved (0kB/23ms)\n",
      "25/02/13 21:38:27 WARN NativeCodeLoader: Unable to load native-hadoop library for your platform... using builtin-java classes where applicable\n",
      "Setting default log level to \"WARN\".\n",
      "To adjust logging level use sc.setLogLevel(newLevel). For SparkR, use setLogLevel(newLevel).\n",
      "25/02/13 21:38:29 WARN Utils: Service 'SparkUI' could not bind on port 4040. Attempting port 4041.\n",
      "25/02/13 21:38:29 WARN Utils: Service 'SparkUI' could not bind on port 4041. Attempting port 4042.\n",
      "25/02/13 21:38:29 WARN Utils: Service 'SparkUI' could not bind on port 4042. Attempting port 4043.\n",
      "25/02/13 21:38:29 WARN Utils: Service 'SparkUI' could not bind on port 4043. Attempting port 4044.\n",
      "25/02/13 21:38:29 WARN Utils: Service 'SparkUI' could not bind on port 4044. Attempting port 4045.\n",
      "25/02/13 21:38:29 WARN Utils: Service 'SparkUI' could not bind on port 4045. Attempting port 4046.\n",
      "25/02/13 21:38:29 WARN Utils: Service 'SparkUI' could not bind on port 4046. Attempting port 4047.\n"
     ]
    }
   ],
   "source": [
    "from pyspark.sql import SparkSession\n",
    "spark = (SparkSession.builder\n",
    "                .config(\"spark.jars.packages\", \"org.apache.spark:spark-sql-kafka-0-10_2.12:3.3.1,org.apache.iceberg:iceberg-spark-runtime-3.5_2.12:1.7.1,org.apache.hadoop:hadoop-aws:3.3.2\")\n",
    "                .config(\"spark.hadoop.fs.s3a.endpoint\", \"http://localhost:9000\") \n",
    "                .config(\"spark.hadoop.fs.s3a.access.key\", \"minio\") \n",
    "                .config(\"spark.hadoop.fs.s3a.secret.key\", \"minio123\") \n",
    "                .config(\"spark.hadoop.fs.s3a.path.style.access\", \"true\") \n",
    "                .config(\"spark.hadoop.fs.s3a.impl\", \"org.apache.hadoop.fs.s3a.S3AFileSystem\")\n",
    "                .config(\"spark.sql.catalog.spark_catalog\", \"org.apache.iceberg.spark.SparkSessionCatalog\")\n",
    "                .config(\"spark.sql.catalog.spark_catalog.type\", \"hadoop\")\n",
    "                .config(\"spark.sql.catalog.spark_catalog.warehouse\", \"s3a://commerce/warehouse/\") \n",
    "                .config(\"spark.sql.extensions\", \"org.apache.iceberg.spark.extensions.IcebergSparkSessionExtensions\") \n",
    "                .appName(\"feature customer\")\n",
    "         .getOrCreate())"
   ]
  },
  {
   "cell_type": "code",
   "execution_count": 3,
   "metadata": {},
   "outputs": [],
   "source": [
    "def execute_query(query: str):\n",
    "    spark.sql(query).show(truncate=False)"
   ]
  },
  {
   "cell_type": "code",
   "execution_count": 4,
   "metadata": {},
   "outputs": [
    {
     "name": "stderr",
     "output_type": "stream",
     "text": [
      "25/02/13 21:39:45 WARN MetricsConfig: Cannot locate configuration: tried hadoop-metrics2-s3a-file-system.properties,hadoop-metrics2.properties\n"
     ]
    }
   ],
   "source": [
    "\n",
    "df = spark.read \\\n",
    "    .format(\"iceberg\") \\\n",
    "    .load(\"s3a://commerce/warehouse/payment/transactions/\")\n",
    "df.createOrReplaceTempView('transactions')"
   ]
  },
  {
   "cell_type": "code",
   "execution_count": 5,
   "metadata": {},
   "outputs": [
    {
     "name": "stdout",
     "output_type": "stream",
     "text": [
      "root\n",
      " |-- tx_id: integer (nullable = true)\n",
      " |-- tx_datetime: timestamp (nullable = true)\n",
      " |-- customer_id: integer (nullable = true)\n",
      " |-- terminal_id: integer (nullable = true)\n",
      " |-- tx_amount: decimal(10,2) (nullable = true)\n",
      " |-- row_created_timestamp: timestamp (nullable = true)\n",
      " |-- row_updated_timestamp: timestamp (nullable = true)\n",
      "\n"
     ]
    }
   ],
   "source": [
    "df.printSchema()"
   ]
  },
  {
   "cell_type": "code",
   "execution_count": 6,
   "metadata": {},
   "outputs": [
    {
     "name": "stderr",
     "output_type": "stream",
     "text": [
      "                                                                                \r"
     ]
    },
    {
     "name": "stdout",
     "output_type": "stream",
     "text": [
      "+-------+-------------------+-----------+-----------+---------+-------------------------+-------------------------+\n",
      "|tx_id  |tx_datetime        |customer_id|terminal_id|tx_amount|row_created_timestamp    |row_updated_timestamp    |\n",
      "+-------+-------------------+-----------+-----------+---------+-------------------------+-------------------------+\n",
      "|2051528|2025-01-01 02:07:39|2405       |7044       |41.65    |2025-02-13 21:31:08.09608|2025-02-13 21:31:08.09608|\n",
      "|2051661|2025-01-01 02:49:43|2249       |3336       |15.23    |2025-02-13 21:31:08.09608|2025-02-13 21:31:08.09608|\n",
      "|2052048|2025-01-01 04:33:58|4535       |401        |67.42    |2025-02-13 21:31:08.09608|2025-02-13 21:31:08.09608|\n",
      "|2051507|2025-01-01 01:54:30|4693       |1159       |97.03    |2025-02-13 21:31:08.09608|2025-02-13 21:31:08.09608|\n",
      "|2051862|2025-01-01 03:44:19|736        |8019       |39.72    |2025-02-13 21:31:08.09608|2025-02-13 21:31:08.09608|\n",
      "|2051919|2025-01-01 04:01:07|2674       |8291       |6.39     |2025-02-13 21:31:08.09608|2025-02-13 21:31:08.09608|\n",
      "|2052112|2025-01-01 04:45:10|2078       |6520       |44.20    |2025-02-13 21:31:08.09608|2025-02-13 21:31:08.09608|\n",
      "|2052198|2025-01-01 04:59:14|2603       |7739       |13.42    |2025-02-13 21:31:08.09608|2025-02-13 21:31:08.09608|\n",
      "|2052313|2025-01-01 05:18:42|526        |6767       |141.49   |2025-02-13 21:31:08.09608|2025-02-13 21:31:08.09608|\n",
      "|2052315|2025-01-01 05:19:31|1861       |819        |92.91    |2025-02-13 21:31:08.09608|2025-02-13 21:31:08.09608|\n",
      "|2051538|2025-01-01 02:10:27|2648       |2048       |14.03    |2025-02-13 21:31:08.09608|2025-02-13 21:31:08.09608|\n",
      "|2051579|2025-01-01 02:27:01|3936       |3608       |17.76    |2025-02-13 21:31:08.09608|2025-02-13 21:31:08.09608|\n",
      "|2052293|2025-01-01 05:15:44|1510       |1512       |57.03    |2025-02-13 21:31:08.09608|2025-02-13 21:31:08.09608|\n",
      "|2052318|2025-01-01 05:20:09|1400       |6917       |31.73    |2025-02-13 21:31:08.09608|2025-02-13 21:31:08.09608|\n",
      "|2051422|2025-01-01 01:10:23|4396       |763        |88.76    |2025-02-13 21:31:08.09608|2025-02-13 21:31:08.09608|\n",
      "|2051675|2025-01-01 02:53:06|3279       |268        |96.58    |2025-02-13 21:31:08.09608|2025-02-13 21:31:08.09608|\n",
      "|2052137|2025-01-01 04:50:13|2380       |1327       |53.79    |2025-02-13 21:31:08.09608|2025-02-13 21:31:08.09608|\n",
      "|2052154|2025-01-01 04:52:35|4612       |8900       |120.37   |2025-02-13 21:31:08.09608|2025-02-13 21:31:08.09608|\n",
      "|2051350|2025-01-01 00:19:52|3542       |4819       |34.19    |2025-02-13 21:31:08.09608|2025-02-13 21:31:08.09608|\n",
      "|2051411|2025-01-01 01:06:34|655        |49         |160.48   |2025-02-13 21:31:08.09608|2025-02-13 21:31:08.09608|\n",
      "+-------+-------------------+-----------+-----------+---------+-------------------------+-------------------------+\n",
      "only showing top 20 rows\n",
      "\n"
     ]
    }
   ],
   "source": [
    "execute_query(\"\"\"Select * from transactions\"\"\")"
   ]
  },
  {
   "cell_type": "code",
   "execution_count": null,
   "metadata": {},
   "outputs": [],
   "source": [
    "# # 100 data (txn_Date_time) -> t - 1 customer_id \n",
    "\n",
    "# execute_query(\"\"\"\n",
    "# select  customer_id,current_date as dt,\n",
    "#         count(*) as customer_id_nb_tx_1day_window,\n",
    "#       avg(tx_amount) as customer_id_avg_amount_1day_window\n",
    "#         from transactions  where date(tx_datetime) = current_date -1\n",
    "#         group by customer_id,tx_datetime\n",
    "# \"\"\")"
   ]
  },
  {
   "cell_type": "code",
   "execution_count": null,
   "metadata": {},
   "outputs": [],
   "source": [
    "\n",
    "# execute_query(\"\"\"\n",
    "# select  customer_id,current_date as dt,\n",
    "#         count(*) as customer_id_nb_tx_7day_window,\n",
    "#         avg(tx_amount) as customer_id_avg_amount_7day_window\n",
    "#         from transactions  where date(tx_datetime) between current_date -7 and current_date\n",
    "#         group by customer_id,tx_datetime\n",
    "# \"\"\")"
   ]
  },
  {
   "cell_type": "code",
   "execution_count": null,
   "metadata": {},
   "outputs": [],
   "source": [
    "\n",
    "# execute_query(\"\"\"\n",
    "# select  customer_id,current_date as dt,\n",
    "#         count(*) as customer_id_nb_tx_30day_window,\n",
    "#         avg(tx_amount) as customer_id_avg_amount_30day_window\n",
    "#         from transactions  where date(tx_datetime) between current_date -30 and current_date\n",
    "#         group by customer_id,tx_datetime\n",
    "# \"\"\")"
   ]
  },
  {
   "cell_type": "code",
   "execution_count": 7,
   "metadata": {},
   "outputs": [
    {
     "name": "stdout",
     "output_type": "stream",
     "text": [
      "++\n",
      "||\n",
      "++\n",
      "++\n",
      "\n"
     ]
    }
   ],
   "source": [
    "execute_query(\"\"\"create or replace temp view latest_data as \n",
    "WITH one_day_window AS (\n",
    "    SELECT  \n",
    "        customer_id,\n",
    "        \n",
    "        COUNT(*) AS customer_id_nb_tx_1day_window,\n",
    "        AVG(tx_amount) AS customer_id_avg_amount_1day_window\n",
    "    FROM transactions\n",
    "    WHERE date(tx_datetime) = current_date - 1\n",
    "    GROUP BY customer_id\n",
    "),\n",
    "seven_day_window AS (\n",
    "    SELECT  \n",
    "        customer_id,\n",
    "        COUNT(*) AS customer_id_nb_tx_7day_window,\n",
    "        AVG(tx_amount) AS customer_id_avg_amount_7day_window\n",
    "    FROM transactions\n",
    "    WHERE date(tx_datetime) BETWEEN current_date - 7 AND current_date\n",
    "    GROUP BY customer_id\n",
    "),\n",
    "thirty_day_window AS (\n",
    "    SELECT  \n",
    "        customer_id,\n",
    "        COUNT(*) AS customer_id_nb_tx_30day_window,\n",
    "        AVG(tx_amount) AS customer_id_avg_amount_30day_window\n",
    "    FROM transactions\n",
    "    WHERE date(tx_datetime) BETWEEN current_date - 30 AND current_date\n",
    "    GROUP BY customer_id\n",
    ")\n",
    "SELECT \n",
    "    one_day.customer_id,\n",
    "    current_date AS dt,\n",
    "    one_day.customer_id_nb_tx_1day_window,\n",
    "    one_day.customer_id_avg_amount_1day_window,\n",
    "    seven_day.customer_id_nb_tx_7day_window,\n",
    "    seven_day.customer_id_avg_amount_7day_window,\n",
    "    thirty_day.customer_id_nb_tx_30day_window,\n",
    "    thirty_day.customer_id_avg_amount_30day_window\n",
    "FROM one_day_window AS one_day\n",
    "LEFT JOIN seven_day_window AS seven_day\n",
    "    ON one_day.customer_id = seven_day.customer_id \n",
    "LEFT JOIN thirty_day_window AS thirty_day\n",
    "    ON one_day.customer_id = thirty_day.customer_id\n",
    "\"\"\")\n"
   ]
  },
  {
   "cell_type": "code",
   "execution_count": 8,
   "metadata": {},
   "outputs": [
    {
     "name": "stdout",
     "output_type": "stream",
     "text": [
      "+-----------+---+-----------------------------+----------------------------------+-----------------------------+----------------------------------+------------------------------+-----------------------------------+\n",
      "|customer_id|dt |customer_id_nb_tx_1day_window|customer_id_avg_amount_1day_window|customer_id_nb_tx_7day_window|customer_id_avg_amount_7day_window|customer_id_nb_tx_30day_window|customer_id_avg_amount_30day_window|\n",
      "+-----------+---+-----------------------------+----------------------------------+-----------------------------+----------------------------------+------------------------------+-----------------------------------+\n",
      "+-----------+---+-----------------------------+----------------------------------+-----------------------------+----------------------------------+------------------------------+-----------------------------------+\n",
      "\n"
     ]
    }
   ],
   "source": [
    "execute_query(\"\"\" select * from latest_data\"\"\")"
   ]
  },
  {
   "cell_type": "code",
   "execution_count": 9,
   "metadata": {},
   "outputs": [
    {
     "data": {
      "text/plain": [
       "<bound method DataFrame.show of DataFrame[tx_id: int, tx_datetime: timestamp, customer_id: int, terminal_id: int, tx_amount: decimal(10,2), row_created_timestamp: timestamp, row_updated_timestamp: timestamp]>"
      ]
     },
     "execution_count": 9,
     "metadata": {},
     "output_type": "execute_result"
    }
   ],
   "source": [
    "df.show"
   ]
  },
  {
   "cell_type": "code",
   "execution_count": 10,
   "metadata": {},
   "outputs": [
    {
     "name": "stdout",
     "output_type": "stream",
     "text": [
      "++\n",
      "||\n",
      "++\n",
      "++\n",
      "\n"
     ]
    },
    {
     "ename": "AttributeError",
     "evalue": "'NoneType' object has no attribute 'show'",
     "output_type": "error",
     "traceback": [
      "\u001b[0;31m---------------------------------------------------------------------------\u001b[0m",
      "\u001b[0;31mAttributeError\u001b[0m                            Traceback (most recent call last)",
      "Cell \u001b[0;32mIn[10], line 16\u001b[0m\n\u001b[1;32m      1\u001b[0m \u001b[43mexecute_query\u001b[49m\u001b[43m(\u001b[49m\u001b[38;5;124;43m\"\"\"\u001b[39;49m\n\u001b[1;32m      2\u001b[0m \u001b[38;5;124;43mCREATE TABLE IF NOT EXISTS payment.feature_customer (\u001b[39;49m\n\u001b[1;32m      3\u001b[0m \u001b[38;5;124;43m    customer_id INT,\u001b[39;49m\n\u001b[1;32m      4\u001b[0m \u001b[38;5;124;43m    customer_id_nb_tx_1day_window INT,\u001b[39;49m\n\u001b[1;32m      5\u001b[0m \u001b[38;5;124;43m    customer_id_avg_amount_1day_window FLOAT,\u001b[39;49m\n\u001b[1;32m      6\u001b[0m \u001b[38;5;124;43m    customer_id_nb_tx_7day_window INT,\u001b[39;49m\n\u001b[1;32m      7\u001b[0m \u001b[38;5;124;43m    customer_id_avg_amount_7day_window FLOAT,\u001b[39;49m\n\u001b[1;32m      8\u001b[0m \u001b[38;5;124;43m    customer_id_nb_tx_30day_window INT,\u001b[39;49m\n\u001b[1;32m      9\u001b[0m \u001b[38;5;124;43m    customer_id_avg_amount_30day_window FLOAT,\u001b[39;49m\n\u001b[1;32m     10\u001b[0m \u001b[38;5;124;43m    x_location FLOAT,\u001b[39;49m\n\u001b[1;32m     11\u001b[0m \u001b[38;5;124;43m    y_location FLOAT,\u001b[39;49m\n\u001b[1;32m     12\u001b[0m \u001b[38;5;124;43m    row_created_timestamp TIMESTAMP,\u001b[39;49m\n\u001b[1;32m     13\u001b[0m \u001b[38;5;124;43m    row_updated_timestamp TIMESTAMP\u001b[39;49m\n\u001b[1;32m     14\u001b[0m \u001b[38;5;124;43m)\u001b[39;49m\n\u001b[1;32m     15\u001b[0m \u001b[38;5;124;43mUSING iceberg\u001b[39;49m\n\u001b[0;32m---> 16\u001b[0m \u001b[38;5;124;43m\"\"\"\u001b[39;49m\u001b[43m)\u001b[49m\u001b[38;5;241;43m.\u001b[39;49m\u001b[43mshow\u001b[49m(truncate\u001b[38;5;241m=\u001b[39m\u001b[38;5;28;01mFalse\u001b[39;00m)\n",
      "\u001b[0;31mAttributeError\u001b[0m: 'NoneType' object has no attribute 'show'"
     ]
    }
   ],
   "source": [
    "execute_query(\"\"\"\n",
    "CREATE TABLE IF NOT EXISTS payment.feature_customer (\n",
    "    customer_id INT,\n",
    "    customer_id_nb_tx_1day_window INT,\n",
    "    customer_id_avg_amount_1day_window FLOAT,\n",
    "    customer_id_nb_tx_7day_window INT,\n",
    "    customer_id_avg_amount_7day_window FLOAT,\n",
    "    customer_id_nb_tx_30day_window INT,\n",
    "    customer_id_avg_amount_30day_window FLOAT,\n",
    "    x_location FLOAT,\n",
    "    y_location FLOAT,\n",
    "    row_created_timestamp TIMESTAMP,\n",
    "    row_updated_timestamp TIMESTAMP\n",
    ")\n",
    "USING iceberg\n",
    "\"\"\").show(truncate=False)\n",
    "\n"
   ]
  },
  {
   "cell_type": "code",
   "execution_count": null,
   "metadata": {},
   "outputs": [],
   "source": []
  }
 ],
 "metadata": {
  "kernelspec": {
   "display_name": ".venv",
   "language": "python",
   "name": "python3"
  },
  "language_info": {
   "codemirror_mode": {
    "name": "ipython",
    "version": 3
   },
   "file_extension": ".py",
   "mimetype": "text/x-python",
   "name": "python",
   "nbconvert_exporter": "python",
   "pygments_lexer": "ipython3",
   "version": "3.11.10"
  }
 },
 "nbformat": 4,
 "nbformat_minor": 2
}
