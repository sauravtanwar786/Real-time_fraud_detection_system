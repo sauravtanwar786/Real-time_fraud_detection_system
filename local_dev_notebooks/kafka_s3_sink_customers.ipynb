{
 "cells": [
  {
   "cell_type": "markdown",
   "metadata": {},
   "source": [
    "# production code"
   ]
  },
  {
   "cell_type": "code",
   "execution_count": 2,
   "metadata": {},
   "outputs": [],
   "source": [
    "from pyspark.sql import SparkSession\n",
    "from pyspark.sql.types import StringType\n",
    "from pyspark.sql.functions import col\n",
    "from pyspark.sql.types import StringType, StructType, StructField\n"
   ]
  },
  {
   "cell_type": "code",
   "execution_count": 2,
   "metadata": {},
   "outputs": [
    {
     "name": "stderr",
     "output_type": "stream",
     "text": [
      "25/02/10 22:13:04 WARN Utils: Your hostname, Gauravs-MacBook-Air-3.local resolves to a loopback address: 127.0.0.1; using 192.168.1.10 instead (on interface en0)\n",
      "25/02/10 22:13:04 WARN Utils: Set SPARK_LOCAL_IP if you need to bind to another address\n"
     ]
    },
    {
     "name": "stdout",
     "output_type": "stream",
     "text": [
      ":: loading settings :: url = jar:file:/Users/saurabh/Library/Caches/pypoetry/virtualenvs/realtime-fraud-detection-system-eUiKKk2v-py3.13/lib/python3.13/site-packages/pyspark/jars/ivy-2.5.1.jar!/org/apache/ivy/core/settings/ivysettings.xml\n"
     ]
    },
    {
     "name": "stderr",
     "output_type": "stream",
     "text": [
      "Ivy Default Cache set to: /Users/saurabh/.ivy2/cache\n",
      "The jars for the packages stored in: /Users/saurabh/.ivy2/jars\n",
      "org.apache.spark#spark-sql-kafka-0-10_2.12 added as a dependency\n",
      "org.apache.iceberg#iceberg-spark-runtime-3.5_2.12 added as a dependency\n",
      "org.apache.hadoop#hadoop-aws added as a dependency\n",
      ":: resolving dependencies :: org.apache.spark#spark-submit-parent-ba0a1697-3bdc-474f-b48a-19ff0897d01d;1.0\n",
      "\tconfs: [default]\n",
      "\tfound org.apache.spark#spark-sql-kafka-0-10_2.12;3.3.1 in central\n",
      "\tfound org.apache.spark#spark-token-provider-kafka-0-10_2.12;3.3.1 in central\n",
      "\tfound org.apache.kafka#kafka-clients;2.8.1 in central\n",
      "\tfound org.lz4#lz4-java;1.8.0 in central\n",
      "\tfound org.xerial.snappy#snappy-java;1.1.8.4 in central\n",
      "\tfound org.slf4j#slf4j-api;1.7.32 in central\n",
      "\tfound org.apache.hadoop#hadoop-client-runtime;3.3.2 in central\n",
      "\tfound org.spark-project.spark#unused;1.0.0 in central\n",
      "\tfound org.apache.hadoop#hadoop-client-api;3.3.2 in central\n",
      "\tfound commons-logging#commons-logging;1.1.3 in central\n",
      "\tfound com.google.code.findbugs#jsr305;3.0.0 in central\n",
      "\tfound org.apache.commons#commons-pool2;2.11.1 in central\n",
      "\tfound org.apache.iceberg#iceberg-spark-runtime-3.5_2.12;1.7.1 in central\n",
      "\tfound org.apache.hadoop#hadoop-aws;3.3.2 in central\n",
      "\tfound com.amazonaws#aws-java-sdk-bundle;1.11.1026 in central\n",
      "\tfound org.wildfly.openssl#wildfly-openssl;1.0.7.Final in central\n",
      ":: resolution report :: resolve 1341ms :: artifacts dl 46ms\n",
      "\t:: modules in use:\n",
      "\tcom.amazonaws#aws-java-sdk-bundle;1.11.1026 from central in [default]\n",
      "\tcom.google.code.findbugs#jsr305;3.0.0 from central in [default]\n",
      "\tcommons-logging#commons-logging;1.1.3 from central in [default]\n",
      "\torg.apache.commons#commons-pool2;2.11.1 from central in [default]\n",
      "\torg.apache.hadoop#hadoop-aws;3.3.2 from central in [default]\n",
      "\torg.apache.hadoop#hadoop-client-api;3.3.2 from central in [default]\n",
      "\torg.apache.hadoop#hadoop-client-runtime;3.3.2 from central in [default]\n",
      "\torg.apache.iceberg#iceberg-spark-runtime-3.5_2.12;1.7.1 from central in [default]\n",
      "\torg.apache.kafka#kafka-clients;2.8.1 from central in [default]\n",
      "\torg.apache.spark#spark-sql-kafka-0-10_2.12;3.3.1 from central in [default]\n",
      "\torg.apache.spark#spark-token-provider-kafka-0-10_2.12;3.3.1 from central in [default]\n",
      "\torg.lz4#lz4-java;1.8.0 from central in [default]\n",
      "\torg.slf4j#slf4j-api;1.7.32 from central in [default]\n",
      "\torg.spark-project.spark#unused;1.0.0 from central in [default]\n",
      "\torg.wildfly.openssl#wildfly-openssl;1.0.7.Final from central in [default]\n",
      "\torg.xerial.snappy#snappy-java;1.1.8.4 from central in [default]\n",
      "\t---------------------------------------------------------------------\n",
      "\t|                  |            modules            ||   artifacts   |\n",
      "\t|       conf       | number| search|dwnlded|evicted|| number|dwnlded|\n",
      "\t---------------------------------------------------------------------\n",
      "\t|      default     |   16  |   0   |   0   |   0   ||   16  |   0   |\n",
      "\t---------------------------------------------------------------------\n",
      ":: retrieving :: org.apache.spark#spark-submit-parent-ba0a1697-3bdc-474f-b48a-19ff0897d01d\n",
      "\tconfs: [default]\n",
      "\t0 artifacts copied, 16 already retrieved (0kB/30ms)\n",
      "25/02/10 22:13:07 WARN NativeCodeLoader: Unable to load native-hadoop library for your platform... using builtin-java classes where applicable\n",
      "Setting default log level to \"WARN\".\n",
      "To adjust logging level use sc.setLogLevel(newLevel). For SparkR, use setLogLevel(newLevel).\n"
     ]
    }
   ],
   "source": [
    "from pyspark.sql import SparkSession\n",
    "spark = (SparkSession.builder\n",
    "                .config(\"spark.jars.packages\", \"org.apache.spark:spark-sql-kafka-0-10_2.12:3.3.1,org.apache.iceberg:iceberg-spark-runtime-3.5_2.12:1.7.1,org.apache.hadoop:hadoop-aws:3.3.2\")\n",
    "                .config(\"spark.hadoop.fs.s3a.endpoint\", \"http://localhost:9000\") \n",
    "                .config(\"spark.hadoop.fs.s3a.access.key\", \"minio\") \n",
    "                .config(\"spark.hadoop.fs.s3a.secret.key\", \"minio123\") \n",
    "                .config(\"spark.hadoop.fs.s3a.path.style.access\", \"true\") \n",
    "                .config(\"spark.hadoop.fs.s3a.impl\", \"org.apache.hadoop.fs.s3a.S3AFileSystem\")\n",
    "                .config(\"spark.sql.catalog.spark_catalog\", \"org.apache.iceberg.spark.SparkSessionCatalog\")\n",
    "                .config(\"spark.sql.catalog.spark_catalog.type\", \"hadoop\")\n",
    "                .config(\"spark.sql.catalog.spark_catalog.warehouse\", \"s3a://commerce/warehouse/\") \n",
    "                .config(\"spark.sql.extensions\", \"org.apache.iceberg.spark.extensions.IcebergSparkSessionExtensions\") \n",
    "                .appName(\"Kafka to MinIO Pipeline\")\n",
    "         .getOrCreate())"
   ]
  },
  {
   "cell_type": "code",
   "execution_count": 60,
   "metadata": {},
   "outputs": [],
   "source": [
    "def execute_query(query: str):\n",
    "    spark.sql(query).show(truncate=False)"
   ]
  },
  {
   "cell_type": "code",
   "execution_count": 61,
   "metadata": {},
   "outputs": [],
   "source": [
    "# Kafka configurations\n",
    "kafka_brokers = \"localhost:9093\"  # Update with your Kafka broker address\n",
    "kafka_topic = \"debezium.payment.customers\"\n",
    "# Read data from Kafka (batch mode)\n",
    "kafka_df = spark.read \\\n",
    "    .format(\"kafka\") \\\n",
    "    .option(\"kafka.bootstrap.servers\", kafka_brokers) \\\n",
    "    .option(\"subscribe\", kafka_topic) \\\n",
    "    .option(\"startingOffsets\", \"earliest\") \\\n",
    "    .load()"
   ]
  },
  {
   "cell_type": "code",
   "execution_count": 62,
   "metadata": {},
   "outputs": [
    {
     "name": "stdout",
     "output_type": "stream",
     "text": [
      "root\n",
      " |-- key: binary (nullable = true)\n",
      " |-- value: binary (nullable = true)\n",
      " |-- topic: string (nullable = true)\n",
      " |-- partition: integer (nullable = true)\n",
      " |-- offset: long (nullable = true)\n",
      " |-- timestamp: timestamp (nullable = true)\n",
      " |-- timestampType: integer (nullable = true)\n",
      "\n"
     ]
    }
   ],
   "source": [
    "kafka_df.printSchema()"
   ]
  },
  {
   "cell_type": "code",
   "execution_count": 63,
   "metadata": {},
   "outputs": [],
   "source": [
    "from pyspark.sql.types import StructType, StructField, IntegerType, DoubleType, StringType, LongType\n",
    "\n",
    "# Define the schema for the JSON messages\n",
    "column_schema = StructType([\n",
    "StructField(\"schema\", StringType(), False),\n",
    "StructField(\"payload\", StructType([\n",
    "    StructField(\"before\", StructType([\n",
    "        StructField(\"customer_id\", IntegerType(), False),\n",
    "        StructField(\"x_location\", DoubleType(), False),\n",
    "        StructField(\"y_location\", DoubleType(), False)\n",
    "    ]), True),\n",
    "    StructField(\"after\", StructType([\n",
    "        StructField(\"customer_id\", IntegerType(), False),\n",
    "        StructField(\"x_location\", DoubleType(), False),\n",
    "        StructField(\"y_location\", DoubleType(), False)\n",
    "    ]), True),\n",
    "    StructField(\"source\", StructType([\n",
    "        StructField(\"version\", StringType(), False),\n",
    "        StructField(\"connector\", StringType(), False),\n",
    "        StructField(\"name\", StringType(), False),\n",
    "        StructField(\"ts_ms\", LongType(), False),\n",
    "        StructField(\"snapshot\", StringType(), True),\n",
    "        StructField(\"db\", StringType(), False),\n",
    "        StructField(\"sequence\", StringType(), True),\n",
    "        StructField(\"ts_us\", LongType(), True),\n",
    "        StructField(\"ts_ns\", LongType(), True),\n",
    "        StructField(\"schema\", StringType(), False),\n",
    "        StructField(\"table\", StringType(), False),\n",
    "        StructField(\"txId\", LongType(), True),\n",
    "        StructField(\"lsn\", LongType(), True),\n",
    "        StructField(\"xmin\", LongType(), True)\n",
    "    ]), False),\n",
    "    StructField(\"transaction\", StructType([\n",
    "        StructField(\"id\", StringType(), False),\n",
    "        StructField(\"total_order\", LongType(), False),\n",
    "        StructField(\"data_collection_order\", LongType(), False)\n",
    "    ]), True),\n",
    "    StructField(\"op\", StringType(), False),\n",
    "    StructField(\"ts_ms\", LongType(), True),\n",
    "    StructField(\"ts_us\", LongType(), True),\n",
    "    StructField(\"ts_ns\", LongType(), True)\n",
    "]))])\n",
    "\n",
    "from pyspark.sql.functions import from_json\n",
    "\n",
    "kafka_df = kafka_df.withColumn(\"value\", col(\"value\").cast(StringType())) \\\n",
    "    .withColumn(\"key\", col(\"key\").cast(StringType()))\n",
    "# Apply the schema to the DataFrame\n",
    "kafka_df = kafka_df.withColumn(\"value\", from_json(\"value\", column_schema))\n",
    "kafka_df.createOrReplaceTempView(\"kafkadata\")"
   ]
  },
  {
   "cell_type": "code",
   "execution_count": 65,
   "metadata": {},
   "outputs": [
    {
     "name": "stderr",
     "output_type": "stream",
     "text": [
      "25/02/10 23:32:14 WARN AdminClientConfig: The configuration 'key.deserializer' was supplied but isn't a known config.\n",
      "25/02/10 23:32:14 WARN AdminClientConfig: The configuration 'value.deserializer' was supplied but isn't a known config.\n",
      "25/02/10 23:32:14 WARN AdminClientConfig: The configuration 'enable.auto.commit' was supplied but isn't a known config.\n",
      "25/02/10 23:32:14 WARN AdminClientConfig: The configuration 'max.poll.records' was supplied but isn't a known config.\n",
      "25/02/10 23:32:14 WARN AdminClientConfig: The configuration 'auto.offset.reset' was supplied but isn't a known config.\n",
      "[Stage 28:>                                                         (0 + 1) / 1]\r"
     ]
    },
    {
     "name": "stdout",
     "output_type": "stream",
     "text": [
      "+-------------------------------------------------------------------------------------------------------------------------------------------------------------------------------------------------+--------------------------------------------------------------------------------------------------------------------------------------------------------------------------------------------------------------------------------------------------------------------------------------------------------------------------------------------------------------------------------------------------------------------------------------------------------------------------------------------------------------------------------------------------------------------------------------------------------------------------------------------------------------------------------------------------------------------------------------------------------------------------------------------------------------------------------------------------------------------------------------------------------------------------------------------------------------------------------------------------------------------------------------------------------------------------------------------------------------------------------------------------------------------------------------------------------------------------------------------------------------------------------------------------------------------------------------------------------------------------------------------------------------------------------------------------------------------------------------------------------------------------------------------------------------------------------------------------------------------------------------------------------------------------------------------------------------------------------------------------------------------------------------------------------------------------------------------------------------------------------------------------------------------------------------------------------------------------------------------------------------------------------------------------------------------------------------------------------------------------------------------------------------------------------------------------------------------------------------------------------------------------------------------------------------------------------------------------------------------------------------------------------------------------------------------------------+--------------------------+---------+------+-----------------------+-------------+\n",
      "|key                                                                                                                                                                                              |value                                                                                                                                                                                                                                                                                                                                                                                                                                                                                                                                                                                                                                                                                                                                                                                                                                                                                                                                                                                                                                                                                                                                                                                                                                                                                                                                                                                                                                                                                                                                                                                                                                                                                                                                                                                                                                                                                                                                                                                                                                                                                                                                                                                                                                                                                                                                                                                                                                                   |topic                     |partition|offset|timestamp              |timestampType|\n",
      "+-------------------------------------------------------------------------------------------------------------------------------------------------------------------------------------------------+--------------------------------------------------------------------------------------------------------------------------------------------------------------------------------------------------------------------------------------------------------------------------------------------------------------------------------------------------------------------------------------------------------------------------------------------------------------------------------------------------------------------------------------------------------------------------------------------------------------------------------------------------------------------------------------------------------------------------------------------------------------------------------------------------------------------------------------------------------------------------------------------------------------------------------------------------------------------------------------------------------------------------------------------------------------------------------------------------------------------------------------------------------------------------------------------------------------------------------------------------------------------------------------------------------------------------------------------------------------------------------------------------------------------------------------------------------------------------------------------------------------------------------------------------------------------------------------------------------------------------------------------------------------------------------------------------------------------------------------------------------------------------------------------------------------------------------------------------------------------------------------------------------------------------------------------------------------------------------------------------------------------------------------------------------------------------------------------------------------------------------------------------------------------------------------------------------------------------------------------------------------------------------------------------------------------------------------------------------------------------------------------------------------------------------------------------------+--------------------------+---------+------+-----------------------+-------------+\n",
      "|{\"schema\":{\"type\":\"struct\",\"fields\":[{\"type\":\"int32\",\"optional\":false,\"default\":0,\"field\":\"customer_id\"}],\"optional\":false,\"name\":\"debezium.payment.customers.Key\"},\"payload\":{\"customer_id\":0}} |{{\"type\":\"struct\",\"fields\":[{\"type\":\"struct\",\"fields\":[{\"type\":\"int32\",\"optional\":false,\"default\":0,\"field\":\"customer_id\"},{\"type\":\"double\",\"optional\":false,\"field\":\"x_location\"},{\"type\":\"double\",\"optional\":false,\"field\":\"y_location\"}],\"optional\":true,\"name\":\"debezium.payment.customers.Value\",\"field\":\"before\"},{\"type\":\"struct\",\"fields\":[{\"type\":\"int32\",\"optional\":false,\"default\":0,\"field\":\"customer_id\"},{\"type\":\"double\",\"optional\":false,\"field\":\"x_location\"},{\"type\":\"double\",\"optional\":false,\"field\":\"y_location\"}],\"optional\":true,\"name\":\"debezium.payment.customers.Value\",\"field\":\"after\"},{\"type\":\"struct\",\"fields\":[{\"type\":\"string\",\"optional\":false,\"field\":\"version\"},{\"type\":\"string\",\"optional\":false,\"field\":\"connector\"},{\"type\":\"string\",\"optional\":false,\"field\":\"name\"},{\"type\":\"int64\",\"optional\":false,\"field\":\"ts_ms\"},{\"type\":\"string\",\"optional\":true,\"name\":\"io.debezium.data.Enum\",\"version\":1,\"parameters\":{\"allowed\":\"true,last,false,incremental\"},\"default\":\"false\",\"field\":\"snapshot\"},{\"type\":\"string\",\"optional\":false,\"field\":\"db\"},{\"type\":\"string\",\"optional\":true,\"field\":\"sequence\"},{\"type\":\"int64\",\"optional\":true,\"field\":\"ts_us\"},{\"type\":\"int64\",\"optional\":true,\"field\":\"ts_ns\"},{\"type\":\"string\",\"optional\":false,\"field\":\"schema\"},{\"type\":\"string\",\"optional\":false,\"field\":\"table\"},{\"type\":\"int64\",\"optional\":true,\"field\":\"txId\"},{\"type\":\"int64\",\"optional\":true,\"field\":\"lsn\"},{\"type\":\"int64\",\"optional\":true,\"field\":\"xmin\"}],\"optional\":false,\"name\":\"io.debezium.connector.postgresql.Source\",\"field\":\"source\"},{\"type\":\"struct\",\"fields\":[{\"type\":\"string\",\"optional\":false,\"field\":\"id\"},{\"type\":\"int64\",\"optional\":false,\"field\":\"total_order\"},{\"type\":\"int64\",\"optional\":false,\"field\":\"data_collection_order\"}],\"optional\":true,\"name\":\"event.block\",\"version\":1,\"field\":\"transaction\"},{\"type\":\"string\",\"optional\":false,\"field\":\"op\"},{\"type\":\"int64\",\"optional\":true,\"field\":\"ts_ms\"},{\"type\":\"int64\",\"optional\":true,\"field\":\"ts_us\"},{\"type\":\"int64\",\"optional\":true,\"field\":\"ts_ns\"}],\"optional\":false,\"name\":\"debezium.payment.customers.Envelope\",\"version\":2}, {NULL, {0, 54.88135, 71.518937}, {2.7.3.Final, postgresql, debezium, 1739205449775, first, postgres, [null,\"23319736\"], 1739205449775533, 1739205449775533000, payment, customers, 750, 23319736, NULL}, NULL, r, 1739205449900, 1739205449900961, 1739205449900961095}}                         |debezium.payment.customers|0        |0     |2025-02-10 22:07:30.271|0            |\n",
      "|{\"schema\":{\"type\":\"struct\",\"fields\":[{\"type\":\"int32\",\"optional\":false,\"default\":0,\"field\":\"customer_id\"}],\"optional\":false,\"name\":\"debezium.payment.customers.Key\"},\"payload\":{\"customer_id\":1}} |{{\"type\":\"struct\",\"fields\":[{\"type\":\"struct\",\"fields\":[{\"type\":\"int32\",\"optional\":false,\"default\":0,\"field\":\"customer_id\"},{\"type\":\"double\",\"optional\":false,\"field\":\"x_location\"},{\"type\":\"double\",\"optional\":false,\"field\":\"y_location\"}],\"optional\":true,\"name\":\"debezium.payment.customers.Value\",\"field\":\"before\"},{\"type\":\"struct\",\"fields\":[{\"type\":\"int32\",\"optional\":false,\"default\":0,\"field\":\"customer_id\"},{\"type\":\"double\",\"optional\":false,\"field\":\"x_location\"},{\"type\":\"double\",\"optional\":false,\"field\":\"y_location\"}],\"optional\":true,\"name\":\"debezium.payment.customers.Value\",\"field\":\"after\"},{\"type\":\"struct\",\"fields\":[{\"type\":\"string\",\"optional\":false,\"field\":\"version\"},{\"type\":\"string\",\"optional\":false,\"field\":\"connector\"},{\"type\":\"string\",\"optional\":false,\"field\":\"name\"},{\"type\":\"int64\",\"optional\":false,\"field\":\"ts_ms\"},{\"type\":\"string\",\"optional\":true,\"name\":\"io.debezium.data.Enum\",\"version\":1,\"parameters\":{\"allowed\":\"true,last,false,incremental\"},\"default\":\"false\",\"field\":\"snapshot\"},{\"type\":\"string\",\"optional\":false,\"field\":\"db\"},{\"type\":\"string\",\"optional\":true,\"field\":\"sequence\"},{\"type\":\"int64\",\"optional\":true,\"field\":\"ts_us\"},{\"type\":\"int64\",\"optional\":true,\"field\":\"ts_ns\"},{\"type\":\"string\",\"optional\":false,\"field\":\"schema\"},{\"type\":\"string\",\"optional\":false,\"field\":\"table\"},{\"type\":\"int64\",\"optional\":true,\"field\":\"txId\"},{\"type\":\"int64\",\"optional\":true,\"field\":\"lsn\"},{\"type\":\"int64\",\"optional\":true,\"field\":\"xmin\"}],\"optional\":false,\"name\":\"io.debezium.connector.postgresql.Source\",\"field\":\"source\"},{\"type\":\"struct\",\"fields\":[{\"type\":\"string\",\"optional\":false,\"field\":\"id\"},{\"type\":\"int64\",\"optional\":false,\"field\":\"total_order\"},{\"type\":\"int64\",\"optional\":false,\"field\":\"data_collection_order\"}],\"optional\":true,\"name\":\"event.block\",\"version\":1,\"field\":\"transaction\"},{\"type\":\"string\",\"optional\":false,\"field\":\"op\"},{\"type\":\"int64\",\"optional\":true,\"field\":\"ts_ms\"},{\"type\":\"int64\",\"optional\":true,\"field\":\"ts_us\"},{\"type\":\"int64\",\"optional\":true,\"field\":\"ts_ns\"}],\"optional\":false,\"name\":\"debezium.payment.customers.Envelope\",\"version\":2}, {NULL, {1, 60.276338, 54.488318}, {2.7.3.Final, postgresql, debezium, 1739205449775, true, postgres, [null,\"23319736\"], 1739205449775533, 1739205449775533000, payment, customers, 750, 23319736, NULL}, NULL, r, 1739205449903, 1739205449903027, 1739205449903027178}}                         |debezium.payment.customers|0        |1     |2025-02-10 22:07:30.272|0            |\n",
      "|{\"schema\":{\"type\":\"struct\",\"fields\":[{\"type\":\"int32\",\"optional\":false,\"default\":0,\"field\":\"customer_id\"}],\"optional\":false,\"name\":\"debezium.payment.customers.Key\"},\"payload\":{\"customer_id\":2}} |{{\"type\":\"struct\",\"fields\":[{\"type\":\"struct\",\"fields\":[{\"type\":\"int32\",\"optional\":false,\"default\":0,\"field\":\"customer_id\"},{\"type\":\"double\",\"optional\":false,\"field\":\"x_location\"},{\"type\":\"double\",\"optional\":false,\"field\":\"y_location\"}],\"optional\":true,\"name\":\"debezium.payment.customers.Value\",\"field\":\"before\"},{\"type\":\"struct\",\"fields\":[{\"type\":\"int32\",\"optional\":false,\"default\":0,\"field\":\"customer_id\"},{\"type\":\"double\",\"optional\":false,\"field\":\"x_location\"},{\"type\":\"double\",\"optional\":false,\"field\":\"y_location\"}],\"optional\":true,\"name\":\"debezium.payment.customers.Value\",\"field\":\"after\"},{\"type\":\"struct\",\"fields\":[{\"type\":\"string\",\"optional\":false,\"field\":\"version\"},{\"type\":\"string\",\"optional\":false,\"field\":\"connector\"},{\"type\":\"string\",\"optional\":false,\"field\":\"name\"},{\"type\":\"int64\",\"optional\":false,\"field\":\"ts_ms\"},{\"type\":\"string\",\"optional\":true,\"name\":\"io.debezium.data.Enum\",\"version\":1,\"parameters\":{\"allowed\":\"true,last,false,incremental\"},\"default\":\"false\",\"field\":\"snapshot\"},{\"type\":\"string\",\"optional\":false,\"field\":\"db\"},{\"type\":\"string\",\"optional\":true,\"field\":\"sequence\"},{\"type\":\"int64\",\"optional\":true,\"field\":\"ts_us\"},{\"type\":\"int64\",\"optional\":true,\"field\":\"ts_ns\"},{\"type\":\"string\",\"optional\":false,\"field\":\"schema\"},{\"type\":\"string\",\"optional\":false,\"field\":\"table\"},{\"type\":\"int64\",\"optional\":true,\"field\":\"txId\"},{\"type\":\"int64\",\"optional\":true,\"field\":\"lsn\"},{\"type\":\"int64\",\"optional\":true,\"field\":\"xmin\"}],\"optional\":false,\"name\":\"io.debezium.connector.postgresql.Source\",\"field\":\"source\"},{\"type\":\"struct\",\"fields\":[{\"type\":\"string\",\"optional\":false,\"field\":\"id\"},{\"type\":\"int64\",\"optional\":false,\"field\":\"total_order\"},{\"type\":\"int64\",\"optional\":false,\"field\":\"data_collection_order\"}],\"optional\":true,\"name\":\"event.block\",\"version\":1,\"field\":\"transaction\"},{\"type\":\"string\",\"optional\":false,\"field\":\"op\"},{\"type\":\"int64\",\"optional\":true,\"field\":\"ts_ms\"},{\"type\":\"int64\",\"optional\":true,\"field\":\"ts_us\"},{\"type\":\"int64\",\"optional\":true,\"field\":\"ts_ns\"}],\"optional\":false,\"name\":\"debezium.payment.customers.Envelope\",\"version\":2}, {NULL, {2, 42.36548, 64.589411}, {2.7.3.Final, postgresql, debezium, 1739205449775, true, postgres, [null,\"23319736\"], 1739205449775533, 1739205449775533000, payment, customers, 750, 23319736, NULL}, NULL, r, 1739205449903, 1739205449903145, 1739205449903145386}}                          |debezium.payment.customers|0        |2     |2025-02-10 22:07:30.273|0            |\n",
      "|{\"schema\":{\"type\":\"struct\",\"fields\":[{\"type\":\"int32\",\"optional\":false,\"default\":0,\"field\":\"customer_id\"}],\"optional\":false,\"name\":\"debezium.payment.customers.Key\"},\"payload\":{\"customer_id\":3}} |{{\"type\":\"struct\",\"fields\":[{\"type\":\"struct\",\"fields\":[{\"type\":\"int32\",\"optional\":false,\"default\":0,\"field\":\"customer_id\"},{\"type\":\"double\",\"optional\":false,\"field\":\"x_location\"},{\"type\":\"double\",\"optional\":false,\"field\":\"y_location\"}],\"optional\":true,\"name\":\"debezium.payment.customers.Value\",\"field\":\"before\"},{\"type\":\"struct\",\"fields\":[{\"type\":\"int32\",\"optional\":false,\"default\":0,\"field\":\"customer_id\"},{\"type\":\"double\",\"optional\":false,\"field\":\"x_location\"},{\"type\":\"double\",\"optional\":false,\"field\":\"y_location\"}],\"optional\":true,\"name\":\"debezium.payment.customers.Value\",\"field\":\"after\"},{\"type\":\"struct\",\"fields\":[{\"type\":\"string\",\"optional\":false,\"field\":\"version\"},{\"type\":\"string\",\"optional\":false,\"field\":\"connector\"},{\"type\":\"string\",\"optional\":false,\"field\":\"name\"},{\"type\":\"int64\",\"optional\":false,\"field\":\"ts_ms\"},{\"type\":\"string\",\"optional\":true,\"name\":\"io.debezium.data.Enum\",\"version\":1,\"parameters\":{\"allowed\":\"true,last,false,incremental\"},\"default\":\"false\",\"field\":\"snapshot\"},{\"type\":\"string\",\"optional\":false,\"field\":\"db\"},{\"type\":\"string\",\"optional\":true,\"field\":\"sequence\"},{\"type\":\"int64\",\"optional\":true,\"field\":\"ts_us\"},{\"type\":\"int64\",\"optional\":true,\"field\":\"ts_ns\"},{\"type\":\"string\",\"optional\":false,\"field\":\"schema\"},{\"type\":\"string\",\"optional\":false,\"field\":\"table\"},{\"type\":\"int64\",\"optional\":true,\"field\":\"txId\"},{\"type\":\"int64\",\"optional\":true,\"field\":\"lsn\"},{\"type\":\"int64\",\"optional\":true,\"field\":\"xmin\"}],\"optional\":false,\"name\":\"io.debezium.connector.postgresql.Source\",\"field\":\"source\"},{\"type\":\"struct\",\"fields\":[{\"type\":\"string\",\"optional\":false,\"field\":\"id\"},{\"type\":\"int64\",\"optional\":false,\"field\":\"total_order\"},{\"type\":\"int64\",\"optional\":false,\"field\":\"data_collection_order\"}],\"optional\":true,\"name\":\"event.block\",\"version\":1,\"field\":\"transaction\"},{\"type\":\"string\",\"optional\":false,\"field\":\"op\"},{\"type\":\"int64\",\"optional\":true,\"field\":\"ts_ms\"},{\"type\":\"int64\",\"optional\":true,\"field\":\"ts_us\"},{\"type\":\"int64\",\"optional\":true,\"field\":\"ts_ns\"}],\"optional\":false,\"name\":\"debezium.payment.customers.Envelope\",\"version\":2}, {NULL, {3, 64.589411, 43.758721}, {2.7.3.Final, postgresql, debezium, 1739205449775, true, postgres, [null,\"23319736\"], 1739205449775533, 1739205449775533000, payment, customers, 750, 23319736, NULL}, NULL, r, 1739205449903, 1739205449903228, 1739205449903228053}}                         |debezium.payment.customers|0        |3     |2025-02-10 22:07:30.273|0            |\n",
      "|{\"schema\":{\"type\":\"struct\",\"fields\":[{\"type\":\"int32\",\"optional\":false,\"default\":0,\"field\":\"customer_id\"}],\"optional\":false,\"name\":\"debezium.payment.customers.Key\"},\"payload\":{\"customer_id\":4}} |{{\"type\":\"struct\",\"fields\":[{\"type\":\"struct\",\"fields\":[{\"type\":\"int32\",\"optional\":false,\"default\":0,\"field\":\"customer_id\"},{\"type\":\"double\",\"optional\":false,\"field\":\"x_location\"},{\"type\":\"double\",\"optional\":false,\"field\":\"y_location\"}],\"optional\":true,\"name\":\"debezium.payment.customers.Value\",\"field\":\"before\"},{\"type\":\"struct\",\"fields\":[{\"type\":\"int32\",\"optional\":false,\"default\":0,\"field\":\"customer_id\"},{\"type\":\"double\",\"optional\":false,\"field\":\"x_location\"},{\"type\":\"double\",\"optional\":false,\"field\":\"y_location\"}],\"optional\":true,\"name\":\"debezium.payment.customers.Value\",\"field\":\"after\"},{\"type\":\"struct\",\"fields\":[{\"type\":\"string\",\"optional\":false,\"field\":\"version\"},{\"type\":\"string\",\"optional\":false,\"field\":\"connector\"},{\"type\":\"string\",\"optional\":false,\"field\":\"name\"},{\"type\":\"int64\",\"optional\":false,\"field\":\"ts_ms\"},{\"type\":\"string\",\"optional\":true,\"name\":\"io.debezium.data.Enum\",\"version\":1,\"parameters\":{\"allowed\":\"true,last,false,incremental\"},\"default\":\"false\",\"field\":\"snapshot\"},{\"type\":\"string\",\"optional\":false,\"field\":\"db\"},{\"type\":\"string\",\"optional\":true,\"field\":\"sequence\"},{\"type\":\"int64\",\"optional\":true,\"field\":\"ts_us\"},{\"type\":\"int64\",\"optional\":true,\"field\":\"ts_ns\"},{\"type\":\"string\",\"optional\":false,\"field\":\"schema\"},{\"type\":\"string\",\"optional\":false,\"field\":\"table\"},{\"type\":\"int64\",\"optional\":true,\"field\":\"txId\"},{\"type\":\"int64\",\"optional\":true,\"field\":\"lsn\"},{\"type\":\"int64\",\"optional\":true,\"field\":\"xmin\"}],\"optional\":false,\"name\":\"io.debezium.connector.postgresql.Source\",\"field\":\"source\"},{\"type\":\"struct\",\"fields\":[{\"type\":\"string\",\"optional\":false,\"field\":\"id\"},{\"type\":\"int64\",\"optional\":false,\"field\":\"total_order\"},{\"type\":\"int64\",\"optional\":false,\"field\":\"data_collection_order\"}],\"optional\":true,\"name\":\"event.block\",\"version\":1,\"field\":\"transaction\"},{\"type\":\"string\",\"optional\":false,\"field\":\"op\"},{\"type\":\"int64\",\"optional\":true,\"field\":\"ts_ms\"},{\"type\":\"int64\",\"optional\":true,\"field\":\"ts_us\"},{\"type\":\"int64\",\"optional\":true,\"field\":\"ts_ns\"}],\"optional\":false,\"name\":\"debezium.payment.customers.Envelope\",\"version\":2}, {NULL, {4, 43.758721, 89.1773}, {2.7.3.Final, postgresql, debezium, 1739205449775, true, postgres, [null,\"23319736\"], 1739205449775533, 1739205449775533000, payment, customers, 750, 23319736, NULL}, NULL, r, 1739205449903, 1739205449903308, 1739205449903308803}}                           |debezium.payment.customers|0        |4     |2025-02-10 22:07:30.273|0            |\n",
      "|{\"schema\":{\"type\":\"struct\",\"fields\":[{\"type\":\"int32\",\"optional\":false,\"default\":0,\"field\":\"customer_id\"}],\"optional\":false,\"name\":\"debezium.payment.customers.Key\"},\"payload\":{\"customer_id\":5}} |{{\"type\":\"struct\",\"fields\":[{\"type\":\"struct\",\"fields\":[{\"type\":\"int32\",\"optional\":false,\"default\":0,\"field\":\"customer_id\"},{\"type\":\"double\",\"optional\":false,\"field\":\"x_location\"},{\"type\":\"double\",\"optional\":false,\"field\":\"y_location\"}],\"optional\":true,\"name\":\"debezium.payment.customers.Value\",\"field\":\"before\"},{\"type\":\"struct\",\"fields\":[{\"type\":\"int32\",\"optional\":false,\"default\":0,\"field\":\"customer_id\"},{\"type\":\"double\",\"optional\":false,\"field\":\"x_location\"},{\"type\":\"double\",\"optional\":false,\"field\":\"y_location\"}],\"optional\":true,\"name\":\"debezium.payment.customers.Value\",\"field\":\"after\"},{\"type\":\"struct\",\"fields\":[{\"type\":\"string\",\"optional\":false,\"field\":\"version\"},{\"type\":\"string\",\"optional\":false,\"field\":\"connector\"},{\"type\":\"string\",\"optional\":false,\"field\":\"name\"},{\"type\":\"int64\",\"optional\":false,\"field\":\"ts_ms\"},{\"type\":\"string\",\"optional\":true,\"name\":\"io.debezium.data.Enum\",\"version\":1,\"parameters\":{\"allowed\":\"true,last,false,incremental\"},\"default\":\"false\",\"field\":\"snapshot\"},{\"type\":\"string\",\"optional\":false,\"field\":\"db\"},{\"type\":\"string\",\"optional\":true,\"field\":\"sequence\"},{\"type\":\"int64\",\"optional\":true,\"field\":\"ts_us\"},{\"type\":\"int64\",\"optional\":true,\"field\":\"ts_ns\"},{\"type\":\"string\",\"optional\":false,\"field\":\"schema\"},{\"type\":\"string\",\"optional\":false,\"field\":\"table\"},{\"type\":\"int64\",\"optional\":true,\"field\":\"txId\"},{\"type\":\"int64\",\"optional\":true,\"field\":\"lsn\"},{\"type\":\"int64\",\"optional\":true,\"field\":\"xmin\"}],\"optional\":false,\"name\":\"io.debezium.connector.postgresql.Source\",\"field\":\"source\"},{\"type\":\"struct\",\"fields\":[{\"type\":\"string\",\"optional\":false,\"field\":\"id\"},{\"type\":\"int64\",\"optional\":false,\"field\":\"total_order\"},{\"type\":\"int64\",\"optional\":false,\"field\":\"data_collection_order\"}],\"optional\":true,\"name\":\"event.block\",\"version\":1,\"field\":\"transaction\"},{\"type\":\"string\",\"optional\":false,\"field\":\"op\"},{\"type\":\"int64\",\"optional\":true,\"field\":\"ts_ms\"},{\"type\":\"int64\",\"optional\":true,\"field\":\"ts_us\"},{\"type\":\"int64\",\"optional\":true,\"field\":\"ts_ns\"}],\"optional\":false,\"name\":\"debezium.payment.customers.Envelope\",\"version\":2}, {NULL, {5, 89.1773, 96.366276}, {2.7.3.Final, postgresql, debezium, 1739205449775, true, postgres, [null,\"23319736\"], 1739205449775533, 1739205449775533000, payment, customers, 750, 23319736, NULL}, NULL, r, 1739205449903, 1739205449903398, 1739205449903398761}}                           |debezium.payment.customers|0        |5     |2025-02-10 22:07:30.274|0            |\n",
      "|{\"schema\":{\"type\":\"struct\",\"fields\":[{\"type\":\"int32\",\"optional\":false,\"default\":0,\"field\":\"customer_id\"}],\"optional\":false,\"name\":\"debezium.payment.customers.Key\"},\"payload\":{\"customer_id\":6}} |{{\"type\":\"struct\",\"fields\":[{\"type\":\"struct\",\"fields\":[{\"type\":\"int32\",\"optional\":false,\"default\":0,\"field\":\"customer_id\"},{\"type\":\"double\",\"optional\":false,\"field\":\"x_location\"},{\"type\":\"double\",\"optional\":false,\"field\":\"y_location\"}],\"optional\":true,\"name\":\"debezium.payment.customers.Value\",\"field\":\"before\"},{\"type\":\"struct\",\"fields\":[{\"type\":\"int32\",\"optional\":false,\"default\":0,\"field\":\"customer_id\"},{\"type\":\"double\",\"optional\":false,\"field\":\"x_location\"},{\"type\":\"double\",\"optional\":false,\"field\":\"y_location\"}],\"optional\":true,\"name\":\"debezium.payment.customers.Value\",\"field\":\"after\"},{\"type\":\"struct\",\"fields\":[{\"type\":\"string\",\"optional\":false,\"field\":\"version\"},{\"type\":\"string\",\"optional\":false,\"field\":\"connector\"},{\"type\":\"string\",\"optional\":false,\"field\":\"name\"},{\"type\":\"int64\",\"optional\":false,\"field\":\"ts_ms\"},{\"type\":\"string\",\"optional\":true,\"name\":\"io.debezium.data.Enum\",\"version\":1,\"parameters\":{\"allowed\":\"true,last,false,incremental\"},\"default\":\"false\",\"field\":\"snapshot\"},{\"type\":\"string\",\"optional\":false,\"field\":\"db\"},{\"type\":\"string\",\"optional\":true,\"field\":\"sequence\"},{\"type\":\"int64\",\"optional\":true,\"field\":\"ts_us\"},{\"type\":\"int64\",\"optional\":true,\"field\":\"ts_ns\"},{\"type\":\"string\",\"optional\":false,\"field\":\"schema\"},{\"type\":\"string\",\"optional\":false,\"field\":\"table\"},{\"type\":\"int64\",\"optional\":true,\"field\":\"txId\"},{\"type\":\"int64\",\"optional\":true,\"field\":\"lsn\"},{\"type\":\"int64\",\"optional\":true,\"field\":\"xmin\"}],\"optional\":false,\"name\":\"io.debezium.connector.postgresql.Source\",\"field\":\"source\"},{\"type\":\"struct\",\"fields\":[{\"type\":\"string\",\"optional\":false,\"field\":\"id\"},{\"type\":\"int64\",\"optional\":false,\"field\":\"total_order\"},{\"type\":\"int64\",\"optional\":false,\"field\":\"data_collection_order\"}],\"optional\":true,\"name\":\"event.block\",\"version\":1,\"field\":\"transaction\"},{\"type\":\"string\",\"optional\":false,\"field\":\"op\"},{\"type\":\"int64\",\"optional\":true,\"field\":\"ts_ms\"},{\"type\":\"int64\",\"optional\":true,\"field\":\"ts_us\"},{\"type\":\"int64\",\"optional\":true,\"field\":\"ts_ns\"}],\"optional\":false,\"name\":\"debezium.payment.customers.Envelope\",\"version\":2}, {NULL, {6, 96.366276, 38.344152}, {2.7.3.Final, postgresql, debezium, 1739205449775, true, postgres, [null,\"23319736\"], 1739205449775533, 1739205449775533000, payment, customers, 750, 23319736, NULL}, NULL, r, 1739205449903, 1739205449903475, 1739205449903475803}}                         |debezium.payment.customers|0        |6     |2025-02-10 22:07:30.274|0            |\n",
      "|{\"schema\":{\"type\":\"struct\",\"fields\":[{\"type\":\"int32\",\"optional\":false,\"default\":0,\"field\":\"customer_id\"}],\"optional\":false,\"name\":\"debezium.payment.customers.Key\"},\"payload\":{\"customer_id\":7}} |{{\"type\":\"struct\",\"fields\":[{\"type\":\"struct\",\"fields\":[{\"type\":\"int32\",\"optional\":false,\"default\":0,\"field\":\"customer_id\"},{\"type\":\"double\",\"optional\":false,\"field\":\"x_location\"},{\"type\":\"double\",\"optional\":false,\"field\":\"y_location\"}],\"optional\":true,\"name\":\"debezium.payment.customers.Value\",\"field\":\"before\"},{\"type\":\"struct\",\"fields\":[{\"type\":\"int32\",\"optional\":false,\"default\":0,\"field\":\"customer_id\"},{\"type\":\"double\",\"optional\":false,\"field\":\"x_location\"},{\"type\":\"double\",\"optional\":false,\"field\":\"y_location\"}],\"optional\":true,\"name\":\"debezium.payment.customers.Value\",\"field\":\"after\"},{\"type\":\"struct\",\"fields\":[{\"type\":\"string\",\"optional\":false,\"field\":\"version\"},{\"type\":\"string\",\"optional\":false,\"field\":\"connector\"},{\"type\":\"string\",\"optional\":false,\"field\":\"name\"},{\"type\":\"int64\",\"optional\":false,\"field\":\"ts_ms\"},{\"type\":\"string\",\"optional\":true,\"name\":\"io.debezium.data.Enum\",\"version\":1,\"parameters\":{\"allowed\":\"true,last,false,incremental\"},\"default\":\"false\",\"field\":\"snapshot\"},{\"type\":\"string\",\"optional\":false,\"field\":\"db\"},{\"type\":\"string\",\"optional\":true,\"field\":\"sequence\"},{\"type\":\"int64\",\"optional\":true,\"field\":\"ts_us\"},{\"type\":\"int64\",\"optional\":true,\"field\":\"ts_ns\"},{\"type\":\"string\",\"optional\":false,\"field\":\"schema\"},{\"type\":\"string\",\"optional\":false,\"field\":\"table\"},{\"type\":\"int64\",\"optional\":true,\"field\":\"txId\"},{\"type\":\"int64\",\"optional\":true,\"field\":\"lsn\"},{\"type\":\"int64\",\"optional\":true,\"field\":\"xmin\"}],\"optional\":false,\"name\":\"io.debezium.connector.postgresql.Source\",\"field\":\"source\"},{\"type\":\"struct\",\"fields\":[{\"type\":\"string\",\"optional\":false,\"field\":\"id\"},{\"type\":\"int64\",\"optional\":false,\"field\":\"total_order\"},{\"type\":\"int64\",\"optional\":false,\"field\":\"data_collection_order\"}],\"optional\":true,\"name\":\"event.block\",\"version\":1,\"field\":\"transaction\"},{\"type\":\"string\",\"optional\":false,\"field\":\"op\"},{\"type\":\"int64\",\"optional\":true,\"field\":\"ts_ms\"},{\"type\":\"int64\",\"optional\":true,\"field\":\"ts_us\"},{\"type\":\"int64\",\"optional\":true,\"field\":\"ts_ns\"}],\"optional\":false,\"name\":\"debezium.payment.customers.Envelope\",\"version\":2}, {NULL, {7, 38.344152, 79.172504}, {2.7.3.Final, postgresql, debezium, 1739205449775, true, postgres, [null,\"23319736\"], 1739205449775533, 1739205449775533000, payment, customers, 750, 23319736, NULL}, NULL, r, 1739205449903, 1739205449903576, 1739205449903576886}}                         |debezium.payment.customers|0        |7     |2025-02-10 22:07:30.274|0            |\n",
      "|{\"schema\":{\"type\":\"struct\",\"fields\":[{\"type\":\"int32\",\"optional\":false,\"default\":0,\"field\":\"customer_id\"}],\"optional\":false,\"name\":\"debezium.payment.customers.Key\"},\"payload\":{\"customer_id\":8}} |{{\"type\":\"struct\",\"fields\":[{\"type\":\"struct\",\"fields\":[{\"type\":\"int32\",\"optional\":false,\"default\":0,\"field\":\"customer_id\"},{\"type\":\"double\",\"optional\":false,\"field\":\"x_location\"},{\"type\":\"double\",\"optional\":false,\"field\":\"y_location\"}],\"optional\":true,\"name\":\"debezium.payment.customers.Value\",\"field\":\"before\"},{\"type\":\"struct\",\"fields\":[{\"type\":\"int32\",\"optional\":false,\"default\":0,\"field\":\"customer_id\"},{\"type\":\"double\",\"optional\":false,\"field\":\"x_location\"},{\"type\":\"double\",\"optional\":false,\"field\":\"y_location\"}],\"optional\":true,\"name\":\"debezium.payment.customers.Value\",\"field\":\"after\"},{\"type\":\"struct\",\"fields\":[{\"type\":\"string\",\"optional\":false,\"field\":\"version\"},{\"type\":\"string\",\"optional\":false,\"field\":\"connector\"},{\"type\":\"string\",\"optional\":false,\"field\":\"name\"},{\"type\":\"int64\",\"optional\":false,\"field\":\"ts_ms\"},{\"type\":\"string\",\"optional\":true,\"name\":\"io.debezium.data.Enum\",\"version\":1,\"parameters\":{\"allowed\":\"true,last,false,incremental\"},\"default\":\"false\",\"field\":\"snapshot\"},{\"type\":\"string\",\"optional\":false,\"field\":\"db\"},{\"type\":\"string\",\"optional\":true,\"field\":\"sequence\"},{\"type\":\"int64\",\"optional\":true,\"field\":\"ts_us\"},{\"type\":\"int64\",\"optional\":true,\"field\":\"ts_ns\"},{\"type\":\"string\",\"optional\":false,\"field\":\"schema\"},{\"type\":\"string\",\"optional\":false,\"field\":\"table\"},{\"type\":\"int64\",\"optional\":true,\"field\":\"txId\"},{\"type\":\"int64\",\"optional\":true,\"field\":\"lsn\"},{\"type\":\"int64\",\"optional\":true,\"field\":\"xmin\"}],\"optional\":false,\"name\":\"io.debezium.connector.postgresql.Source\",\"field\":\"source\"},{\"type\":\"struct\",\"fields\":[{\"type\":\"string\",\"optional\":false,\"field\":\"id\"},{\"type\":\"int64\",\"optional\":false,\"field\":\"total_order\"},{\"type\":\"int64\",\"optional\":false,\"field\":\"data_collection_order\"}],\"optional\":true,\"name\":\"event.block\",\"version\":1,\"field\":\"transaction\"},{\"type\":\"string\",\"optional\":false,\"field\":\"op\"},{\"type\":\"int64\",\"optional\":true,\"field\":\"ts_ms\"},{\"type\":\"int64\",\"optional\":true,\"field\":\"ts_us\"},{\"type\":\"int64\",\"optional\":true,\"field\":\"ts_ns\"}],\"optional\":false,\"name\":\"debezium.payment.customers.Envelope\",\"version\":2}, {NULL, {8, 79.172504, 52.889492}, {2.7.3.Final, postgresql, debezium, 1739205449775, true, postgres, [null,\"23319736\"], 1739205449775533, 1739205449775533000, payment, customers, 750, 23319736, NULL}, NULL, r, 1739205449903, 1739205449903901, 1739205449903901428}}                         |debezium.payment.customers|0        |8     |2025-02-10 22:07:30.275|0            |\n",
      "|{\"schema\":{\"type\":\"struct\",\"fields\":[{\"type\":\"int32\",\"optional\":false,\"default\":0,\"field\":\"customer_id\"}],\"optional\":false,\"name\":\"debezium.payment.customers.Key\"},\"payload\":{\"customer_id\":9}} |{{\"type\":\"struct\",\"fields\":[{\"type\":\"struct\",\"fields\":[{\"type\":\"int32\",\"optional\":false,\"default\":0,\"field\":\"customer_id\"},{\"type\":\"double\",\"optional\":false,\"field\":\"x_location\"},{\"type\":\"double\",\"optional\":false,\"field\":\"y_location\"}],\"optional\":true,\"name\":\"debezium.payment.customers.Value\",\"field\":\"before\"},{\"type\":\"struct\",\"fields\":[{\"type\":\"int32\",\"optional\":false,\"default\":0,\"field\":\"customer_id\"},{\"type\":\"double\",\"optional\":false,\"field\":\"x_location\"},{\"type\":\"double\",\"optional\":false,\"field\":\"y_location\"}],\"optional\":true,\"name\":\"debezium.payment.customers.Value\",\"field\":\"after\"},{\"type\":\"struct\",\"fields\":[{\"type\":\"string\",\"optional\":false,\"field\":\"version\"},{\"type\":\"string\",\"optional\":false,\"field\":\"connector\"},{\"type\":\"string\",\"optional\":false,\"field\":\"name\"},{\"type\":\"int64\",\"optional\":false,\"field\":\"ts_ms\"},{\"type\":\"string\",\"optional\":true,\"name\":\"io.debezium.data.Enum\",\"version\":1,\"parameters\":{\"allowed\":\"true,last,false,incremental\"},\"default\":\"false\",\"field\":\"snapshot\"},{\"type\":\"string\",\"optional\":false,\"field\":\"db\"},{\"type\":\"string\",\"optional\":true,\"field\":\"sequence\"},{\"type\":\"int64\",\"optional\":true,\"field\":\"ts_us\"},{\"type\":\"int64\",\"optional\":true,\"field\":\"ts_ns\"},{\"type\":\"string\",\"optional\":false,\"field\":\"schema\"},{\"type\":\"string\",\"optional\":false,\"field\":\"table\"},{\"type\":\"int64\",\"optional\":true,\"field\":\"txId\"},{\"type\":\"int64\",\"optional\":true,\"field\":\"lsn\"},{\"type\":\"int64\",\"optional\":true,\"field\":\"xmin\"}],\"optional\":false,\"name\":\"io.debezium.connector.postgresql.Source\",\"field\":\"source\"},{\"type\":\"struct\",\"fields\":[{\"type\":\"string\",\"optional\":false,\"field\":\"id\"},{\"type\":\"int64\",\"optional\":false,\"field\":\"total_order\"},{\"type\":\"int64\",\"optional\":false,\"field\":\"data_collection_order\"}],\"optional\":true,\"name\":\"event.block\",\"version\":1,\"field\":\"transaction\"},{\"type\":\"string\",\"optional\":false,\"field\":\"op\"},{\"type\":\"int64\",\"optional\":true,\"field\":\"ts_ms\"},{\"type\":\"int64\",\"optional\":true,\"field\":\"ts_us\"},{\"type\":\"int64\",\"optional\":true,\"field\":\"ts_ns\"}],\"optional\":false,\"name\":\"debezium.payment.customers.Envelope\",\"version\":2}, {NULL, {9, 52.889492, 56.804456}, {2.7.3.Final, postgresql, debezium, 1739205449775, last_in_data_collection, postgres, [null,\"23319736\"], 1739205449775533, 1739205449775533000, payment, customers, 750, 23319736, NULL}, NULL, r, 1739205449904, 1739205449904026, 1739205449904026970}}      |debezium.payment.customers|0        |9     |2025-02-10 22:07:30.275|0            |\n",
      "|{\"schema\":{\"type\":\"struct\",\"fields\":[{\"type\":\"int32\",\"optional\":false,\"default\":0,\"field\":\"customer_id\"}],\"optional\":false,\"name\":\"debezium.payment.customers.Key\"},\"payload\":{\"customer_id\":10}}|{{\"type\":\"struct\",\"fields\":[{\"type\":\"struct\",\"fields\":[{\"type\":\"int32\",\"optional\":false,\"default\":0,\"field\":\"customer_id\"},{\"type\":\"double\",\"optional\":false,\"field\":\"x_location\"},{\"type\":\"double\",\"optional\":false,\"field\":\"y_location\"}],\"optional\":true,\"name\":\"debezium.payment.customers.Value\",\"field\":\"before\"},{\"type\":\"struct\",\"fields\":[{\"type\":\"int32\",\"optional\":false,\"default\":0,\"field\":\"customer_id\"},{\"type\":\"double\",\"optional\":false,\"field\":\"x_location\"},{\"type\":\"double\",\"optional\":false,\"field\":\"y_location\"}],\"optional\":true,\"name\":\"debezium.payment.customers.Value\",\"field\":\"after\"},{\"type\":\"struct\",\"fields\":[{\"type\":\"string\",\"optional\":false,\"field\":\"version\"},{\"type\":\"string\",\"optional\":false,\"field\":\"connector\"},{\"type\":\"string\",\"optional\":false,\"field\":\"name\"},{\"type\":\"int64\",\"optional\":false,\"field\":\"ts_ms\"},{\"type\":\"string\",\"optional\":true,\"name\":\"io.debezium.data.Enum\",\"version\":1,\"parameters\":{\"allowed\":\"true,last,false,incremental\"},\"default\":\"false\",\"field\":\"snapshot\"},{\"type\":\"string\",\"optional\":false,\"field\":\"db\"},{\"type\":\"string\",\"optional\":true,\"field\":\"sequence\"},{\"type\":\"int64\",\"optional\":true,\"field\":\"ts_us\"},{\"type\":\"int64\",\"optional\":true,\"field\":\"ts_ns\"},{\"type\":\"string\",\"optional\":false,\"field\":\"schema\"},{\"type\":\"string\",\"optional\":false,\"field\":\"table\"},{\"type\":\"int64\",\"optional\":true,\"field\":\"txId\"},{\"type\":\"int64\",\"optional\":true,\"field\":\"lsn\"},{\"type\":\"int64\",\"optional\":true,\"field\":\"xmin\"}],\"optional\":false,\"name\":\"io.debezium.connector.postgresql.Source\",\"field\":\"source\"},{\"type\":\"struct\",\"fields\":[{\"type\":\"string\",\"optional\":false,\"field\":\"id\"},{\"type\":\"int64\",\"optional\":false,\"field\":\"total_order\"},{\"type\":\"int64\",\"optional\":false,\"field\":\"data_collection_order\"}],\"optional\":true,\"name\":\"event.block\",\"version\":1,\"field\":\"transaction\"},{\"type\":\"string\",\"optional\":false,\"field\":\"op\"},{\"type\":\"int64\",\"optional\":true,\"field\":\"ts_ms\"},{\"type\":\"int64\",\"optional\":true,\"field\":\"ts_us\"},{\"type\":\"int64\",\"optional\":true,\"field\":\"ts_ns\"}],\"optional\":false,\"name\":\"debezium.payment.customers.Envelope\",\"version\":2}, {NULL, {10, 40.7128, 74.006}, {2.7.3.Final, postgresql, debezium, 1739205603205, false, postgres, [\"23345160\",\"23345216\"], 1739205603205272, 1739205603205272000, payment, customers, 755, 23345216, NULL}, NULL, c, 1739205603324, 1739205603324755, 1739205603324755346}}                      |debezium.payment.customers|0        |10    |2025-02-10 22:10:03.704|0            |\n",
      "|{\"schema\":{\"type\":\"struct\",\"fields\":[{\"type\":\"int32\",\"optional\":false,\"default\":0,\"field\":\"customer_id\"}],\"optional\":false,\"name\":\"debezium.payment.customers.Key\"},\"payload\":{\"customer_id\":2}} |{{\"type\":\"struct\",\"fields\":[{\"type\":\"struct\",\"fields\":[{\"type\":\"int32\",\"optional\":false,\"default\":0,\"field\":\"customer_id\"},{\"type\":\"double\",\"optional\":false,\"field\":\"x_location\"},{\"type\":\"double\",\"optional\":false,\"field\":\"y_location\"}],\"optional\":true,\"name\":\"debezium.payment.customers.Value\",\"field\":\"before\"},{\"type\":\"struct\",\"fields\":[{\"type\":\"int32\",\"optional\":false,\"default\":0,\"field\":\"customer_id\"},{\"type\":\"double\",\"optional\":false,\"field\":\"x_location\"},{\"type\":\"double\",\"optional\":false,\"field\":\"y_location\"}],\"optional\":true,\"name\":\"debezium.payment.customers.Value\",\"field\":\"after\"},{\"type\":\"struct\",\"fields\":[{\"type\":\"string\",\"optional\":false,\"field\":\"version\"},{\"type\":\"string\",\"optional\":false,\"field\":\"connector\"},{\"type\":\"string\",\"optional\":false,\"field\":\"name\"},{\"type\":\"int64\",\"optional\":false,\"field\":\"ts_ms\"},{\"type\":\"string\",\"optional\":true,\"name\":\"io.debezium.data.Enum\",\"version\":1,\"parameters\":{\"allowed\":\"true,last,false,incremental\"},\"default\":\"false\",\"field\":\"snapshot\"},{\"type\":\"string\",\"optional\":false,\"field\":\"db\"},{\"type\":\"string\",\"optional\":true,\"field\":\"sequence\"},{\"type\":\"int64\",\"optional\":true,\"field\":\"ts_us\"},{\"type\":\"int64\",\"optional\":true,\"field\":\"ts_ns\"},{\"type\":\"string\",\"optional\":false,\"field\":\"schema\"},{\"type\":\"string\",\"optional\":false,\"field\":\"table\"},{\"type\":\"int64\",\"optional\":true,\"field\":\"txId\"},{\"type\":\"int64\",\"optional\":true,\"field\":\"lsn\"},{\"type\":\"int64\",\"optional\":true,\"field\":\"xmin\"}],\"optional\":false,\"name\":\"io.debezium.connector.postgresql.Source\",\"field\":\"source\"},{\"type\":\"struct\",\"fields\":[{\"type\":\"string\",\"optional\":false,\"field\":\"id\"},{\"type\":\"int64\",\"optional\":false,\"field\":\"total_order\"},{\"type\":\"int64\",\"optional\":false,\"field\":\"data_collection_order\"}],\"optional\":true,\"name\":\"event.block\",\"version\":1,\"field\":\"transaction\"},{\"type\":\"string\",\"optional\":false,\"field\":\"op\"},{\"type\":\"int64\",\"optional\":true,\"field\":\"ts_ms\"},{\"type\":\"int64\",\"optional\":true,\"field\":\"ts_us\"},{\"type\":\"int64\",\"optional\":true,\"field\":\"ts_ns\"}],\"optional\":false,\"name\":\"debezium.payment.customers.Envelope\",\"version\":2}, {{2, 42.36548, 64.589411}, {2, 50.4567, 64.589411}, {2.7.3.Final, postgresql, debezium, 1739205751812, false, postgres, [\"23345408\",\"23345696\"], 1739205751812841, 1739205751812841000, payment, customers, 756, 23345696, NULL}, NULL, u, 1739205752150, 1739205752150189, 1739205752150189054}}|debezium.payment.customers|0        |11    |2025-02-10 22:12:32.563|0            |\n",
      "+-------------------------------------------------------------------------------------------------------------------------------------------------------------------------------------------------+--------------------------------------------------------------------------------------------------------------------------------------------------------------------------------------------------------------------------------------------------------------------------------------------------------------------------------------------------------------------------------------------------------------------------------------------------------------------------------------------------------------------------------------------------------------------------------------------------------------------------------------------------------------------------------------------------------------------------------------------------------------------------------------------------------------------------------------------------------------------------------------------------------------------------------------------------------------------------------------------------------------------------------------------------------------------------------------------------------------------------------------------------------------------------------------------------------------------------------------------------------------------------------------------------------------------------------------------------------------------------------------------------------------------------------------------------------------------------------------------------------------------------------------------------------------------------------------------------------------------------------------------------------------------------------------------------------------------------------------------------------------------------------------------------------------------------------------------------------------------------------------------------------------------------------------------------------------------------------------------------------------------------------------------------------------------------------------------------------------------------------------------------------------------------------------------------------------------------------------------------------------------------------------------------------------------------------------------------------------------------------------------------------------------------------------------------------+--------------------------+---------+------+-----------------------+-------------+\n",
      "\n"
     ]
    },
    {
     "name": "stderr",
     "output_type": "stream",
     "text": [
      "                                                                                \r"
     ]
    }
   ],
   "source": [
    "execute_query(\"select * from kafkadata\")"
   ]
  },
  {
   "cell_type": "code",
   "execution_count": 77,
   "metadata": {},
   "outputs": [
    {
     "name": "stdout",
     "output_type": "stream",
     "text": [
      "++\n",
      "||\n",
      "++\n",
      "++\n",
      "\n"
     ]
    }
   ],
   "source": [
    "execute_query(\"\"\" create or replace temp view latest_data as \n",
    "              with extracted_data  as (\n",
    "                    select value.payload.after.customer_id,\n",
    "                    value.payload.after.x_location, \n",
    "                    value.payload.after.y_location,\n",
    "                    timestamp\n",
    "                    from kafkadata),\n",
    "              ranked_data as (\n",
    "                  select customer_id,\n",
    "                  x_location,\n",
    "                  y_location, \n",
    "                  timestamp,\n",
    "                  ROW_NUMBER() over (partition by customer_id order by timestamp DESC) as rn\n",
    "                  from extracted_data) \n",
    "              select customer_id,\n",
    "                  x_location,\n",
    "                  y_location,\n",
    "                  now() as row_created_timestamp,\n",
    "                  now() as row_updated_timestamp\n",
    "              from ranked_data \n",
    "              where rn=1\"\"\")"
   ]
  },
  {
   "cell_type": "code",
   "execution_count": 70,
   "metadata": {},
   "outputs": [
    {
     "name": "stdout",
     "output_type": "stream",
     "text": [
      "++\n",
      "||\n",
      "++\n",
      "++\n",
      "\n",
      "+---------+\n",
      "|namespace|\n",
      "+---------+\n",
      "|default  |\n",
      "|payment  |\n",
      "+---------+\n",
      "\n"
     ]
    }
   ],
   "source": [
    "execute_query(\"CREATE DATABASE IF NOT EXISTS payment;\")\n",
    "execute_query(\"show databases\")"
   ]
  },
  {
   "cell_type": "code",
   "execution_count": 81,
   "metadata": {},
   "outputs": [
    {
     "name": "stdout",
     "output_type": "stream",
     "text": [
      "++\n",
      "||\n",
      "++\n",
      "++\n",
      "\n"
     ]
    }
   ],
   "source": [
    "execute_query(\"\"\"\n",
    "        CREATE TABLE IF NOT EXISTS payment.customer (\n",
    "      customer_id INT,\n",
    "      x_location FLOAT,\n",
    "      y_location FLOAT,\n",
    "      row_created_timestamp TIMESTAMP,\n",
    "      row_updated_timestamp TIMESTAMP\n",
    ")\n",
    "USING iceberg\n",
    "\"\"\")"
   ]
  },
  {
   "cell_type": "code",
   "execution_count": 82,
   "metadata": {},
   "outputs": [
    {
     "name": "stderr",
     "output_type": "stream",
     "text": [
      "25/02/11 00:23:07 WARN AdminClientConfig: The configuration 'key.deserializer' was supplied but isn't a known config.\n",
      "25/02/11 00:23:07 WARN AdminClientConfig: The configuration 'value.deserializer' was supplied but isn't a known config.\n",
      "25/02/11 00:23:07 WARN AdminClientConfig: The configuration 'enable.auto.commit' was supplied but isn't a known config.\n",
      "25/02/11 00:23:07 WARN AdminClientConfig: The configuration 'max.poll.records' was supplied but isn't a known config.\n",
      "25/02/11 00:23:07 WARN AdminClientConfig: The configuration 'auto.offset.reset' was supplied but isn't a known config.\n",
      "25/02/11 00:23:08 WARN AdminClientConfig: The configuration 'key.deserializer' was supplied but isn't a known config.\n",
      "25/02/11 00:23:08 WARN AdminClientConfig: The configuration 'value.deserializer' was supplied but isn't a known config.\n",
      "25/02/11 00:23:08 WARN AdminClientConfig: The configuration 'enable.auto.commit' was supplied but isn't a known config.\n",
      "25/02/11 00:23:08 WARN AdminClientConfig: The configuration 'max.poll.records' was supplied but isn't a known config.\n",
      "25/02/11 00:23:08 WARN AdminClientConfig: The configuration 'auto.offset.reset' was supplied but isn't a known config.\n",
      "                                                                                \r"
     ]
    },
    {
     "name": "stdout",
     "output_type": "stream",
     "text": [
      "++\n",
      "||\n",
      "++\n",
      "++\n",
      "\n"
     ]
    }
   ],
   "source": [
    "execute_query(\"\"\"\n",
    "MERGE INTO payment.customer AS target\n",
    "USING latest_data AS source\n",
    "ON target.customer_id = source.customer_id\n",
    "WHEN MATCHED THEN\n",
    "  UPDATE SET\n",
    "    target.x_location = source.x_location,\n",
    "    target.y_location = source.y_location,\n",
    "    target.row_updated_timestamp = source.row_updated_timestamp\n",
    "WHEN NOT MATCHED THEN\n",
    "  INSERT (\n",
    "    customer_id,\n",
    "    x_location,\n",
    "    y_location,\n",
    "    row_created_timestamp,\n",
    "    row_updated_timestamp\n",
    "  )\n",
    "  VALUES (\n",
    "    source.customer_id,\n",
    "    source.x_location,\n",
    "    source.y_location,\n",
    "    source.row_created_timestamp,\n",
    "    source.row_updated_timestamp\n",
    "  )\n",
    "\"\"\")"
   ]
  },
  {
   "cell_type": "code",
   "execution_count": 83,
   "metadata": {},
   "outputs": [
    {
     "name": "stdout",
     "output_type": "stream",
     "text": [
      "+-----------+----------+----------+--------------------------+--------------------------+\n",
      "|customer_id|x_location|y_location|row_created_timestamp     |row_updated_timestamp     |\n",
      "+-----------+----------+----------+--------------------------+--------------------------+\n",
      "|0          |54.88135  |71.518936 |2025-02-11 00:23:07.265899|2025-02-11 00:23:07.265899|\n",
      "|1          |60.276337 |54.48832  |2025-02-11 00:23:07.265899|2025-02-11 00:23:07.265899|\n",
      "|2          |50.4567   |64.58941  |2025-02-11 00:23:07.265899|2025-02-11 00:23:07.265899|\n",
      "|3          |64.58941  |43.75872  |2025-02-11 00:23:07.265899|2025-02-11 00:23:07.265899|\n",
      "|4          |43.75872  |89.1773   |2025-02-11 00:23:07.265899|2025-02-11 00:23:07.265899|\n",
      "|5          |89.1773   |96.36628  |2025-02-11 00:23:07.265899|2025-02-11 00:23:07.265899|\n",
      "|6          |96.36628  |38.34415  |2025-02-11 00:23:07.265899|2025-02-11 00:23:07.265899|\n",
      "|7          |38.34415  |79.1725   |2025-02-11 00:23:07.265899|2025-02-11 00:23:07.265899|\n",
      "|8          |79.1725   |52.889492 |2025-02-11 00:23:07.265899|2025-02-11 00:23:07.265899|\n",
      "|9          |52.889492 |56.804455 |2025-02-11 00:23:07.265899|2025-02-11 00:23:07.265899|\n",
      "|10         |40.7128   |74.006    |2025-02-11 00:23:07.265899|2025-02-11 00:23:07.265899|\n",
      "+-----------+----------+----------+--------------------------+--------------------------+\n",
      "\n"
     ]
    }
   ],
   "source": [
    "execute_query(\"\"\"select * from payment.customer  \"\"\")"
   ]
  },
  {
   "cell_type": "code",
   "execution_count": 75,
   "metadata": {},
   "outputs": [
    {
     "name": "stdout",
     "output_type": "stream",
     "text": [
      "+-----------+----------+----------+\n",
      "|customer_id|x_location|y_location|\n",
      "+-----------+----------+----------+\n",
      "|0          |54.88135  |71.518937 |\n",
      "|1          |60.276338 |54.488318 |\n",
      "|2          |50.4567   |64.589411 |\n",
      "|3          |64.589411 |43.758721 |\n",
      "|4          |43.758721 |89.1773   |\n",
      "|5          |89.1773   |96.366276 |\n",
      "|6          |96.366276 |38.344152 |\n",
      "|7          |38.344152 |79.172504 |\n",
      "|8          |79.172504 |52.889492 |\n",
      "|9          |52.889492 |56.804456 |\n",
      "|10         |40.7128   |74.006    |\n",
      "+-----------+----------+----------+\n",
      "\n"
     ]
    }
   ],
   "source": [
    "execute_query(\"\"\"select * from payment.customers \"\"\")"
   ]
  },
  {
   "cell_type": "code",
   "execution_count": null,
   "metadata": {},
   "outputs": [],
   "source": [
    "postgres -> debezium -> kafka (retention policy - 7 days ) -> spark streaming -> minio (s3)"
   ]
  },
  {
   "cell_type": "code",
   "execution_count": null,
   "metadata": {},
   "outputs": [],
   "source": [
    "kafka -> topic -> transform -> s3 table (create / replace )\n",
    "\n",
    "incremental processing \n",
    "\n",
    "1. kafka -> event -> \n",
    "\n",
    "incremental read kafka basis offset -> spark streaming -> checkpointing (state store )\n",
    "\n",
    "triggers -> freuently job execution\n",
    "\n",
    "\n",
    "\n",
    "\n",
    "\n",
    "done this:\n",
    "10 row -> updates + inserts + delete  upsert -> key column \n",
    "\n",
    "merge command (iceberg)\n",
    "\n",
    "\n",
    "table - 100 rows \n",
    "\n",
    "8 am \n",
    "\n"
   ]
  }
 ],
 "metadata": {
  "kernelspec": {
   "display_name": "realtime-fraud-detection-system-eUiKKk2v-py3.13",
   "language": "python",
   "name": "python3"
  },
  "language_info": {
   "codemirror_mode": {
    "name": "ipython",
    "version": 3
   },
   "file_extension": ".py",
   "mimetype": "text/x-python",
   "name": "python",
   "nbconvert_exporter": "python",
   "pygments_lexer": "ipython3",
   "version": "3.13.1"
  }
 },
 "nbformat": 4,
 "nbformat_minor": 2
}
