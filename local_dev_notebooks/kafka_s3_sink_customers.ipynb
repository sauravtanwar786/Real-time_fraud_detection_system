{
 "cells": [
  {
   "cell_type": "code",
   "execution_count": 1,
   "metadata": {},
   "outputs": [],
   "source": [
    "import pandas as pd\n",
    "\n",
    "df = pd.read_pickle('../data/raw/transaction/2025-01-31.pkl')"
   ]
  },
  {
   "cell_type": "code",
   "execution_count": 2,
   "metadata": {},
   "outputs": [
    {
     "data": {
      "text/html": [
       "<div>\n",
       "<style scoped>\n",
       "    .dataframe tbody tr th:only-of-type {\n",
       "        vertical-align: middle;\n",
       "    }\n",
       "\n",
       "    .dataframe tbody tr th {\n",
       "        vertical-align: top;\n",
       "    }\n",
       "\n",
       "    .dataframe thead th {\n",
       "        text-align: right;\n",
       "    }\n",
       "</style>\n",
       "<table border=\"1\" class=\"dataframe\">\n",
       "  <thead>\n",
       "    <tr style=\"text-align: right;\">\n",
       "      <th></th>\n",
       "      <th>TRANSACTION_ID</th>\n",
       "      <th>TX_DATETIME</th>\n",
       "      <th>CUSTOMER_ID</th>\n",
       "      <th>TERMINAL_ID</th>\n",
       "      <th>TX_AMOUNT</th>\n",
       "      <th>TX_TIME_SECONDS</th>\n",
       "      <th>TX_TIME_DAYS</th>\n",
       "      <th>TX_FRAUD</th>\n",
       "      <th>TX_FRAUD_SCENARIO</th>\n",
       "    </tr>\n",
       "  </thead>\n",
       "  <tbody>\n",
       "    <tr>\n",
       "      <th>2338640</th>\n",
       "      <td>2338640</td>\n",
       "      <td>2025-01-31 00:00:10</td>\n",
       "      <td>1199</td>\n",
       "      <td>502</td>\n",
       "      <td>17.91</td>\n",
       "      <td>21081610</td>\n",
       "      <td>244</td>\n",
       "      <td>0</td>\n",
       "      <td>0</td>\n",
       "    </tr>\n",
       "    <tr>\n",
       "      <th>2338641</th>\n",
       "      <td>2338641</td>\n",
       "      <td>2025-01-31 00:00:12</td>\n",
       "      <td>1949</td>\n",
       "      <td>3265</td>\n",
       "      <td>77.32</td>\n",
       "      <td>21081612</td>\n",
       "      <td>244</td>\n",
       "      <td>0</td>\n",
       "      <td>0</td>\n",
       "    </tr>\n",
       "    <tr>\n",
       "      <th>2338642</th>\n",
       "      <td>2338642</td>\n",
       "      <td>2025-01-31 00:00:45</td>\n",
       "      <td>1953</td>\n",
       "      <td>6481</td>\n",
       "      <td>72.42</td>\n",
       "      <td>21081645</td>\n",
       "      <td>244</td>\n",
       "      <td>0</td>\n",
       "      <td>0</td>\n",
       "    </tr>\n",
       "    <tr>\n",
       "      <th>2338643</th>\n",
       "      <td>2338643</td>\n",
       "      <td>2025-01-31 00:02:15</td>\n",
       "      <td>107</td>\n",
       "      <td>9548</td>\n",
       "      <td>23.26</td>\n",
       "      <td>21081735</td>\n",
       "      <td>244</td>\n",
       "      <td>0</td>\n",
       "      <td>0</td>\n",
       "    </tr>\n",
       "    <tr>\n",
       "      <th>2338644</th>\n",
       "      <td>2338644</td>\n",
       "      <td>2025-01-31 00:02:34</td>\n",
       "      <td>1177</td>\n",
       "      <td>8614</td>\n",
       "      <td>62.40</td>\n",
       "      <td>21081754</td>\n",
       "      <td>244</td>\n",
       "      <td>0</td>\n",
       "      <td>0</td>\n",
       "    </tr>\n",
       "  </tbody>\n",
       "</table>\n",
       "</div>"
      ],
      "text/plain": [
       "         TRANSACTION_ID         TX_DATETIME CUSTOMER_ID TERMINAL_ID  \\\n",
       "2338640         2338640 2025-01-31 00:00:10        1199         502   \n",
       "2338641         2338641 2025-01-31 00:00:12        1949        3265   \n",
       "2338642         2338642 2025-01-31 00:00:45        1953        6481   \n",
       "2338643         2338643 2025-01-31 00:02:15         107        9548   \n",
       "2338644         2338644 2025-01-31 00:02:34        1177        8614   \n",
       "\n",
       "         TX_AMOUNT TX_TIME_SECONDS TX_TIME_DAYS  TX_FRAUD  TX_FRAUD_SCENARIO  \n",
       "2338640      17.91        21081610          244         0                  0  \n",
       "2338641      77.32        21081612          244         0                  0  \n",
       "2338642      72.42        21081645          244         0                  0  \n",
       "2338643      23.26        21081735          244         0                  0  \n",
       "2338644      62.40        21081754          244         0                  0  "
      ]
     },
     "execution_count": 2,
     "metadata": {},
     "output_type": "execute_result"
    }
   ],
   "source": [
    "df.head()"
   ]
  },
  {
   "cell_type": "code",
   "execution_count": 6,
   "metadata": {},
   "outputs": [],
   "source": [
    "# filter thos rows where customerid is between 0-9 and temrinal_id is between 0-5\n",
    "df_filtered = df[(df['CUSTOMER_ID'] >= 0) & (df['CUSTOMER_ID'] <= 9)]"
   ]
  },
  {
   "cell_type": "code",
   "execution_count": 7,
   "metadata": {},
   "outputs": [
    {
     "data": {
      "text/html": [
       "<div>\n",
       "<style scoped>\n",
       "    .dataframe tbody tr th:only-of-type {\n",
       "        vertical-align: middle;\n",
       "    }\n",
       "\n",
       "    .dataframe tbody tr th {\n",
       "        vertical-align: top;\n",
       "    }\n",
       "\n",
       "    .dataframe thead th {\n",
       "        text-align: right;\n",
       "    }\n",
       "</style>\n",
       "<table border=\"1\" class=\"dataframe\">\n",
       "  <thead>\n",
       "    <tr style=\"text-align: right;\">\n",
       "      <th></th>\n",
       "      <th>TRANSACTION_ID</th>\n",
       "      <th>TX_DATETIME</th>\n",
       "      <th>CUSTOMER_ID</th>\n",
       "      <th>TERMINAL_ID</th>\n",
       "      <th>TX_AMOUNT</th>\n",
       "      <th>TX_TIME_SECONDS</th>\n",
       "      <th>TX_TIME_DAYS</th>\n",
       "      <th>TX_FRAUD</th>\n",
       "      <th>TX_FRAUD_SCENARIO</th>\n",
       "    </tr>\n",
       "  </thead>\n",
       "  <tbody>\n",
       "    <tr>\n",
       "      <th>2339069</th>\n",
       "      <td>2339069</td>\n",
       "      <td>2025-01-31 03:15:46</td>\n",
       "      <td>7</td>\n",
       "      <td>4322</td>\n",
       "      <td>12.50</td>\n",
       "      <td>21093346</td>\n",
       "      <td>244</td>\n",
       "      <td>0</td>\n",
       "      <td>0</td>\n",
       "    </tr>\n",
       "    <tr>\n",
       "      <th>2339751</th>\n",
       "      <td>2339751</td>\n",
       "      <td>2025-01-31 05:42:44</td>\n",
       "      <td>1</td>\n",
       "      <td>943</td>\n",
       "      <td>63.94</td>\n",
       "      <td>21102164</td>\n",
       "      <td>244</td>\n",
       "      <td>0</td>\n",
       "      <td>0</td>\n",
       "    </tr>\n",
       "    <tr>\n",
       "      <th>2339921</th>\n",
       "      <td>2339921</td>\n",
       "      <td>2025-01-31 06:06:59</td>\n",
       "      <td>0</td>\n",
       "      <td>1530</td>\n",
       "      <td>24.17</td>\n",
       "      <td>21103619</td>\n",
       "      <td>244</td>\n",
       "      <td>0</td>\n",
       "      <td>0</td>\n",
       "    </tr>\n",
       "    <tr>\n",
       "      <th>2340643</th>\n",
       "      <td>2340643</td>\n",
       "      <td>2025-01-31 07:33:53</td>\n",
       "      <td>4</td>\n",
       "      <td>5251</td>\n",
       "      <td>22.42</td>\n",
       "      <td>21108833</td>\n",
       "      <td>244</td>\n",
       "      <td>0</td>\n",
       "      <td>0</td>\n",
       "    </tr>\n",
       "    <tr>\n",
       "      <th>2340731</th>\n",
       "      <td>2340731</td>\n",
       "      <td>2025-01-31 07:44:47</td>\n",
       "      <td>4</td>\n",
       "      <td>2225</td>\n",
       "      <td>79.20</td>\n",
       "      <td>21109487</td>\n",
       "      <td>244</td>\n",
       "      <td>0</td>\n",
       "      <td>0</td>\n",
       "    </tr>\n",
       "  </tbody>\n",
       "</table>\n",
       "</div>"
      ],
      "text/plain": [
       "         TRANSACTION_ID         TX_DATETIME CUSTOMER_ID TERMINAL_ID  \\\n",
       "2339069         2339069 2025-01-31 03:15:46           7        4322   \n",
       "2339751         2339751 2025-01-31 05:42:44           1         943   \n",
       "2339921         2339921 2025-01-31 06:06:59           0        1530   \n",
       "2340643         2340643 2025-01-31 07:33:53           4        5251   \n",
       "2340731         2340731 2025-01-31 07:44:47           4        2225   \n",
       "\n",
       "         TX_AMOUNT TX_TIME_SECONDS TX_TIME_DAYS  TX_FRAUD  TX_FRAUD_SCENARIO  \n",
       "2339069      12.50        21093346          244         0                  0  \n",
       "2339751      63.94        21102164          244         0                  0  \n",
       "2339921      24.17        21103619          244         0                  0  \n",
       "2340643      22.42        21108833          244         0                  0  \n",
       "2340731      79.20        21109487          244         0                  0  "
      ]
     },
     "execution_count": 7,
     "metadata": {},
     "output_type": "execute_result"
    }
   ],
   "source": [
    "df_filtered.head()"
   ]
  },
  {
   "cell_type": "code",
   "execution_count": 8,
   "metadata": {},
   "outputs": [
    {
     "data": {
      "text/plain": [
       "[{'TRANSACTION_ID': 2339069,\n",
       "  'TX_DATETIME': Timestamp('2025-01-31 03:15:46'),\n",
       "  'CUSTOMER_ID': 7,\n",
       "  'TERMINAL_ID': 4322,\n",
       "  'TX_AMOUNT': 12.5,\n",
       "  'TX_TIME_SECONDS': 21093346,\n",
       "  'TX_TIME_DAYS': 244,\n",
       "  'TX_FRAUD': 0,\n",
       "  'TX_FRAUD_SCENARIO': 0},\n",
       " {'TRANSACTION_ID': 2339751,\n",
       "  'TX_DATETIME': Timestamp('2025-01-31 05:42:44'),\n",
       "  'CUSTOMER_ID': 1,\n",
       "  'TERMINAL_ID': 943,\n",
       "  'TX_AMOUNT': 63.94,\n",
       "  'TX_TIME_SECONDS': 21102164,\n",
       "  'TX_TIME_DAYS': 244,\n",
       "  'TX_FRAUD': 0,\n",
       "  'TX_FRAUD_SCENARIO': 0},\n",
       " {'TRANSACTION_ID': 2339921,\n",
       "  'TX_DATETIME': Timestamp('2025-01-31 06:06:59'),\n",
       "  'CUSTOMER_ID': 0,\n",
       "  'TERMINAL_ID': 1530,\n",
       "  'TX_AMOUNT': 24.17,\n",
       "  'TX_TIME_SECONDS': 21103619,\n",
       "  'TX_TIME_DAYS': 244,\n",
       "  'TX_FRAUD': 0,\n",
       "  'TX_FRAUD_SCENARIO': 0},\n",
       " {'TRANSACTION_ID': 2340643,\n",
       "  'TX_DATETIME': Timestamp('2025-01-31 07:33:53'),\n",
       "  'CUSTOMER_ID': 4,\n",
       "  'TERMINAL_ID': 5251,\n",
       "  'TX_AMOUNT': 22.42,\n",
       "  'TX_TIME_SECONDS': 21108833,\n",
       "  'TX_TIME_DAYS': 244,\n",
       "  'TX_FRAUD': 0,\n",
       "  'TX_FRAUD_SCENARIO': 0},\n",
       " {'TRANSACTION_ID': 2340731,\n",
       "  'TX_DATETIME': Timestamp('2025-01-31 07:44:47'),\n",
       "  'CUSTOMER_ID': 4,\n",
       "  'TERMINAL_ID': 2225,\n",
       "  'TX_AMOUNT': 79.2,\n",
       "  'TX_TIME_SECONDS': 21109487,\n",
       "  'TX_TIME_DAYS': 244,\n",
       "  'TX_FRAUD': 0,\n",
       "  'TX_FRAUD_SCENARIO': 0},\n",
       " {'TRANSACTION_ID': 2340883,\n",
       "  'TX_DATETIME': Timestamp('2025-01-31 08:01:24'),\n",
       "  'CUSTOMER_ID': 4,\n",
       "  'TERMINAL_ID': 9191,\n",
       "  'TX_AMOUNT': 75.8,\n",
       "  'TX_TIME_SECONDS': 21110484,\n",
       "  'TX_TIME_DAYS': 244,\n",
       "  'TX_FRAUD': 0,\n",
       "  'TX_FRAUD_SCENARIO': 0},\n",
       " {'TRANSACTION_ID': 2341015,\n",
       "  'TX_DATETIME': Timestamp('2025-01-31 08:16:19'),\n",
       "  'CUSTOMER_ID': 5,\n",
       "  'TERMINAL_ID': 8388,\n",
       "  'TX_AMOUNT': 6.73,\n",
       "  'TX_TIME_SECONDS': 21111379,\n",
       "  'TX_TIME_DAYS': 244,\n",
       "  'TX_FRAUD': 0,\n",
       "  'TX_FRAUD_SCENARIO': 0},\n",
       " {'TRANSACTION_ID': 2341061,\n",
       "  'TX_DATETIME': Timestamp('2025-01-31 08:20:37'),\n",
       "  'CUSTOMER_ID': 1,\n",
       "  'TERMINAL_ID': 1331,\n",
       "  'TX_AMOUNT': 37.76,\n",
       "  'TX_TIME_SECONDS': 21111637,\n",
       "  'TX_TIME_DAYS': 244,\n",
       "  'TX_FRAUD': 0,\n",
       "  'TX_FRAUD_SCENARIO': 0},\n",
       " {'TRANSACTION_ID': 2342546,\n",
       "  'TX_DATETIME': Timestamp('2025-01-31 10:43:41'),\n",
       "  'CUSTOMER_ID': 8,\n",
       "  'TERMINAL_ID': 2699,\n",
       "  'TX_AMOUNT': 2.0,\n",
       "  'TX_TIME_SECONDS': 21120221,\n",
       "  'TX_TIME_DAYS': 244,\n",
       "  'TX_FRAUD': 0,\n",
       "  'TX_FRAUD_SCENARIO': 0},\n",
       " {'TRANSACTION_ID': 2342984,\n",
       "  'TX_DATETIME': Timestamp('2025-01-31 11:21:29'),\n",
       "  'CUSTOMER_ID': 9,\n",
       "  'TERMINAL_ID': 8718,\n",
       "  'TX_AMOUNT': 65.71,\n",
       "  'TX_TIME_SECONDS': 21122489,\n",
       "  'TX_TIME_DAYS': 244,\n",
       "  'TX_FRAUD': 0,\n",
       "  'TX_FRAUD_SCENARIO': 0},\n",
       " {'TRANSACTION_ID': 2343300,\n",
       "  'TX_DATETIME': Timestamp('2025-01-31 11:47:22'),\n",
       "  'CUSTOMER_ID': 4,\n",
       "  'TERMINAL_ID': 5914,\n",
       "  'TX_AMOUNT': 67.66,\n",
       "  'TX_TIME_SECONDS': 21124042,\n",
       "  'TX_TIME_DAYS': 244,\n",
       "  'TX_FRAUD': 0,\n",
       "  'TX_FRAUD_SCENARIO': 0},\n",
       " {'TRANSACTION_ID': 2343488,\n",
       "  'TX_DATETIME': Timestamp('2025-01-31 12:02:10'),\n",
       "  'CUSTOMER_ID': 6,\n",
       "  'TERMINAL_ID': 172,\n",
       "  'TX_AMOUNT': 28.33,\n",
       "  'TX_TIME_SECONDS': 21124930,\n",
       "  'TX_TIME_DAYS': 244,\n",
       "  'TX_FRAUD': 0,\n",
       "  'TX_FRAUD_SCENARIO': 0},\n",
       " {'TRANSACTION_ID': 2343797,\n",
       "  'TX_DATETIME': Timestamp('2025-01-31 12:28:09'),\n",
       "  'CUSTOMER_ID': 8,\n",
       "  'TERMINAL_ID': 9816,\n",
       "  'TX_AMOUNT': 3.43,\n",
       "  'TX_TIME_SECONDS': 21126489,\n",
       "  'TX_TIME_DAYS': 244,\n",
       "  'TX_FRAUD': 0,\n",
       "  'TX_FRAUD_SCENARIO': 0},\n",
       " {'TRANSACTION_ID': 2344122,\n",
       "  'TX_DATETIME': Timestamp('2025-01-31 12:56:36'),\n",
       "  'CUSTOMER_ID': 0,\n",
       "  'TERMINAL_ID': 3383,\n",
       "  'TX_AMOUNT': 87.89,\n",
       "  'TX_TIME_SECONDS': 21128196,\n",
       "  'TX_TIME_DAYS': 244,\n",
       "  'TX_FRAUD': 0,\n",
       "  'TX_FRAUD_SCENARIO': 0},\n",
       " {'TRANSACTION_ID': 2344596,\n",
       "  'TX_DATETIME': Timestamp('2025-01-31 13:38:45'),\n",
       "  'CUSTOMER_ID': 3,\n",
       "  'TERMINAL_ID': 9074,\n",
       "  'TX_AMOUNT': 16.01,\n",
       "  'TX_TIME_SECONDS': 21130725,\n",
       "  'TX_TIME_DAYS': 244,\n",
       "  'TX_FRAUD': 0,\n",
       "  'TX_FRAUD_SCENARIO': 0},\n",
       " {'TRANSACTION_ID': 2345118,\n",
       "  'TX_DATETIME': Timestamp('2025-01-31 14:24:56'),\n",
       "  'CUSTOMER_ID': 5,\n",
       "  'TERMINAL_ID': 5230,\n",
       "  'TX_AMOUNT': 89.3,\n",
       "  'TX_TIME_SECONDS': 21133496,\n",
       "  'TX_TIME_DAYS': 244,\n",
       "  'TX_FRAUD': 0,\n",
       "  'TX_FRAUD_SCENARIO': 0},\n",
       " {'TRANSACTION_ID': 2345802,\n",
       "  'TX_DATETIME': Timestamp('2025-01-31 15:30:20'),\n",
       "  'CUSTOMER_ID': 0,\n",
       "  'TERMINAL_ID': 6076,\n",
       "  'TX_AMOUNT': 63.58,\n",
       "  'TX_TIME_SECONDS': 21137420,\n",
       "  'TX_TIME_DAYS': 244,\n",
       "  'TX_FRAUD': 0,\n",
       "  'TX_FRAUD_SCENARIO': 0},\n",
       " {'TRANSACTION_ID': 2346713,\n",
       "  'TX_DATETIME': Timestamp('2025-01-31 17:13:07'),\n",
       "  'CUSTOMER_ID': 6,\n",
       "  'TERMINAL_ID': 468,\n",
       "  'TX_AMOUNT': 16.41,\n",
       "  'TX_TIME_SECONDS': 21143587,\n",
       "  'TX_TIME_DAYS': 244,\n",
       "  'TX_FRAUD': 0,\n",
       "  'TX_FRAUD_SCENARIO': 0},\n",
       " {'TRANSACTION_ID': 2346830,\n",
       "  'TX_DATETIME': Timestamp('2025-01-31 17:26:17'),\n",
       "  'CUSTOMER_ID': 1,\n",
       "  'TERMINAL_ID': 3258,\n",
       "  'TX_AMOUNT': 84.94,\n",
       "  'TX_TIME_SECONDS': 21144377,\n",
       "  'TX_TIME_DAYS': 244,\n",
       "  'TX_FRAUD': 0,\n",
       "  'TX_FRAUD_SCENARIO': 0},\n",
       " {'TRANSACTION_ID': 2347434,\n",
       "  'TX_DATETIME': Timestamp('2025-01-31 19:00:34'),\n",
       "  'CUSTOMER_ID': 7,\n",
       "  'TERMINAL_ID': 1231,\n",
       "  'TX_AMOUNT': 36.38,\n",
       "  'TX_TIME_SECONDS': 21150034,\n",
       "  'TX_TIME_DAYS': 244,\n",
       "  'TX_FRAUD': 0,\n",
       "  'TX_FRAUD_SCENARIO': 0},\n",
       " {'TRANSACTION_ID': 2348190,\n",
       "  'TX_DATETIME': Timestamp('2025-01-31 22:44:28'),\n",
       "  'CUSTOMER_ID': 9,\n",
       "  'TERMINAL_ID': 1437,\n",
       "  'TX_AMOUNT': 15.92,\n",
       "  'TX_TIME_SECONDS': 21163468,\n",
       "  'TX_TIME_DAYS': 244,\n",
       "  'TX_FRAUD': 0,\n",
       "  'TX_FRAUD_SCENARIO': 0},\n",
       " {'TRANSACTION_ID': 2348246,\n",
       "  'TX_DATETIME': Timestamp('2025-01-31 23:11:41'),\n",
       "  'CUSTOMER_ID': 8,\n",
       "  'TERMINAL_ID': 7699,\n",
       "  'TX_AMOUNT': 2.52,\n",
       "  'TX_TIME_SECONDS': 21165101,\n",
       "  'TX_TIME_DAYS': 244,\n",
       "  'TX_FRAUD': 0,\n",
       "  'TX_FRAUD_SCENARIO': 0}]"
      ]
     },
     "execution_count": 8,
     "metadata": {},
     "output_type": "execute_result"
    }
   ],
   "source": [
    "df_filtered.to_dict(orient='records')"
   ]
  },
  {
   "cell_type": "markdown",
   "metadata": {},
   "source": [
    "# production code"
   ]
  },
  {
   "cell_type": "code",
   "execution_count": 1,
   "metadata": {},
   "outputs": [],
   "source": [
    "import pyspark\n",
    "from pyspark.sql import SparkSession\n",
    "from pyspark.sql.types import StringType\n",
    "from pyspark.sql.functions import col\n",
    "from pyspark.sql.types import StringType, StructType, StructField\n"
   ]
  },
  {
   "cell_type": "code",
   "execution_count": null,
   "metadata": {},
   "outputs": [
    {
     "name": "stderr",
     "output_type": "stream",
     "text": [
      "your 131072x1 screen size is bogus. expect trouble\n",
      "25/02/13 19:48:01 WARN Utils: Your hostname, GTMSI resolves to a loopback address: 127.0.1.1; using 10.255.255.254 instead (on interface lo)\n",
      "25/02/13 19:48:01 WARN Utils: Set SPARK_LOCAL_IP if you need to bind to another address\n"
     ]
    },
    {
     "name": "stdout",
     "output_type": "stream",
     "text": [
      ":: loading settings :: url = jar:file:/home/starlord/.cache/pypoetry/virtualenvs/realtime-fraud-detection-system-jsIdL3x4-py3.11/lib/python3.11/site-packages/pyspark/jars/ivy-2.5.1.jar!/org/apache/ivy/core/settings/ivysettings.xml\n"
     ]
    },
    {
     "name": "stderr",
     "output_type": "stream",
     "text": [
      "Ivy Default Cache set to: /home/starlord/.ivy2/cache\n",
      "The jars for the packages stored in: /home/starlord/.ivy2/jars\n",
      "org.apache.spark#spark-sql-kafka-0-10_2.12 added as a dependency\n",
      "org.apache.hadoop#hadoop-aws added as a dependency\n",
      "org.apache.iceberg#iceberg-spark-runtime-3.5_2.12 added as a dependency\n",
      "org.projectnessie.nessie-integrations#nessie-spark-extensions-3.5_2.12 added as a dependency\n",
      "software.amazon.awssdk#bundle added as a dependency\n",
      "software.amazon.awssdk#url-connection-client added as a dependency\n",
      ":: resolving dependencies :: org.apache.spark#spark-submit-parent-56ccfd03-fe2c-4b7d-8736-798cff42e55a;1.0\n",
      "\tconfs: [default]\n",
      "\tfound org.apache.spark#spark-sql-kafka-0-10_2.12;3.3.1 in central\n",
      "\tfound org.apache.spark#spark-token-provider-kafka-0-10_2.12;3.3.1 in central\n",
      "\tfound org.apache.kafka#kafka-clients;2.8.1 in central\n",
      "\tfound org.lz4#lz4-java;1.8.0 in central\n",
      "\tfound org.xerial.snappy#snappy-java;1.1.8.4 in central\n",
      "\tfound org.slf4j#slf4j-api;1.7.32 in central\n",
      "\tfound org.apache.hadoop#hadoop-client-runtime;3.3.2 in central\n",
      "\tfound org.spark-project.spark#unused;1.0.0 in central\n",
      "\tfound org.apache.hadoop#hadoop-client-api;3.3.2 in central\n",
      "\tfound commons-logging#commons-logging;1.1.3 in central\n",
      "\tfound com.google.code.findbugs#jsr305;3.0.0 in central\n",
      "\tfound org.apache.commons#commons-pool2;2.11.1 in central\n",
      "\tfound org.apache.hadoop#hadoop-aws;3.3.2 in central\n",
      "\tfound com.amazonaws#aws-java-sdk-bundle;1.11.1026 in central\n",
      "\tfound org.wildfly.openssl#wildfly-openssl;1.0.7.Final in central\n",
      "\tfound org.apache.iceberg#iceberg-spark-runtime-3.5_2.12;1.5.0 in central\n",
      "\tfound org.projectnessie.nessie-integrations#nessie-spark-extensions-3.5_2.12;0.77.1 in central\n",
      "\tfound software.amazon.awssdk#bundle;2.24.8 in central\n",
      "\tfound software.amazon.awssdk#url-connection-client;2.24.8 in central\n",
      "\tfound software.amazon.awssdk#utils;2.24.8 in central\n",
      "\tfound org.reactivestreams#reactive-streams;1.0.4 in central\n",
      "\tfound software.amazon.awssdk#annotations;2.24.8 in central\n",
      "\tfound software.amazon.awssdk#http-client-spi;2.24.8 in central\n",
      "\tfound software.amazon.awssdk#metrics-spi;2.24.8 in central\n",
      ":: resolution report :: resolve 1332ms :: artifacts dl 43ms\n",
      "\t:: modules in use:\n",
      "\tcom.amazonaws#aws-java-sdk-bundle;1.11.1026 from central in [default]\n",
      "\tcom.google.code.findbugs#jsr305;3.0.0 from central in [default]\n",
      "\tcommons-logging#commons-logging;1.1.3 from central in [default]\n",
      "\torg.apache.commons#commons-pool2;2.11.1 from central in [default]\n",
      "\torg.apache.hadoop#hadoop-aws;3.3.2 from central in [default]\n",
      "\torg.apache.hadoop#hadoop-client-api;3.3.2 from central in [default]\n",
      "\torg.apache.hadoop#hadoop-client-runtime;3.3.2 from central in [default]\n",
      "\torg.apache.iceberg#iceberg-spark-runtime-3.5_2.12;1.5.0 from central in [default]\n",
      "\torg.apache.kafka#kafka-clients;2.8.1 from central in [default]\n",
      "\torg.apache.spark#spark-sql-kafka-0-10_2.12;3.3.1 from central in [default]\n",
      "\torg.apache.spark#spark-token-provider-kafka-0-10_2.12;3.3.1 from central in [default]\n",
      "\torg.lz4#lz4-java;1.8.0 from central in [default]\n",
      "\torg.projectnessie.nessie-integrations#nessie-spark-extensions-3.5_2.12;0.77.1 from central in [default]\n",
      "\torg.reactivestreams#reactive-streams;1.0.4 from central in [default]\n",
      "\torg.slf4j#slf4j-api;1.7.32 from central in [default]\n",
      "\torg.spark-project.spark#unused;1.0.0 from central in [default]\n",
      "\torg.wildfly.openssl#wildfly-openssl;1.0.7.Final from central in [default]\n",
      "\torg.xerial.snappy#snappy-java;1.1.8.4 from central in [default]\n",
      "\tsoftware.amazon.awssdk#annotations;2.24.8 from central in [default]\n",
      "\tsoftware.amazon.awssdk#bundle;2.24.8 from central in [default]\n",
      "\tsoftware.amazon.awssdk#http-client-spi;2.24.8 from central in [default]\n",
      "\tsoftware.amazon.awssdk#metrics-spi;2.24.8 from central in [default]\n",
      "\tsoftware.amazon.awssdk#url-connection-client;2.24.8 from central in [default]\n",
      "\tsoftware.amazon.awssdk#utils;2.24.8 from central in [default]\n",
      "\t:: evicted modules:\n",
      "\torg.slf4j#slf4j-api;1.7.30 by [org.slf4j#slf4j-api;1.7.32] in [default]\n",
      "\t---------------------------------------------------------------------\n",
      "\t|                  |            modules            ||   artifacts   |\n",
      "\t|       conf       | number| search|dwnlded|evicted|| number|dwnlded|\n",
      "\t---------------------------------------------------------------------\n",
      "\t|      default     |   25  |   0   |   0   |   1   ||   24  |   0   |\n",
      "\t---------------------------------------------------------------------\n",
      ":: retrieving :: org.apache.spark#spark-submit-parent-56ccfd03-fe2c-4b7d-8736-798cff42e55a\n",
      "\tconfs: [default]\n",
      "\t0 artifacts copied, 24 already retrieved (0kB/17ms)\n",
      "25/02/13 19:48:03 WARN NativeCodeLoader: Unable to load native-hadoop library for your platform... using builtin-java classes where applicable\n",
      "Setting default log level to \"WARN\".\n",
      "To adjust logging level use sc.setLogLevel(newLevel). For SparkR, use setLogLevel(newLevel).\n"
     ]
    },
    {
     "name": "stdout",
     "output_type": "stream",
     "text": [
      "Spark Running\n"
     ]
    }
   ],
   "source": [
    "## DEFINE SENSITIVE VARIABLES\n",
    "CATALOG_URI = \"http://localhost:19120/api/v1\"  # Nessie Server URI\n",
    "WAREHOUSE = \"s3a://commerce/\"  # S3 Address to Write to\n",
    "STORAGE_URI = \"http://localhost:9000\"\n",
    "KAFKA_BROKERS = 'localhost:9092'\n",
    "S3_ENDPOINT = \"http://localhost:9000\"\n",
    "CHECKPOINT_PATH = \"s3a://commerce/checkpoints/debezium.payment.customers/\"\n",
    "\n",
    "# S3 Credentials\n",
    "S3_ACCESS_KEY = \"minio\"\n",
    "S3_SECRET_KEY = \"minio123\"\n",
    "\n",
    "conf = (\n",
    "    pyspark.SparkConf()\n",
    "        .setAppName('app_name')\n",
    "        # Packages\n",
    "        .set('spark.jars.packages', 'org.apache.spark:spark-sql-kafka-0-10_2.12:3.3.1,'\n",
    "                                    'org.apache.hadoop:hadoop-aws:3.3.2,'\n",
    "                                    'org.apache.iceberg:iceberg-spark-runtime-3.5_2.12:1.5.0,'\n",
    "                                    'org.projectnessie.nessie-integrations:nessie-spark-extensions-3.5_2.12:0.77.1')\n",
    "        # SQL Extensions\n",
    "        .set('spark.sql.extensions', 'org.apache.iceberg.spark.extensions.IcebergSparkSessionExtensions,'\n",
    "                                     'org.projectnessie.spark.extensions.NessieSparkSessionExtensions')\n",
    "        # Configuring Catalog\n",
    "        .set('spark.sql.catalog.nessie', 'org.apache.iceberg.spark.SparkCatalog')\n",
    "        .set('spark.sql.catalog.nessie.uri', CATALOG_URI)\n",
    "        .set('spark.sql.catalog.nessie.ref', 'main')\n",
    "        .set('spark.sql.catalog.nessie.authentication.type', 'NONE')\n",
    "        .set('spark.sql.catalog.nessie.catalog-impl', 'org.apache.iceberg.nessie.NessieCatalog')\n",
    "        .set('spark.sql.catalog.nessie.warehouse', WAREHOUSE)\n",
    "        .set('spark.sql.catalog.nessie.s3.secret.region', 'us-east-1')\n",
    "\n",
    "        # S3 Configuration\n",
    "        .set('spark.hadoop.fs.s3a.endpoint', S3_ENDPOINT)\n",
    "        .set('spark.hadoop.fs.s3a.access.key', S3_ACCESS_KEY)\n",
    "        .set('spark.hadoop.fs.s3a.secret.key', S3_SECRET_KEY)\n",
    "        .set('spark.hadoop.fs.s3a.impl', 'org.apache.hadoop.fs.s3a.S3AFileSystem')\n",
    "        .set('spark.hadoop.fs.s3a.path.style.access', 'true')\n",
    "        .set('spark.hadoop.fs.s3a.connection.ssl.enabled', 'false')  # Disable SSL if using MinIO locally\n",
    ")\n",
    "\n",
    "## Start Spark Session\n",
    "spark = SparkSession.builder.config(conf=conf).getOrCreate()\n",
    "print(\"Spark Running\")\n"
   ]
  },
  {
   "cell_type": "code",
   "execution_count": null,
   "metadata": {},
   "outputs": [
    {
     "name": "stderr",
     "output_type": "stream",
     "text": [
      "25/02/10 22:13:04 WARN Utils: Your hostname, Gauravs-MacBook-Air-3.local resolves to a loopback address: 127.0.0.1; using 192.168.1.10 instead (on interface en0)\n",
      "25/02/10 22:13:04 WARN Utils: Set SPARK_LOCAL_IP if you need to bind to another address\n"
     ]
    },
    {
     "name": "stdout",
     "output_type": "stream",
     "text": [
      ":: loading settings :: url = jar:file:/Users/saurabh/Library/Caches/pypoetry/virtualenvs/realtime-fraud-detection-system-eUiKKk2v-py3.13/lib/python3.13/site-packages/pyspark/jars/ivy-2.5.1.jar!/org/apache/ivy/core/settings/ivysettings.xml\n"
     ]
    },
    {
     "name": "stderr",
     "output_type": "stream",
     "text": [
      "Ivy Default Cache set to: /Users/saurabh/.ivy2/cache\n",
      "The jars for the packages stored in: /Users/saurabh/.ivy2/jars\n",
      "org.apache.spark#spark-sql-kafka-0-10_2.12 added as a dependency\n",
      "org.apache.iceberg#iceberg-spark-runtime-3.5_2.12 added as a dependency\n",
      "org.apache.hadoop#hadoop-aws added as a dependency\n",
      ":: resolving dependencies :: org.apache.spark#spark-submit-parent-ba0a1697-3bdc-474f-b48a-19ff0897d01d;1.0\n",
      "\tconfs: [default]\n",
      "\tfound org.apache.spark#spark-sql-kafka-0-10_2.12;3.3.1 in central\n",
      "\tfound org.apache.spark#spark-token-provider-kafka-0-10_2.12;3.3.1 in central\n",
      "\tfound org.apache.kafka#kafka-clients;2.8.1 in central\n",
      "\tfound org.lz4#lz4-java;1.8.0 in central\n",
      "\tfound org.xerial.snappy#snappy-java;1.1.8.4 in central\n",
      "\tfound org.slf4j#slf4j-api;1.7.32 in central\n",
      "\tfound org.apache.hadoop#hadoop-client-runtime;3.3.2 in central\n",
      "\tfound org.spark-project.spark#unused;1.0.0 in central\n",
      "\tfound org.apache.hadoop#hadoop-client-api;3.3.2 in central\n",
      "\tfound commons-logging#commons-logging;1.1.3 in central\n",
      "\tfound com.google.code.findbugs#jsr305;3.0.0 in central\n",
      "\tfound org.apache.commons#commons-pool2;2.11.1 in central\n",
      "\tfound org.apache.iceberg#iceberg-spark-runtime-3.5_2.12;1.7.1 in central\n",
      "\tfound org.apache.hadoop#hadoop-aws;3.3.2 in central\n",
      "\tfound com.amazonaws#aws-java-sdk-bundle;1.11.1026 in central\n",
      "\tfound org.wildfly.openssl#wildfly-openssl;1.0.7.Final in central\n",
      ":: resolution report :: resolve 1341ms :: artifacts dl 46ms\n",
      "\t:: modules in use:\n",
      "\tcom.amazonaws#aws-java-sdk-bundle;1.11.1026 from central in [default]\n",
      "\tcom.google.code.findbugs#jsr305;3.0.0 from central in [default]\n",
      "\tcommons-logging#commons-logging;1.1.3 from central in [default]\n",
      "\torg.apache.commons#commons-pool2;2.11.1 from central in [default]\n",
      "\torg.apache.hadoop#hadoop-aws;3.3.2 from central in [default]\n",
      "\torg.apache.hadoop#hadoop-client-api;3.3.2 from central in [default]\n",
      "\torg.apache.hadoop#hadoop-client-runtime;3.3.2 from central in [default]\n",
      "\torg.apache.iceberg#iceberg-spark-runtime-3.5_2.12;1.7.1 from central in [default]\n",
      "\torg.apache.kafka#kafka-clients;2.8.1 from central in [default]\n",
      "\torg.apache.spark#spark-sql-kafka-0-10_2.12;3.3.1 from central in [default]\n",
      "\torg.apache.spark#spark-token-provider-kafka-0-10_2.12;3.3.1 from central in [default]\n",
      "\torg.lz4#lz4-java;1.8.0 from central in [default]\n",
      "\torg.slf4j#slf4j-api;1.7.32 from central in [default]\n",
      "\torg.spark-project.spark#unused;1.0.0 from central in [default]\n",
      "\torg.wildfly.openssl#wildfly-openssl;1.0.7.Final from central in [default]\n",
      "\torg.xerial.snappy#snappy-java;1.1.8.4 from central in [default]\n",
      "\t---------------------------------------------------------------------\n",
      "\t|                  |            modules            ||   artifacts   |\n",
      "\t|       conf       | number| search|dwnlded|evicted|| number|dwnlded|\n",
      "\t---------------------------------------------------------------------\n",
      "\t|      default     |   16  |   0   |   0   |   0   ||   16  |   0   |\n",
      "\t---------------------------------------------------------------------\n",
      ":: retrieving :: org.apache.spark#spark-submit-parent-ba0a1697-3bdc-474f-b48a-19ff0897d01d\n",
      "\tconfs: [default]\n",
      "\t0 artifacts copied, 16 already retrieved (0kB/30ms)\n",
      "25/02/10 22:13:07 WARN NativeCodeLoader: Unable to load native-hadoop library for your platform... using builtin-java classes where applicable\n",
      "Setting default log level to \"WARN\".\n",
      "To adjust logging level use sc.setLogLevel(newLevel). For SparkR, use setLogLevel(newLevel).\n"
     ]
    }
   ],
   "source": [
    "# from pyspark.sql import SparkSession\n",
    "# spark = (SparkSession.builder\n",
    "#                 .config(\"spark.jars.packages\", \"org.apache.spark:spark-sql-kafka-0-10_2.12:3.3.1,org.apache.iceberg:iceberg-spark-runtime-3.5_2.12:1.7.1,org.apache.hadoop:hadoop-aws:3.3.2,,8\")\n",
    "#                 .config(\"spark.hadoop.fs.s3a.endpoint\", \"http://localhost:9000\") \n",
    "#                 .config(\"spark.hadoop.fs.s3a.access.key\", \"minio\") \n",
    "#                 .config(\"spark.hadoop.fs.s3a.secret.key\", \"minio123\") \n",
    "#                 .config(\"spark.hadoop.fs.s3a.path.style.access\", \"true\") \n",
    "#                 .config(\"spark.hadoop.fs.s3a.impl\", \"org.apache.hadoop.fs.s3a.S3AFileSystem\")\n",
    "#                 .config(\"spark.sql.catalog.spark_catalog\", \"org.apache.iceberg.spark.SparkSessionCatalog\")\n",
    "#                 .config(\"spark.sql.catalog.spark_catalog.type\", \"hadoop\")\n",
    "#                 .config(\"spark.sql.catalog.spark_catalog.warehouse\", \"s3a://commerce/warehouse/\") \n",
    "#                 .config(\"spark.sql.extensions\", \"org.apache.iceberg.spark.extensions.IcebergSparkSessionExtensions\") \n",
    "#                 .appName(\"Kafka to MinIO Pipeline\")\n",
    "#          .getOrCreate())"
   ]
  },
  {
   "cell_type": "code",
   "execution_count": 3,
   "metadata": {},
   "outputs": [],
   "source": [
    "def execute_query(query: str):\n",
    "    spark.sql(query).show(truncate=False)"
   ]
  },
  {
   "cell_type": "code",
   "execution_count": null,
   "metadata": {},
   "outputs": [
    {
     "name": "stderr",
     "output_type": "stream",
     "text": [
      "25/02/13 19:48:29 WARN MetricsConfig: Cannot locate configuration: tried hadoop-metrics2-s3a-file-system.properties,hadoop-metrics2.properties\n"
     ]
    },
    {
     "name": "stdout",
     "output_type": "stream",
     "text": [
      "++\n",
      "||\n",
      "++\n",
      "++\n",
      "\n"
     ]
    }
   ],
   "source": [
    "execute_query(\"\"\"\n",
    "  CREATE TABLE IF NOT EXISTS nessie.payment.customer (\n",
    "      customer_id INT,\n",
    "      x_location FLOAT,\n",
    "      y_location FLOAT,\n",
    "      row_created_timestamp TIMESTAMP,\n",
    "      row_updated_timestamp TIMESTAMP\n",
    ")\n",
    "USING iceberg\n",
    "\"\"\")"
   ]
  },
  {
   "cell_type": "code",
   "execution_count": 4,
   "metadata": {},
   "outputs": [
    {
     "name": "stdout",
     "output_type": "stream",
     "text": [
      "+-------------+\n",
      "|catalog      |\n",
      "+-------------+\n",
      "|spark_catalog|\n",
      "+-------------+\n",
      "\n"
     ]
    }
   ],
   "source": [
    "execute_query(\"show catalogs\")"
   ]
  },
  {
   "cell_type": "code",
   "execution_count": 5,
   "metadata": {},
   "outputs": [
    {
     "name": "stdout",
     "output_type": "stream",
     "text": [
      "+---------+---------+-----------+\n",
      "|namespace|tableName|isTemporary|\n",
      "+---------+---------+-----------+\n",
      "+---------+---------+-----------+\n",
      "\n"
     ]
    }
   ],
   "source": [
    "execute_query(\"show tables in nessie.default\")"
   ]
  },
  {
   "cell_type": "code",
   "execution_count": 5,
   "metadata": {},
   "outputs": [],
   "source": [
    "# Kafka configurations\n",
    "kafka_brokers = \"localhost:9093\"  # Update with your Kafka broker address\n",
    "kafka_topic = \"debezium.payment.customers\"\n",
    "# Read data from Kafka (batch mode)\n",
    "kafka_df = spark.read \\\n",
    "    .format(\"kafka\") \\\n",
    "    .option(\"kafka.bootstrap.servers\", kafka_brokers) \\\n",
    "    .option(\"subscribe\", kafka_topic) \\\n",
    "    .option(\"startingOffsets\", \"earliest\") \\\n",
    "    .load()"
   ]
  },
  {
   "cell_type": "code",
   "execution_count": 6,
   "metadata": {},
   "outputs": [
    {
     "name": "stdout",
     "output_type": "stream",
     "text": [
      "root\n",
      " |-- key: binary (nullable = true)\n",
      " |-- value: binary (nullable = true)\n",
      " |-- topic: string (nullable = true)\n",
      " |-- partition: integer (nullable = true)\n",
      " |-- offset: long (nullable = true)\n",
      " |-- timestamp: timestamp (nullable = true)\n",
      " |-- timestampType: integer (nullable = true)\n",
      "\n"
     ]
    }
   ],
   "source": [
    "kafka_df.printSchema()"
   ]
  },
  {
   "cell_type": "code",
   "execution_count": 7,
   "metadata": {},
   "outputs": [
    {
     "name": "stderr",
     "output_type": "stream",
     "text": [
      "25/02/13 19:49:07 WARN AdminClientConfig: The configuration 'key.deserializer' was supplied but isn't a known config.\n",
      "25/02/13 19:49:07 WARN AdminClientConfig: The configuration 'value.deserializer' was supplied but isn't a known config.\n",
      "25/02/13 19:49:07 WARN AdminClientConfig: The configuration 'enable.auto.commit' was supplied but isn't a known config.\n",
      "25/02/13 19:49:07 WARN AdminClientConfig: The configuration 'max.poll.records' was supplied but isn't a known config.\n",
      "25/02/13 19:49:07 WARN AdminClientConfig: The configuration 'auto.offset.reset' was supplied but isn't a known config.\n",
      "[Stage 0:>                                                          (0 + 1) / 1]\r"
     ]
    },
    {
     "name": "stdout",
     "output_type": "stream",
     "text": [
      "+--------------------+--------------------+--------------------+---------+------+--------------------+-------------+\n",
      "|                 key|               value|               topic|partition|offset|           timestamp|timestampType|\n",
      "+--------------------+--------------------+--------------------+---------+------+--------------------+-------------+\n",
      "|[7B 22 73 63 68 6...|[7B 22 73 63 68 6...|debezium.payment....|        0|     0|2025-02-13 19:31:...|            0|\n",
      "|[7B 22 73 63 68 6...|[7B 22 73 63 68 6...|debezium.payment....|        0|     1|2025-02-13 19:31:...|            0|\n",
      "|[7B 22 73 63 68 6...|[7B 22 73 63 68 6...|debezium.payment....|        0|     2|2025-02-13 19:31:...|            0|\n",
      "|[7B 22 73 63 68 6...|[7B 22 73 63 68 6...|debezium.payment....|        0|     3|2025-02-13 19:31:...|            0|\n",
      "|[7B 22 73 63 68 6...|[7B 22 73 63 68 6...|debezium.payment....|        0|     4|2025-02-13 19:31:...|            0|\n",
      "|[7B 22 73 63 68 6...|[7B 22 73 63 68 6...|debezium.payment....|        0|     5|2025-02-13 19:31:...|            0|\n",
      "|[7B 22 73 63 68 6...|[7B 22 73 63 68 6...|debezium.payment....|        0|     6|2025-02-13 19:31:...|            0|\n",
      "|[7B 22 73 63 68 6...|[7B 22 73 63 68 6...|debezium.payment....|        0|     7|2025-02-13 19:31:...|            0|\n",
      "|[7B 22 73 63 68 6...|[7B 22 73 63 68 6...|debezium.payment....|        0|     8|2025-02-13 19:31:...|            0|\n",
      "|[7B 22 73 63 68 6...|[7B 22 73 63 68 6...|debezium.payment....|        0|     9|2025-02-13 19:31:...|            0|\n",
      "+--------------------+--------------------+--------------------+---------+------+--------------------+-------------+\n",
      "\n"
     ]
    },
    {
     "name": "stderr",
     "output_type": "stream",
     "text": [
      "                                                                                \r"
     ]
    }
   ],
   "source": [
    "kafka_df.show()"
   ]
  },
  {
   "cell_type": "code",
   "execution_count": null,
   "metadata": {},
   "outputs": [
    {
     "ename": "",
     "evalue": "",
     "output_type": "error",
     "traceback": [
      "\u001b[1;31mnotebook controller is DISPOSED. \n",
      "\u001b[1;31mView Jupyter <a href='command:jupyter.viewOutput'>log</a> for further details."
     ]
    }
   ],
   "source": [
    "from pyspark.sql.types import StructType, StructField, IntegerType, DoubleType, StringType, LongType\n",
    "\n",
    "# Define the schema for the JSON messages\n",
    "column_schema = StructType([\n",
    "StructField(\"schema\", StringType(), False),\n",
    "StructField(\"payload\", StructType([\n",
    "    StructField(\"before\", StructType([\n",
    "        StructField(\"customer_id\", IntegerType(), False),\n",
    "        StructField(\"x_location\", DoubleType(), False),\n",
    "        StructField(\"y_location\", DoubleType(), False)\n",
    "    ]), True),\n",
    "    StructField(\"after\", StructType([\n",
    "        StructField(\"customer_id\", IntegerType(), False),\n",
    "        StructField(\"x_location\", DoubleType(), False),\n",
    "        StructField(\"y_location\", DoubleType(), False)\n",
    "    ]), True),\n",
    "    StructField(\"source\", StructType([\n",
    "        StructField(\"version\", StringType(), False),\n",
    "        StructField(\"connector\", StringType(), False),\n",
    "        StructField(\"name\", StringType(), False),\n",
    "        StructField(\"ts_ms\", LongType(), False),\n",
    "        StructField(\"snapshot\", StringType(), True),\n",
    "        StructField(\"db\", StringType(), False),\n",
    "        StructField(\"sequence\", StringType(), True),\n",
    "        StructField(\"ts_us\", LongType(), True),\n",
    "        StructField(\"ts_ns\", LongType(), True),\n",
    "        StructField(\"schema\", StringType(), False),\n",
    "        StructField(\"table\", StringType(), False),\n",
    "        StructField(\"txId\", LongType(), True),\n",
    "        StructField(\"lsn\", LongType(), True),\n",
    "        StructField(\"xmin\", LongType(), True)\n",
    "    ]), False),\n",
    "    StructField(\"transaction\", StructType([\n",
    "        StructField(\"id\", StringType(), False),\n",
    "        StructField(\"total_order\", LongType(), False),\n",
    "        StructField(\"data_collection_order\", LongType(), False)\n",
    "    ]), True),\n",
    "    StructField(\"op\", StringType(), False),\n",
    "    StructField(\"ts_ms\", LongType(), True),\n",
    "    StructField(\"ts_us\", LongType(), True),\n",
    "    StructField(\"ts_ns\", LongType(), True)\n",
    "]))])\n",
    "\n",
    "from pyspark.sql.functions import from_json\n",
    "\n",
    "kafka_df = kafka_df.withColumn(\"value\", col(\"value\").cast(StringType())) \\\n",
    "    .withColumn(\"key\", col(\"key\").cast(StringType()))\n",
    "# Apply the schema to the DataFrame\n",
    "kafka_df = kafka_df.withColumn(\"value\", from_json(\"value\", column_schema))\n",
    "kafka_df.createOrReplaceTempView(\"kafkadata\")"
   ]
  },
  {
   "cell_type": "code",
   "execution_count": null,
   "metadata": {},
   "outputs": [
    {
     "name": "stderr",
     "output_type": "stream",
     "text": [
      "25/02/13 19:44:21 WARN AdminClientConfig: The configuration 'key.deserializer' was supplied but isn't a known config.\n",
      "25/02/13 19:44:21 WARN AdminClientConfig: The configuration 'value.deserializer' was supplied but isn't a known config.\n",
      "25/02/13 19:44:21 WARN AdminClientConfig: The configuration 'enable.auto.commit' was supplied but isn't a known config.\n",
      "25/02/13 19:44:21 WARN AdminClientConfig: The configuration 'max.poll.records' was supplied but isn't a known config.\n",
      "25/02/13 19:44:21 WARN AdminClientConfig: The configuration 'auto.offset.reset' was supplied but isn't a known config.\n"
     ]
    },
    {
     "name": "stdout",
     "output_type": "stream",
     "text": [
      "+------------------------------------------------------------------------------------------------------------------------------------------------------------------------------------------------+--------------------------------------------------------------------------------------------------------------------------------------------------------------------------------------------------------------------------------------------------------------------------------------------------------------------------------------------------------------------------------------------------------------------------------------------------------------------------------------------------------------------------------------------------------------------------------------------------------------------------------------------------------------------------------------------------------------------------------------------------------------------------------------------------------------------------------------------------------------------------------------------------------------------------------------------------------------------------------------------------------------------------------------------------------------------------------------------------------------------------------------------------------------------------------------------------------------------------------------------------------------------------------------------------------------------------------------------------------------------------------------------------------------------------------------------------------------------------------------------------------------------------------------------------------------------------------------------------------------------------------------------------------------------------------------------------------------------------------------------------------------------------------------------------------------------------------------------------------------------------------------------------------------------------------------------------------------------------------------------------------------------------------------------------------------------------------------------------------------------------------------------------------------------------------------------------------------------------------------------------------------------------------------------------------------------------------------------------------------------------------------------------------------------------------------------------+--------------------------+---------+------+-----------------------+-------------+\n",
      "|key                                                                                                                                                                                             |value                                                                                                                                                                                                                                                                                                                                                                                                                                                                                                                                                                                                                                                                                                                                                                                                                                                                                                                                                                                                                                                                                                                                                                                                                                                                                                                                                                                                                                                                                                                                                                                                                                                                                                                                                                                                                                                                                                                                                                                                                                                                                                                                                                                                                                                                                                                                                                                                                                             |topic                     |partition|offset|timestamp              |timestampType|\n",
      "+------------------------------------------------------------------------------------------------------------------------------------------------------------------------------------------------+--------------------------------------------------------------------------------------------------------------------------------------------------------------------------------------------------------------------------------------------------------------------------------------------------------------------------------------------------------------------------------------------------------------------------------------------------------------------------------------------------------------------------------------------------------------------------------------------------------------------------------------------------------------------------------------------------------------------------------------------------------------------------------------------------------------------------------------------------------------------------------------------------------------------------------------------------------------------------------------------------------------------------------------------------------------------------------------------------------------------------------------------------------------------------------------------------------------------------------------------------------------------------------------------------------------------------------------------------------------------------------------------------------------------------------------------------------------------------------------------------------------------------------------------------------------------------------------------------------------------------------------------------------------------------------------------------------------------------------------------------------------------------------------------------------------------------------------------------------------------------------------------------------------------------------------------------------------------------------------------------------------------------------------------------------------------------------------------------------------------------------------------------------------------------------------------------------------------------------------------------------------------------------------------------------------------------------------------------------------------------------------------------------------------------------------------------+--------------------------+---------+------+-----------------------+-------------+\n",
      "|{\"schema\":{\"type\":\"struct\",\"fields\":[{\"type\":\"int32\",\"optional\":false,\"default\":0,\"field\":\"customer_id\"}],\"optional\":false,\"name\":\"debezium.payment.customers.Key\"},\"payload\":{\"customer_id\":0}}|{{\"type\":\"struct\",\"fields\":[{\"type\":\"struct\",\"fields\":[{\"type\":\"int32\",\"optional\":false,\"default\":0,\"field\":\"customer_id\"},{\"type\":\"double\",\"optional\":false,\"field\":\"x_location\"},{\"type\":\"double\",\"optional\":false,\"field\":\"y_location\"}],\"optional\":true,\"name\":\"debezium.payment.customers.Value\",\"field\":\"before\"},{\"type\":\"struct\",\"fields\":[{\"type\":\"int32\",\"optional\":false,\"default\":0,\"field\":\"customer_id\"},{\"type\":\"double\",\"optional\":false,\"field\":\"x_location\"},{\"type\":\"double\",\"optional\":false,\"field\":\"y_location\"}],\"optional\":true,\"name\":\"debezium.payment.customers.Value\",\"field\":\"after\"},{\"type\":\"struct\",\"fields\":[{\"type\":\"string\",\"optional\":false,\"field\":\"version\"},{\"type\":\"string\",\"optional\":false,\"field\":\"connector\"},{\"type\":\"string\",\"optional\":false,\"field\":\"name\"},{\"type\":\"int64\",\"optional\":false,\"field\":\"ts_ms\"},{\"type\":\"string\",\"optional\":true,\"name\":\"io.debezium.data.Enum\",\"version\":1,\"parameters\":{\"allowed\":\"true,last,false,incremental\"},\"default\":\"false\",\"field\":\"snapshot\"},{\"type\":\"string\",\"optional\":false,\"field\":\"db\"},{\"type\":\"string\",\"optional\":true,\"field\":\"sequence\"},{\"type\":\"int64\",\"optional\":true,\"field\":\"ts_us\"},{\"type\":\"int64\",\"optional\":true,\"field\":\"ts_ns\"},{\"type\":\"string\",\"optional\":false,\"field\":\"schema\"},{\"type\":\"string\",\"optional\":false,\"field\":\"table\"},{\"type\":\"int64\",\"optional\":true,\"field\":\"txId\"},{\"type\":\"int64\",\"optional\":true,\"field\":\"lsn\"},{\"type\":\"int64\",\"optional\":true,\"field\":\"xmin\"}],\"optional\":false,\"name\":\"io.debezium.connector.postgresql.Source\",\"field\":\"source\"},{\"type\":\"struct\",\"fields\":[{\"type\":\"string\",\"optional\":false,\"field\":\"id\"},{\"type\":\"int64\",\"optional\":false,\"field\":\"total_order\"},{\"type\":\"int64\",\"optional\":false,\"field\":\"data_collection_order\"}],\"optional\":true,\"name\":\"event.block\",\"version\":1,\"field\":\"transaction\"},{\"type\":\"string\",\"optional\":false,\"field\":\"op\"},{\"type\":\"int64\",\"optional\":true,\"field\":\"ts_ms\"},{\"type\":\"int64\",\"optional\":true,\"field\":\"ts_us\"},{\"type\":\"int64\",\"optional\":true,\"field\":\"ts_ns\"}],\"optional\":false,\"name\":\"debezium.payment.customers.Envelope\",\"version\":2}, {NULL, {0, 54.88135, 71.518937}, {2.7.3.Final, postgresql, debezium, 1739455278623, first, postgres, [null,\"23234720\"], 1739455278623797, 1739455278623797000, payment, customers, 745, 23234720, NULL}, NULL, r, 1739455279023, 1739455279023244, 1739455279023244319}}                   |debezium.payment.customers|0        |0     |2025-02-13 19:31:19.59 |0            |\n",
      "|{\"schema\":{\"type\":\"struct\",\"fields\":[{\"type\":\"int32\",\"optional\":false,\"default\":0,\"field\":\"customer_id\"}],\"optional\":false,\"name\":\"debezium.payment.customers.Key\"},\"payload\":{\"customer_id\":1}}|{{\"type\":\"struct\",\"fields\":[{\"type\":\"struct\",\"fields\":[{\"type\":\"int32\",\"optional\":false,\"default\":0,\"field\":\"customer_id\"},{\"type\":\"double\",\"optional\":false,\"field\":\"x_location\"},{\"type\":\"double\",\"optional\":false,\"field\":\"y_location\"}],\"optional\":true,\"name\":\"debezium.payment.customers.Value\",\"field\":\"before\"},{\"type\":\"struct\",\"fields\":[{\"type\":\"int32\",\"optional\":false,\"default\":0,\"field\":\"customer_id\"},{\"type\":\"double\",\"optional\":false,\"field\":\"x_location\"},{\"type\":\"double\",\"optional\":false,\"field\":\"y_location\"}],\"optional\":true,\"name\":\"debezium.payment.customers.Value\",\"field\":\"after\"},{\"type\":\"struct\",\"fields\":[{\"type\":\"string\",\"optional\":false,\"field\":\"version\"},{\"type\":\"string\",\"optional\":false,\"field\":\"connector\"},{\"type\":\"string\",\"optional\":false,\"field\":\"name\"},{\"type\":\"int64\",\"optional\":false,\"field\":\"ts_ms\"},{\"type\":\"string\",\"optional\":true,\"name\":\"io.debezium.data.Enum\",\"version\":1,\"parameters\":{\"allowed\":\"true,last,false,incremental\"},\"default\":\"false\",\"field\":\"snapshot\"},{\"type\":\"string\",\"optional\":false,\"field\":\"db\"},{\"type\":\"string\",\"optional\":true,\"field\":\"sequence\"},{\"type\":\"int64\",\"optional\":true,\"field\":\"ts_us\"},{\"type\":\"int64\",\"optional\":true,\"field\":\"ts_ns\"},{\"type\":\"string\",\"optional\":false,\"field\":\"schema\"},{\"type\":\"string\",\"optional\":false,\"field\":\"table\"},{\"type\":\"int64\",\"optional\":true,\"field\":\"txId\"},{\"type\":\"int64\",\"optional\":true,\"field\":\"lsn\"},{\"type\":\"int64\",\"optional\":true,\"field\":\"xmin\"}],\"optional\":false,\"name\":\"io.debezium.connector.postgresql.Source\",\"field\":\"source\"},{\"type\":\"struct\",\"fields\":[{\"type\":\"string\",\"optional\":false,\"field\":\"id\"},{\"type\":\"int64\",\"optional\":false,\"field\":\"total_order\"},{\"type\":\"int64\",\"optional\":false,\"field\":\"data_collection_order\"}],\"optional\":true,\"name\":\"event.block\",\"version\":1,\"field\":\"transaction\"},{\"type\":\"string\",\"optional\":false,\"field\":\"op\"},{\"type\":\"int64\",\"optional\":true,\"field\":\"ts_ms\"},{\"type\":\"int64\",\"optional\":true,\"field\":\"ts_us\"},{\"type\":\"int64\",\"optional\":true,\"field\":\"ts_ns\"}],\"optional\":false,\"name\":\"debezium.payment.customers.Envelope\",\"version\":2}, {NULL, {1, 60.276338, 54.488318}, {2.7.3.Final, postgresql, debezium, 1739455278623, true, postgres, [null,\"23234720\"], 1739455278623797, 1739455278623797000, payment, customers, 745, 23234720, NULL}, NULL, r, 1739455279032, 1739455279032321, 1739455279032321345}}                   |debezium.payment.customers|0        |1     |2025-02-13 19:31:19.593|0            |\n",
      "|{\"schema\":{\"type\":\"struct\",\"fields\":[{\"type\":\"int32\",\"optional\":false,\"default\":0,\"field\":\"customer_id\"}],\"optional\":false,\"name\":\"debezium.payment.customers.Key\"},\"payload\":{\"customer_id\":2}}|{{\"type\":\"struct\",\"fields\":[{\"type\":\"struct\",\"fields\":[{\"type\":\"int32\",\"optional\":false,\"default\":0,\"field\":\"customer_id\"},{\"type\":\"double\",\"optional\":false,\"field\":\"x_location\"},{\"type\":\"double\",\"optional\":false,\"field\":\"y_location\"}],\"optional\":true,\"name\":\"debezium.payment.customers.Value\",\"field\":\"before\"},{\"type\":\"struct\",\"fields\":[{\"type\":\"int32\",\"optional\":false,\"default\":0,\"field\":\"customer_id\"},{\"type\":\"double\",\"optional\":false,\"field\":\"x_location\"},{\"type\":\"double\",\"optional\":false,\"field\":\"y_location\"}],\"optional\":true,\"name\":\"debezium.payment.customers.Value\",\"field\":\"after\"},{\"type\":\"struct\",\"fields\":[{\"type\":\"string\",\"optional\":false,\"field\":\"version\"},{\"type\":\"string\",\"optional\":false,\"field\":\"connector\"},{\"type\":\"string\",\"optional\":false,\"field\":\"name\"},{\"type\":\"int64\",\"optional\":false,\"field\":\"ts_ms\"},{\"type\":\"string\",\"optional\":true,\"name\":\"io.debezium.data.Enum\",\"version\":1,\"parameters\":{\"allowed\":\"true,last,false,incremental\"},\"default\":\"false\",\"field\":\"snapshot\"},{\"type\":\"string\",\"optional\":false,\"field\":\"db\"},{\"type\":\"string\",\"optional\":true,\"field\":\"sequence\"},{\"type\":\"int64\",\"optional\":true,\"field\":\"ts_us\"},{\"type\":\"int64\",\"optional\":true,\"field\":\"ts_ns\"},{\"type\":\"string\",\"optional\":false,\"field\":\"schema\"},{\"type\":\"string\",\"optional\":false,\"field\":\"table\"},{\"type\":\"int64\",\"optional\":true,\"field\":\"txId\"},{\"type\":\"int64\",\"optional\":true,\"field\":\"lsn\"},{\"type\":\"int64\",\"optional\":true,\"field\":\"xmin\"}],\"optional\":false,\"name\":\"io.debezium.connector.postgresql.Source\",\"field\":\"source\"},{\"type\":\"struct\",\"fields\":[{\"type\":\"string\",\"optional\":false,\"field\":\"id\"},{\"type\":\"int64\",\"optional\":false,\"field\":\"total_order\"},{\"type\":\"int64\",\"optional\":false,\"field\":\"data_collection_order\"}],\"optional\":true,\"name\":\"event.block\",\"version\":1,\"field\":\"transaction\"},{\"type\":\"string\",\"optional\":false,\"field\":\"op\"},{\"type\":\"int64\",\"optional\":true,\"field\":\"ts_ms\"},{\"type\":\"int64\",\"optional\":true,\"field\":\"ts_us\"},{\"type\":\"int64\",\"optional\":true,\"field\":\"ts_ns\"}],\"optional\":false,\"name\":\"debezium.payment.customers.Envelope\",\"version\":2}, {NULL, {2, 42.36548, 64.589411}, {2.7.3.Final, postgresql, debezium, 1739455278623, true, postgres, [null,\"23234720\"], 1739455278623797, 1739455278623797000, payment, customers, 745, 23234720, NULL}, NULL, r, 1739455279034, 1739455279034048, 1739455279034048107}}                    |debezium.payment.customers|0        |2     |2025-02-13 19:31:19.595|0            |\n",
      "|{\"schema\":{\"type\":\"struct\",\"fields\":[{\"type\":\"int32\",\"optional\":false,\"default\":0,\"field\":\"customer_id\"}],\"optional\":false,\"name\":\"debezium.payment.customers.Key\"},\"payload\":{\"customer_id\":3}}|{{\"type\":\"struct\",\"fields\":[{\"type\":\"struct\",\"fields\":[{\"type\":\"int32\",\"optional\":false,\"default\":0,\"field\":\"customer_id\"},{\"type\":\"double\",\"optional\":false,\"field\":\"x_location\"},{\"type\":\"double\",\"optional\":false,\"field\":\"y_location\"}],\"optional\":true,\"name\":\"debezium.payment.customers.Value\",\"field\":\"before\"},{\"type\":\"struct\",\"fields\":[{\"type\":\"int32\",\"optional\":false,\"default\":0,\"field\":\"customer_id\"},{\"type\":\"double\",\"optional\":false,\"field\":\"x_location\"},{\"type\":\"double\",\"optional\":false,\"field\":\"y_location\"}],\"optional\":true,\"name\":\"debezium.payment.customers.Value\",\"field\":\"after\"},{\"type\":\"struct\",\"fields\":[{\"type\":\"string\",\"optional\":false,\"field\":\"version\"},{\"type\":\"string\",\"optional\":false,\"field\":\"connector\"},{\"type\":\"string\",\"optional\":false,\"field\":\"name\"},{\"type\":\"int64\",\"optional\":false,\"field\":\"ts_ms\"},{\"type\":\"string\",\"optional\":true,\"name\":\"io.debezium.data.Enum\",\"version\":1,\"parameters\":{\"allowed\":\"true,last,false,incremental\"},\"default\":\"false\",\"field\":\"snapshot\"},{\"type\":\"string\",\"optional\":false,\"field\":\"db\"},{\"type\":\"string\",\"optional\":true,\"field\":\"sequence\"},{\"type\":\"int64\",\"optional\":true,\"field\":\"ts_us\"},{\"type\":\"int64\",\"optional\":true,\"field\":\"ts_ns\"},{\"type\":\"string\",\"optional\":false,\"field\":\"schema\"},{\"type\":\"string\",\"optional\":false,\"field\":\"table\"},{\"type\":\"int64\",\"optional\":true,\"field\":\"txId\"},{\"type\":\"int64\",\"optional\":true,\"field\":\"lsn\"},{\"type\":\"int64\",\"optional\":true,\"field\":\"xmin\"}],\"optional\":false,\"name\":\"io.debezium.connector.postgresql.Source\",\"field\":\"source\"},{\"type\":\"struct\",\"fields\":[{\"type\":\"string\",\"optional\":false,\"field\":\"id\"},{\"type\":\"int64\",\"optional\":false,\"field\":\"total_order\"},{\"type\":\"int64\",\"optional\":false,\"field\":\"data_collection_order\"}],\"optional\":true,\"name\":\"event.block\",\"version\":1,\"field\":\"transaction\"},{\"type\":\"string\",\"optional\":false,\"field\":\"op\"},{\"type\":\"int64\",\"optional\":true,\"field\":\"ts_ms\"},{\"type\":\"int64\",\"optional\":true,\"field\":\"ts_us\"},{\"type\":\"int64\",\"optional\":true,\"field\":\"ts_ns\"}],\"optional\":false,\"name\":\"debezium.payment.customers.Envelope\",\"version\":2}, {NULL, {3, 64.589411, 43.758721}, {2.7.3.Final, postgresql, debezium, 1739455278623, true, postgres, [null,\"23234720\"], 1739455278623797, 1739455278623797000, payment, customers, 745, 23234720, NULL}, NULL, r, 1739455279034, 1739455279034803, 1739455279034803734}}                   |debezium.payment.customers|0        |3     |2025-02-13 19:31:19.626|0            |\n",
      "|{\"schema\":{\"type\":\"struct\",\"fields\":[{\"type\":\"int32\",\"optional\":false,\"default\":0,\"field\":\"customer_id\"}],\"optional\":false,\"name\":\"debezium.payment.customers.Key\"},\"payload\":{\"customer_id\":4}}|{{\"type\":\"struct\",\"fields\":[{\"type\":\"struct\",\"fields\":[{\"type\":\"int32\",\"optional\":false,\"default\":0,\"field\":\"customer_id\"},{\"type\":\"double\",\"optional\":false,\"field\":\"x_location\"},{\"type\":\"double\",\"optional\":false,\"field\":\"y_location\"}],\"optional\":true,\"name\":\"debezium.payment.customers.Value\",\"field\":\"before\"},{\"type\":\"struct\",\"fields\":[{\"type\":\"int32\",\"optional\":false,\"default\":0,\"field\":\"customer_id\"},{\"type\":\"double\",\"optional\":false,\"field\":\"x_location\"},{\"type\":\"double\",\"optional\":false,\"field\":\"y_location\"}],\"optional\":true,\"name\":\"debezium.payment.customers.Value\",\"field\":\"after\"},{\"type\":\"struct\",\"fields\":[{\"type\":\"string\",\"optional\":false,\"field\":\"version\"},{\"type\":\"string\",\"optional\":false,\"field\":\"connector\"},{\"type\":\"string\",\"optional\":false,\"field\":\"name\"},{\"type\":\"int64\",\"optional\":false,\"field\":\"ts_ms\"},{\"type\":\"string\",\"optional\":true,\"name\":\"io.debezium.data.Enum\",\"version\":1,\"parameters\":{\"allowed\":\"true,last,false,incremental\"},\"default\":\"false\",\"field\":\"snapshot\"},{\"type\":\"string\",\"optional\":false,\"field\":\"db\"},{\"type\":\"string\",\"optional\":true,\"field\":\"sequence\"},{\"type\":\"int64\",\"optional\":true,\"field\":\"ts_us\"},{\"type\":\"int64\",\"optional\":true,\"field\":\"ts_ns\"},{\"type\":\"string\",\"optional\":false,\"field\":\"schema\"},{\"type\":\"string\",\"optional\":false,\"field\":\"table\"},{\"type\":\"int64\",\"optional\":true,\"field\":\"txId\"},{\"type\":\"int64\",\"optional\":true,\"field\":\"lsn\"},{\"type\":\"int64\",\"optional\":true,\"field\":\"xmin\"}],\"optional\":false,\"name\":\"io.debezium.connector.postgresql.Source\",\"field\":\"source\"},{\"type\":\"struct\",\"fields\":[{\"type\":\"string\",\"optional\":false,\"field\":\"id\"},{\"type\":\"int64\",\"optional\":false,\"field\":\"total_order\"},{\"type\":\"int64\",\"optional\":false,\"field\":\"data_collection_order\"}],\"optional\":true,\"name\":\"event.block\",\"version\":1,\"field\":\"transaction\"},{\"type\":\"string\",\"optional\":false,\"field\":\"op\"},{\"type\":\"int64\",\"optional\":true,\"field\":\"ts_ms\"},{\"type\":\"int64\",\"optional\":true,\"field\":\"ts_us\"},{\"type\":\"int64\",\"optional\":true,\"field\":\"ts_ns\"}],\"optional\":false,\"name\":\"debezium.payment.customers.Envelope\",\"version\":2}, {NULL, {4, 43.758721, 89.1773}, {2.7.3.Final, postgresql, debezium, 1739455278623, true, postgres, [null,\"23234720\"], 1739455278623797, 1739455278623797000, payment, customers, 745, 23234720, NULL}, NULL, r, 1739455279035, 1739455279035298, 1739455279035298352}}                     |debezium.payment.customers|0        |4     |2025-02-13 19:31:19.638|0            |\n",
      "|{\"schema\":{\"type\":\"struct\",\"fields\":[{\"type\":\"int32\",\"optional\":false,\"default\":0,\"field\":\"customer_id\"}],\"optional\":false,\"name\":\"debezium.payment.customers.Key\"},\"payload\":{\"customer_id\":5}}|{{\"type\":\"struct\",\"fields\":[{\"type\":\"struct\",\"fields\":[{\"type\":\"int32\",\"optional\":false,\"default\":0,\"field\":\"customer_id\"},{\"type\":\"double\",\"optional\":false,\"field\":\"x_location\"},{\"type\":\"double\",\"optional\":false,\"field\":\"y_location\"}],\"optional\":true,\"name\":\"debezium.payment.customers.Value\",\"field\":\"before\"},{\"type\":\"struct\",\"fields\":[{\"type\":\"int32\",\"optional\":false,\"default\":0,\"field\":\"customer_id\"},{\"type\":\"double\",\"optional\":false,\"field\":\"x_location\"},{\"type\":\"double\",\"optional\":false,\"field\":\"y_location\"}],\"optional\":true,\"name\":\"debezium.payment.customers.Value\",\"field\":\"after\"},{\"type\":\"struct\",\"fields\":[{\"type\":\"string\",\"optional\":false,\"field\":\"version\"},{\"type\":\"string\",\"optional\":false,\"field\":\"connector\"},{\"type\":\"string\",\"optional\":false,\"field\":\"name\"},{\"type\":\"int64\",\"optional\":false,\"field\":\"ts_ms\"},{\"type\":\"string\",\"optional\":true,\"name\":\"io.debezium.data.Enum\",\"version\":1,\"parameters\":{\"allowed\":\"true,last,false,incremental\"},\"default\":\"false\",\"field\":\"snapshot\"},{\"type\":\"string\",\"optional\":false,\"field\":\"db\"},{\"type\":\"string\",\"optional\":true,\"field\":\"sequence\"},{\"type\":\"int64\",\"optional\":true,\"field\":\"ts_us\"},{\"type\":\"int64\",\"optional\":true,\"field\":\"ts_ns\"},{\"type\":\"string\",\"optional\":false,\"field\":\"schema\"},{\"type\":\"string\",\"optional\":false,\"field\":\"table\"},{\"type\":\"int64\",\"optional\":true,\"field\":\"txId\"},{\"type\":\"int64\",\"optional\":true,\"field\":\"lsn\"},{\"type\":\"int64\",\"optional\":true,\"field\":\"xmin\"}],\"optional\":false,\"name\":\"io.debezium.connector.postgresql.Source\",\"field\":\"source\"},{\"type\":\"struct\",\"fields\":[{\"type\":\"string\",\"optional\":false,\"field\":\"id\"},{\"type\":\"int64\",\"optional\":false,\"field\":\"total_order\"},{\"type\":\"int64\",\"optional\":false,\"field\":\"data_collection_order\"}],\"optional\":true,\"name\":\"event.block\",\"version\":1,\"field\":\"transaction\"},{\"type\":\"string\",\"optional\":false,\"field\":\"op\"},{\"type\":\"int64\",\"optional\":true,\"field\":\"ts_ms\"},{\"type\":\"int64\",\"optional\":true,\"field\":\"ts_us\"},{\"type\":\"int64\",\"optional\":true,\"field\":\"ts_ns\"}],\"optional\":false,\"name\":\"debezium.payment.customers.Envelope\",\"version\":2}, {NULL, {5, 89.1773, 96.366276}, {2.7.3.Final, postgresql, debezium, 1739455278623, true, postgres, [null,\"23234720\"], 1739455278623797, 1739455278623797000, payment, customers, 745, 23234720, NULL}, NULL, r, 1739455279035, 1739455279035899, 1739455279035899274}}                     |debezium.payment.customers|0        |5     |2025-02-13 19:31:19.653|0            |\n",
      "|{\"schema\":{\"type\":\"struct\",\"fields\":[{\"type\":\"int32\",\"optional\":false,\"default\":0,\"field\":\"customer_id\"}],\"optional\":false,\"name\":\"debezium.payment.customers.Key\"},\"payload\":{\"customer_id\":6}}|{{\"type\":\"struct\",\"fields\":[{\"type\":\"struct\",\"fields\":[{\"type\":\"int32\",\"optional\":false,\"default\":0,\"field\":\"customer_id\"},{\"type\":\"double\",\"optional\":false,\"field\":\"x_location\"},{\"type\":\"double\",\"optional\":false,\"field\":\"y_location\"}],\"optional\":true,\"name\":\"debezium.payment.customers.Value\",\"field\":\"before\"},{\"type\":\"struct\",\"fields\":[{\"type\":\"int32\",\"optional\":false,\"default\":0,\"field\":\"customer_id\"},{\"type\":\"double\",\"optional\":false,\"field\":\"x_location\"},{\"type\":\"double\",\"optional\":false,\"field\":\"y_location\"}],\"optional\":true,\"name\":\"debezium.payment.customers.Value\",\"field\":\"after\"},{\"type\":\"struct\",\"fields\":[{\"type\":\"string\",\"optional\":false,\"field\":\"version\"},{\"type\":\"string\",\"optional\":false,\"field\":\"connector\"},{\"type\":\"string\",\"optional\":false,\"field\":\"name\"},{\"type\":\"int64\",\"optional\":false,\"field\":\"ts_ms\"},{\"type\":\"string\",\"optional\":true,\"name\":\"io.debezium.data.Enum\",\"version\":1,\"parameters\":{\"allowed\":\"true,last,false,incremental\"},\"default\":\"false\",\"field\":\"snapshot\"},{\"type\":\"string\",\"optional\":false,\"field\":\"db\"},{\"type\":\"string\",\"optional\":true,\"field\":\"sequence\"},{\"type\":\"int64\",\"optional\":true,\"field\":\"ts_us\"},{\"type\":\"int64\",\"optional\":true,\"field\":\"ts_ns\"},{\"type\":\"string\",\"optional\":false,\"field\":\"schema\"},{\"type\":\"string\",\"optional\":false,\"field\":\"table\"},{\"type\":\"int64\",\"optional\":true,\"field\":\"txId\"},{\"type\":\"int64\",\"optional\":true,\"field\":\"lsn\"},{\"type\":\"int64\",\"optional\":true,\"field\":\"xmin\"}],\"optional\":false,\"name\":\"io.debezium.connector.postgresql.Source\",\"field\":\"source\"},{\"type\":\"struct\",\"fields\":[{\"type\":\"string\",\"optional\":false,\"field\":\"id\"},{\"type\":\"int64\",\"optional\":false,\"field\":\"total_order\"},{\"type\":\"int64\",\"optional\":false,\"field\":\"data_collection_order\"}],\"optional\":true,\"name\":\"event.block\",\"version\":1,\"field\":\"transaction\"},{\"type\":\"string\",\"optional\":false,\"field\":\"op\"},{\"type\":\"int64\",\"optional\":true,\"field\":\"ts_ms\"},{\"type\":\"int64\",\"optional\":true,\"field\":\"ts_us\"},{\"type\":\"int64\",\"optional\":true,\"field\":\"ts_ns\"}],\"optional\":false,\"name\":\"debezium.payment.customers.Envelope\",\"version\":2}, {NULL, {6, 96.366276, 38.344152}, {2.7.3.Final, postgresql, debezium, 1739455278623, true, postgres, [null,\"23234720\"], 1739455278623797, 1739455278623797000, payment, customers, 745, 23234720, NULL}, NULL, r, 1739455279036, 1739455279036312, 1739455279036312088}}                   |debezium.payment.customers|0        |6     |2025-02-13 19:31:19.655|0            |\n",
      "|{\"schema\":{\"type\":\"struct\",\"fields\":[{\"type\":\"int32\",\"optional\":false,\"default\":0,\"field\":\"customer_id\"}],\"optional\":false,\"name\":\"debezium.payment.customers.Key\"},\"payload\":{\"customer_id\":7}}|{{\"type\":\"struct\",\"fields\":[{\"type\":\"struct\",\"fields\":[{\"type\":\"int32\",\"optional\":false,\"default\":0,\"field\":\"customer_id\"},{\"type\":\"double\",\"optional\":false,\"field\":\"x_location\"},{\"type\":\"double\",\"optional\":false,\"field\":\"y_location\"}],\"optional\":true,\"name\":\"debezium.payment.customers.Value\",\"field\":\"before\"},{\"type\":\"struct\",\"fields\":[{\"type\":\"int32\",\"optional\":false,\"default\":0,\"field\":\"customer_id\"},{\"type\":\"double\",\"optional\":false,\"field\":\"x_location\"},{\"type\":\"double\",\"optional\":false,\"field\":\"y_location\"}],\"optional\":true,\"name\":\"debezium.payment.customers.Value\",\"field\":\"after\"},{\"type\":\"struct\",\"fields\":[{\"type\":\"string\",\"optional\":false,\"field\":\"version\"},{\"type\":\"string\",\"optional\":false,\"field\":\"connector\"},{\"type\":\"string\",\"optional\":false,\"field\":\"name\"},{\"type\":\"int64\",\"optional\":false,\"field\":\"ts_ms\"},{\"type\":\"string\",\"optional\":true,\"name\":\"io.debezium.data.Enum\",\"version\":1,\"parameters\":{\"allowed\":\"true,last,false,incremental\"},\"default\":\"false\",\"field\":\"snapshot\"},{\"type\":\"string\",\"optional\":false,\"field\":\"db\"},{\"type\":\"string\",\"optional\":true,\"field\":\"sequence\"},{\"type\":\"int64\",\"optional\":true,\"field\":\"ts_us\"},{\"type\":\"int64\",\"optional\":true,\"field\":\"ts_ns\"},{\"type\":\"string\",\"optional\":false,\"field\":\"schema\"},{\"type\":\"string\",\"optional\":false,\"field\":\"table\"},{\"type\":\"int64\",\"optional\":true,\"field\":\"txId\"},{\"type\":\"int64\",\"optional\":true,\"field\":\"lsn\"},{\"type\":\"int64\",\"optional\":true,\"field\":\"xmin\"}],\"optional\":false,\"name\":\"io.debezium.connector.postgresql.Source\",\"field\":\"source\"},{\"type\":\"struct\",\"fields\":[{\"type\":\"string\",\"optional\":false,\"field\":\"id\"},{\"type\":\"int64\",\"optional\":false,\"field\":\"total_order\"},{\"type\":\"int64\",\"optional\":false,\"field\":\"data_collection_order\"}],\"optional\":true,\"name\":\"event.block\",\"version\":1,\"field\":\"transaction\"},{\"type\":\"string\",\"optional\":false,\"field\":\"op\"},{\"type\":\"int64\",\"optional\":true,\"field\":\"ts_ms\"},{\"type\":\"int64\",\"optional\":true,\"field\":\"ts_us\"},{\"type\":\"int64\",\"optional\":true,\"field\":\"ts_ns\"}],\"optional\":false,\"name\":\"debezium.payment.customers.Envelope\",\"version\":2}, {NULL, {7, 38.344152, 79.172504}, {2.7.3.Final, postgresql, debezium, 1739455278623, true, postgres, [null,\"23234720\"], 1739455278623797, 1739455278623797000, payment, customers, 745, 23234720, NULL}, NULL, r, 1739455279036, 1739455279036789, 1739455279036789806}}                   |debezium.payment.customers|0        |7     |2025-02-13 19:31:19.656|0            |\n",
      "|{\"schema\":{\"type\":\"struct\",\"fields\":[{\"type\":\"int32\",\"optional\":false,\"default\":0,\"field\":\"customer_id\"}],\"optional\":false,\"name\":\"debezium.payment.customers.Key\"},\"payload\":{\"customer_id\":8}}|{{\"type\":\"struct\",\"fields\":[{\"type\":\"struct\",\"fields\":[{\"type\":\"int32\",\"optional\":false,\"default\":0,\"field\":\"customer_id\"},{\"type\":\"double\",\"optional\":false,\"field\":\"x_location\"},{\"type\":\"double\",\"optional\":false,\"field\":\"y_location\"}],\"optional\":true,\"name\":\"debezium.payment.customers.Value\",\"field\":\"before\"},{\"type\":\"struct\",\"fields\":[{\"type\":\"int32\",\"optional\":false,\"default\":0,\"field\":\"customer_id\"},{\"type\":\"double\",\"optional\":false,\"field\":\"x_location\"},{\"type\":\"double\",\"optional\":false,\"field\":\"y_location\"}],\"optional\":true,\"name\":\"debezium.payment.customers.Value\",\"field\":\"after\"},{\"type\":\"struct\",\"fields\":[{\"type\":\"string\",\"optional\":false,\"field\":\"version\"},{\"type\":\"string\",\"optional\":false,\"field\":\"connector\"},{\"type\":\"string\",\"optional\":false,\"field\":\"name\"},{\"type\":\"int64\",\"optional\":false,\"field\":\"ts_ms\"},{\"type\":\"string\",\"optional\":true,\"name\":\"io.debezium.data.Enum\",\"version\":1,\"parameters\":{\"allowed\":\"true,last,false,incremental\"},\"default\":\"false\",\"field\":\"snapshot\"},{\"type\":\"string\",\"optional\":false,\"field\":\"db\"},{\"type\":\"string\",\"optional\":true,\"field\":\"sequence\"},{\"type\":\"int64\",\"optional\":true,\"field\":\"ts_us\"},{\"type\":\"int64\",\"optional\":true,\"field\":\"ts_ns\"},{\"type\":\"string\",\"optional\":false,\"field\":\"schema\"},{\"type\":\"string\",\"optional\":false,\"field\":\"table\"},{\"type\":\"int64\",\"optional\":true,\"field\":\"txId\"},{\"type\":\"int64\",\"optional\":true,\"field\":\"lsn\"},{\"type\":\"int64\",\"optional\":true,\"field\":\"xmin\"}],\"optional\":false,\"name\":\"io.debezium.connector.postgresql.Source\",\"field\":\"source\"},{\"type\":\"struct\",\"fields\":[{\"type\":\"string\",\"optional\":false,\"field\":\"id\"},{\"type\":\"int64\",\"optional\":false,\"field\":\"total_order\"},{\"type\":\"int64\",\"optional\":false,\"field\":\"data_collection_order\"}],\"optional\":true,\"name\":\"event.block\",\"version\":1,\"field\":\"transaction\"},{\"type\":\"string\",\"optional\":false,\"field\":\"op\"},{\"type\":\"int64\",\"optional\":true,\"field\":\"ts_ms\"},{\"type\":\"int64\",\"optional\":true,\"field\":\"ts_us\"},{\"type\":\"int64\",\"optional\":true,\"field\":\"ts_ns\"}],\"optional\":false,\"name\":\"debezium.payment.customers.Envelope\",\"version\":2}, {NULL, {8, 79.172504, 52.889492}, {2.7.3.Final, postgresql, debezium, 1739455278623, true, postgres, [null,\"23234720\"], 1739455278623797, 1739455278623797000, payment, customers, 745, 23234720, NULL}, NULL, r, 1739455279037, 1739455279037360, 1739455279037360226}}                   |debezium.payment.customers|0        |8     |2025-02-13 19:31:19.658|0            |\n",
      "|{\"schema\":{\"type\":\"struct\",\"fields\":[{\"type\":\"int32\",\"optional\":false,\"default\":0,\"field\":\"customer_id\"}],\"optional\":false,\"name\":\"debezium.payment.customers.Key\"},\"payload\":{\"customer_id\":9}}|{{\"type\":\"struct\",\"fields\":[{\"type\":\"struct\",\"fields\":[{\"type\":\"int32\",\"optional\":false,\"default\":0,\"field\":\"customer_id\"},{\"type\":\"double\",\"optional\":false,\"field\":\"x_location\"},{\"type\":\"double\",\"optional\":false,\"field\":\"y_location\"}],\"optional\":true,\"name\":\"debezium.payment.customers.Value\",\"field\":\"before\"},{\"type\":\"struct\",\"fields\":[{\"type\":\"int32\",\"optional\":false,\"default\":0,\"field\":\"customer_id\"},{\"type\":\"double\",\"optional\":false,\"field\":\"x_location\"},{\"type\":\"double\",\"optional\":false,\"field\":\"y_location\"}],\"optional\":true,\"name\":\"debezium.payment.customers.Value\",\"field\":\"after\"},{\"type\":\"struct\",\"fields\":[{\"type\":\"string\",\"optional\":false,\"field\":\"version\"},{\"type\":\"string\",\"optional\":false,\"field\":\"connector\"},{\"type\":\"string\",\"optional\":false,\"field\":\"name\"},{\"type\":\"int64\",\"optional\":false,\"field\":\"ts_ms\"},{\"type\":\"string\",\"optional\":true,\"name\":\"io.debezium.data.Enum\",\"version\":1,\"parameters\":{\"allowed\":\"true,last,false,incremental\"},\"default\":\"false\",\"field\":\"snapshot\"},{\"type\":\"string\",\"optional\":false,\"field\":\"db\"},{\"type\":\"string\",\"optional\":true,\"field\":\"sequence\"},{\"type\":\"int64\",\"optional\":true,\"field\":\"ts_us\"},{\"type\":\"int64\",\"optional\":true,\"field\":\"ts_ns\"},{\"type\":\"string\",\"optional\":false,\"field\":\"schema\"},{\"type\":\"string\",\"optional\":false,\"field\":\"table\"},{\"type\":\"int64\",\"optional\":true,\"field\":\"txId\"},{\"type\":\"int64\",\"optional\":true,\"field\":\"lsn\"},{\"type\":\"int64\",\"optional\":true,\"field\":\"xmin\"}],\"optional\":false,\"name\":\"io.debezium.connector.postgresql.Source\",\"field\":\"source\"},{\"type\":\"struct\",\"fields\":[{\"type\":\"string\",\"optional\":false,\"field\":\"id\"},{\"type\":\"int64\",\"optional\":false,\"field\":\"total_order\"},{\"type\":\"int64\",\"optional\":false,\"field\":\"data_collection_order\"}],\"optional\":true,\"name\":\"event.block\",\"version\":1,\"field\":\"transaction\"},{\"type\":\"string\",\"optional\":false,\"field\":\"op\"},{\"type\":\"int64\",\"optional\":true,\"field\":\"ts_ms\"},{\"type\":\"int64\",\"optional\":true,\"field\":\"ts_us\"},{\"type\":\"int64\",\"optional\":true,\"field\":\"ts_ns\"}],\"optional\":false,\"name\":\"debezium.payment.customers.Envelope\",\"version\":2}, {NULL, {9, 52.889492, 56.804456}, {2.7.3.Final, postgresql, debezium, 1739455278623, last_in_data_collection, postgres, [null,\"23234720\"], 1739455278623797, 1739455278623797000, payment, customers, 745, 23234720, NULL}, NULL, r, 1739455279037, 1739455279037883, 1739455279037883445}}|debezium.payment.customers|0        |9     |2025-02-13 19:31:19.659|0            |\n",
      "+------------------------------------------------------------------------------------------------------------------------------------------------------------------------------------------------+--------------------------------------------------------------------------------------------------------------------------------------------------------------------------------------------------------------------------------------------------------------------------------------------------------------------------------------------------------------------------------------------------------------------------------------------------------------------------------------------------------------------------------------------------------------------------------------------------------------------------------------------------------------------------------------------------------------------------------------------------------------------------------------------------------------------------------------------------------------------------------------------------------------------------------------------------------------------------------------------------------------------------------------------------------------------------------------------------------------------------------------------------------------------------------------------------------------------------------------------------------------------------------------------------------------------------------------------------------------------------------------------------------------------------------------------------------------------------------------------------------------------------------------------------------------------------------------------------------------------------------------------------------------------------------------------------------------------------------------------------------------------------------------------------------------------------------------------------------------------------------------------------------------------------------------------------------------------------------------------------------------------------------------------------------------------------------------------------------------------------------------------------------------------------------------------------------------------------------------------------------------------------------------------------------------------------------------------------------------------------------------------------------------------------------------------------+--------------------------+---------+------+-----------------------+-------------+\n",
      "\n"
     ]
    },
    {
     "name": "stderr",
     "output_type": "stream",
     "text": [
      "                                                                                \r"
     ]
    },
    {
     "ename": "",
     "evalue": "",
     "output_type": "error",
     "traceback": [
      "\u001b[1;31mnotebook controller is DISPOSED. \n",
      "\u001b[1;31mView Jupyter <a href='command:jupyter.viewOutput'>log</a> for further details."
     ]
    }
   ],
   "source": [
    "execute_query(\"select * from kafkadata\")"
   ]
  },
  {
   "cell_type": "code",
   "execution_count": 11,
   "metadata": {},
   "outputs": [
    {
     "name": "stdout",
     "output_type": "stream",
     "text": [
      "++\n",
      "||\n",
      "++\n",
      "++\n",
      "\n"
     ]
    }
   ],
   "source": [
    "execute_query(\"\"\" create or replace temp view latest_data as \n",
    "              with extracted_data  as (\n",
    "                    select value.payload.after.customer_id,\n",
    "                    value.payload.after.x_location, \n",
    "                    value.payload.after.y_location,\n",
    "                    timestamp\n",
    "                    from kafkadata),\n",
    "              ranked_data as (\n",
    "                  select customer_id,\n",
    "                  x_location,\n",
    "                  y_location, \n",
    "                  timestamp,\n",
    "                  ROW_NUMBER() over (partition by customer_id order by timestamp DESC) as rn\n",
    "                  from extracted_data) \n",
    "              select customer_id,\n",
    "                  x_location,\n",
    "                  y_location,\n",
    "                  now() as row_created_timestamp,\n",
    "                  now() as row_updated_timestamp\n",
    "              from ranked_data \n",
    "              where rn=1\"\"\")"
   ]
  },
  {
   "cell_type": "code",
   "execution_count": 12,
   "metadata": {},
   "outputs": [
    {
     "name": "stdout",
     "output_type": "stream",
     "text": [
      "++\n",
      "||\n",
      "++\n",
      "++\n",
      "\n",
      "+---------+\n",
      "|namespace|\n",
      "+---------+\n",
      "|default  |\n",
      "+---------+\n",
      "\n"
     ]
    }
   ],
   "source": [
    "execute_query(\"CREATE DATABASE IF NOT EXISTS nessie.payment;\")\n",
    "execute_query(\"show databases\")"
   ]
  },
  {
   "cell_type": "code",
   "execution_count": 13,
   "metadata": {},
   "outputs": [
    {
     "name": "stderr",
     "output_type": "stream",
     "text": [
      "SLF4J: Failed to load class \"org.slf4j.impl.StaticLoggerBinder\".\n",
      "SLF4J: Defaulting to no-operation (NOP) logger implementation\n",
      "SLF4J: See http://www.slf4j.org/codes.html#StaticLoggerBinder for further details.\n"
     ]
    },
    {
     "ename": "Py4JJavaError",
     "evalue": "An error occurred while calling o63.sql.\n: software.amazon.awssdk.core.exception.SdkClientException: Unable to load region from any of the providers in the chain software.amazon.awssdk.regions.providers.DefaultAwsRegionProviderChain@b4c2a86: [software.amazon.awssdk.regions.providers.SystemSettingsRegionProvider@1058bf35: Unable to load region from system settings. Region must be specified either via environment variable (AWS_REGION) or  system property (aws.region)., software.amazon.awssdk.regions.providers.AwsProfileRegionProvider@6989cf10: No region provided in profile: default, software.amazon.awssdk.regions.providers.InstanceProfileRegionProvider@54107b8e: Unable to contact EC2 metadata service.]\n\tat software.amazon.awssdk.core.exception.SdkClientException$BuilderImpl.build(SdkClientException.java:111)\n\tat software.amazon.awssdk.regions.providers.AwsRegionProviderChain.getRegion(AwsRegionProviderChain.java:70)\n\tat software.amazon.awssdk.awscore.client.builder.AwsDefaultClientBuilder.resolveRegion(AwsDefaultClientBuilder.java:293)\n\tat software.amazon.awssdk.utils.AttributeMap$DerivedValue.primeCache(AttributeMap.java:600)\n\tat software.amazon.awssdk.utils.AttributeMap$DerivedValue.get(AttributeMap.java:589)\n\tat software.amazon.awssdk.utils.AttributeMap$Builder.resolveValue(AttributeMap.java:396)\n\tat java.base/java.util.ArrayList.forEach(ArrayList.java:1596)\n\tat software.amazon.awssdk.utils.AttributeMap$Builder.build(AttributeMap.java:362)\n\tat software.amazon.awssdk.core.client.config.SdkClientConfiguration$Builder.build(SdkClientConfiguration.java:232)\n\tat software.amazon.awssdk.awscore.client.builder.AwsDefaultClientBuilder.finalizeAwsConfiguration(AwsDefaultClientBuilder.java:184)\n\tat software.amazon.awssdk.awscore.client.builder.AwsDefaultClientBuilder.finalizeChildConfiguration(AwsDefaultClientBuilder.java:161)\n\tat software.amazon.awssdk.core.client.builder.SdkDefaultClientBuilder.syncClientConfiguration(SdkDefaultClientBuilder.java:188)\n\tat software.amazon.awssdk.services.s3.DefaultS3ClientBuilder.buildClient(DefaultS3ClientBuilder.java:37)\n\tat software.amazon.awssdk.services.s3.DefaultS3ClientBuilder.buildClient(DefaultS3ClientBuilder.java:26)\n\tat software.amazon.awssdk.core.client.builder.SdkDefaultClientBuilder.build(SdkDefaultClientBuilder.java:155)\n\tat org.apache.iceberg.aws.AwsClientFactories$DefaultAwsClientFactory.s3(AwsClientFactories.java:116)\n\tat org.apache.iceberg.aws.s3.S3FileIO.client(S3FileIO.java:327)\n\tat org.apache.iceberg.aws.s3.S3FileIO.newOutputFile(S3FileIO.java:135)\n\tat org.apache.iceberg.BaseMetastoreTableOperations.writeNewMetadata(BaseMetastoreTableOperations.java:165)\n\tat org.apache.iceberg.BaseMetastoreTableOperations.writeNewMetadataIfRequired(BaseMetastoreTableOperations.java:160)\n\tat org.apache.iceberg.nessie.NessieTableOperations.doCommit(NessieTableOperations.java:115)\n\tat org.apache.iceberg.BaseMetastoreTableOperations.commit(BaseMetastoreTableOperations.java:135)\n\tat org.apache.iceberg.BaseMetastoreCatalog$BaseMetastoreCatalogTableBuilder.create(BaseMetastoreCatalog.java:201)\n\tat org.apache.iceberg.CachingCatalog$CachingTableBuilder.lambda$create$0(CachingCatalog.java:261)\n\tat org.apache.iceberg.shaded.com.github.benmanes.caffeine.cache.BoundedLocalCache.lambda$doComputeIfAbsent$14(BoundedLocalCache.java:2406)\n\tat java.base/java.util.concurrent.ConcurrentHashMap.compute(ConcurrentHashMap.java:1916)\n\tat org.apache.iceberg.shaded.com.github.benmanes.caffeine.cache.BoundedLocalCache.doComputeIfAbsent(BoundedLocalCache.java:2404)\n\tat org.apache.iceberg.shaded.com.github.benmanes.caffeine.cache.BoundedLocalCache.computeIfAbsent(BoundedLocalCache.java:2387)\n\tat org.apache.iceberg.shaded.com.github.benmanes.caffeine.cache.LocalCache.computeIfAbsent(LocalCache.java:108)\n\tat org.apache.iceberg.shaded.com.github.benmanes.caffeine.cache.LocalManualCache.get(LocalManualCache.java:62)\n\tat org.apache.iceberg.CachingCatalog$CachingTableBuilder.create(CachingCatalog.java:257)\n\tat org.apache.iceberg.spark.SparkCatalog.createTable(SparkCatalog.java:247)\n\tat org.apache.spark.sql.connector.catalog.TableCatalog.createTable(TableCatalog.java:223)\n\tat org.apache.spark.sql.execution.datasources.v2.CreateTableExec.run(CreateTableExec.scala:44)\n\tat org.apache.spark.sql.execution.datasources.v2.V2CommandExec.result$lzycompute(V2CommandExec.scala:43)\n\tat org.apache.spark.sql.execution.datasources.v2.V2CommandExec.result(V2CommandExec.scala:43)\n\tat org.apache.spark.sql.execution.datasources.v2.V2CommandExec.executeCollect(V2CommandExec.scala:49)\n\tat org.apache.spark.sql.execution.QueryExecution$$anonfun$eagerlyExecuteCommands$1.$anonfun$applyOrElse$1(QueryExecution.scala:107)\n\tat org.apache.spark.sql.execution.SQLExecution$.$anonfun$withNewExecutionId$6(SQLExecution.scala:125)\n\tat org.apache.spark.sql.execution.SQLExecution$.withSQLConfPropagated(SQLExecution.scala:201)\n\tat org.apache.spark.sql.execution.SQLExecution$.$anonfun$withNewExecutionId$1(SQLExecution.scala:108)\n\tat org.apache.spark.sql.SparkSession.withActive(SparkSession.scala:900)\n\tat org.apache.spark.sql.execution.SQLExecution$.withNewExecutionId(SQLExecution.scala:66)\n\tat org.apache.spark.sql.execution.QueryExecution$$anonfun$eagerlyExecuteCommands$1.applyOrElse(QueryExecution.scala:107)\n\tat org.apache.spark.sql.execution.QueryExecution$$anonfun$eagerlyExecuteCommands$1.applyOrElse(QueryExecution.scala:98)\n\tat org.apache.spark.sql.catalyst.trees.TreeNode.$anonfun$transformDownWithPruning$1(TreeNode.scala:461)\n\tat org.apache.spark.sql.catalyst.trees.CurrentOrigin$.withOrigin(origin.scala:76)\n\tat org.apache.spark.sql.catalyst.trees.TreeNode.transformDownWithPruning(TreeNode.scala:461)\n\tat org.apache.spark.sql.catalyst.plans.logical.LogicalPlan.org$apache$spark$sql$catalyst$plans$logical$AnalysisHelper$$super$transformDownWithPruning(LogicalPlan.scala:32)\n\tat org.apache.spark.sql.catalyst.plans.logical.AnalysisHelper.transformDownWithPruning(AnalysisHelper.scala:267)\n\tat org.apache.spark.sql.catalyst.plans.logical.AnalysisHelper.transformDownWithPruning$(AnalysisHelper.scala:263)\n\tat org.apache.spark.sql.catalyst.plans.logical.LogicalPlan.transformDownWithPruning(LogicalPlan.scala:32)\n\tat org.apache.spark.sql.catalyst.plans.logical.LogicalPlan.transformDownWithPruning(LogicalPlan.scala:32)\n\tat org.apache.spark.sql.catalyst.trees.TreeNode.transformDown(TreeNode.scala:437)\n\tat org.apache.spark.sql.execution.QueryExecution.eagerlyExecuteCommands(QueryExecution.scala:98)\n\tat org.apache.spark.sql.execution.QueryExecution.commandExecuted$lzycompute(QueryExecution.scala:85)\n\tat org.apache.spark.sql.execution.QueryExecution.commandExecuted(QueryExecution.scala:83)\n\tat org.apache.spark.sql.Dataset.<init>(Dataset.scala:220)\n\tat org.apache.spark.sql.Dataset$.$anonfun$ofRows$2(Dataset.scala:100)\n\tat org.apache.spark.sql.SparkSession.withActive(SparkSession.scala:900)\n\tat org.apache.spark.sql.Dataset$.ofRows(Dataset.scala:97)\n\tat org.apache.spark.sql.SparkSession.$anonfun$sql$1(SparkSession.scala:638)\n\tat org.apache.spark.sql.SparkSession.withActive(SparkSession.scala:900)\n\tat org.apache.spark.sql.SparkSession.sql(SparkSession.scala:629)\n\tat org.apache.spark.sql.SparkSession.sql(SparkSession.scala:659)\n\tat java.base/jdk.internal.reflect.NativeMethodAccessorImpl.invoke0(Native Method)\n\tat java.base/jdk.internal.reflect.NativeMethodAccessorImpl.invoke(NativeMethodAccessorImpl.java:75)\n\tat java.base/jdk.internal.reflect.DelegatingMethodAccessorImpl.invoke(DelegatingMethodAccessorImpl.java:52)\n\tat java.base/java.lang.reflect.Method.invoke(Method.java:580)\n\tat py4j.reflection.MethodInvoker.invoke(MethodInvoker.java:244)\n\tat py4j.reflection.ReflectionEngine.invoke(ReflectionEngine.java:374)\n\tat py4j.Gateway.invoke(Gateway.java:282)\n\tat py4j.commands.AbstractCommand.invokeMethod(AbstractCommand.java:132)\n\tat py4j.commands.CallCommand.execute(CallCommand.java:79)\n\tat py4j.ClientServerConnection.waitForCommands(ClientServerConnection.java:182)\n\tat py4j.ClientServerConnection.run(ClientServerConnection.java:106)\n\tat java.base/java.lang.Thread.run(Thread.java:1583)\n",
     "output_type": "error",
     "traceback": [
      "\u001b[0;31m---------------------------------------------------------------------------\u001b[0m",
      "\u001b[0;31mPy4JJavaError\u001b[0m                             Traceback (most recent call last)",
      "Cell \u001b[0;32mIn[13], line 1\u001b[0m\n\u001b[0;32m----> 1\u001b[0m \u001b[43mexecute_query\u001b[49m\u001b[43m(\u001b[49m\u001b[38;5;124;43m\"\"\"\u001b[39;49m\n\u001b[1;32m      2\u001b[0m \u001b[38;5;124;43m        CREATE TABLE IF NOT EXISTS nessie.payment.customer (\u001b[39;49m\n\u001b[1;32m      3\u001b[0m \u001b[38;5;124;43m      customer_id INT,\u001b[39;49m\n\u001b[1;32m      4\u001b[0m \u001b[38;5;124;43m      x_location FLOAT,\u001b[39;49m\n\u001b[1;32m      5\u001b[0m \u001b[38;5;124;43m      y_location FLOAT,\u001b[39;49m\n\u001b[1;32m      6\u001b[0m \u001b[38;5;124;43m      row_created_timestamp TIMESTAMP,\u001b[39;49m\n\u001b[1;32m      7\u001b[0m \u001b[38;5;124;43m      row_updated_timestamp TIMESTAMP\u001b[39;49m\n\u001b[1;32m      8\u001b[0m \u001b[38;5;124;43m)\u001b[39;49m\n\u001b[1;32m      9\u001b[0m \u001b[38;5;124;43mUSING iceberg\u001b[39;49m\n\u001b[1;32m     10\u001b[0m \u001b[38;5;124;43m\"\"\"\u001b[39;49m\u001b[43m)\u001b[49m\n",
      "Cell \u001b[0;32mIn[3], line 2\u001b[0m, in \u001b[0;36mexecute_query\u001b[0;34m(query)\u001b[0m\n\u001b[1;32m      1\u001b[0m \u001b[38;5;28;01mdef\u001b[39;00m\u001b[38;5;250m \u001b[39m\u001b[38;5;21mexecute_query\u001b[39m(query: \u001b[38;5;28mstr\u001b[39m):\n\u001b[0;32m----> 2\u001b[0m     \u001b[43mspark\u001b[49m\u001b[38;5;241;43m.\u001b[39;49m\u001b[43msql\u001b[49m\u001b[43m(\u001b[49m\u001b[43mquery\u001b[49m\u001b[43m)\u001b[49m\u001b[38;5;241m.\u001b[39mshow(truncate\u001b[38;5;241m=\u001b[39m\u001b[38;5;28;01mFalse\u001b[39;00m)\n",
      "File \u001b[0;32m~/.cache/pypoetry/virtualenvs/realtime-fraud-detection-system-jsIdL3x4-py3.11/lib/python3.11/site-packages/pyspark/sql/session.py:1631\u001b[0m, in \u001b[0;36mSparkSession.sql\u001b[0;34m(self, sqlQuery, args, **kwargs)\u001b[0m\n\u001b[1;32m   1627\u001b[0m         \u001b[38;5;28;01massert\u001b[39;00m \u001b[38;5;28mself\u001b[39m\u001b[38;5;241m.\u001b[39m_jvm \u001b[38;5;129;01mis\u001b[39;00m \u001b[38;5;129;01mnot\u001b[39;00m \u001b[38;5;28;01mNone\u001b[39;00m\n\u001b[1;32m   1628\u001b[0m         litArgs \u001b[38;5;241m=\u001b[39m \u001b[38;5;28mself\u001b[39m\u001b[38;5;241m.\u001b[39m_jvm\u001b[38;5;241m.\u001b[39mPythonUtils\u001b[38;5;241m.\u001b[39mtoArray(\n\u001b[1;32m   1629\u001b[0m             [_to_java_column(lit(v)) \u001b[38;5;28;01mfor\u001b[39;00m v \u001b[38;5;129;01min\u001b[39;00m (args \u001b[38;5;129;01mor\u001b[39;00m [])]\n\u001b[1;32m   1630\u001b[0m         )\n\u001b[0;32m-> 1631\u001b[0m     \u001b[38;5;28;01mreturn\u001b[39;00m DataFrame(\u001b[38;5;28;43mself\u001b[39;49m\u001b[38;5;241;43m.\u001b[39;49m\u001b[43m_jsparkSession\u001b[49m\u001b[38;5;241;43m.\u001b[39;49m\u001b[43msql\u001b[49m\u001b[43m(\u001b[49m\u001b[43msqlQuery\u001b[49m\u001b[43m,\u001b[49m\u001b[43m \u001b[49m\u001b[43mlitArgs\u001b[49m\u001b[43m)\u001b[49m, \u001b[38;5;28mself\u001b[39m)\n\u001b[1;32m   1632\u001b[0m \u001b[38;5;28;01mfinally\u001b[39;00m:\n\u001b[1;32m   1633\u001b[0m     \u001b[38;5;28;01mif\u001b[39;00m \u001b[38;5;28mlen\u001b[39m(kwargs) \u001b[38;5;241m>\u001b[39m \u001b[38;5;241m0\u001b[39m:\n",
      "File \u001b[0;32m~/.cache/pypoetry/virtualenvs/realtime-fraud-detection-system-jsIdL3x4-py3.11/lib/python3.11/site-packages/py4j/java_gateway.py:1322\u001b[0m, in \u001b[0;36mJavaMember.__call__\u001b[0;34m(self, *args)\u001b[0m\n\u001b[1;32m   1316\u001b[0m command \u001b[38;5;241m=\u001b[39m proto\u001b[38;5;241m.\u001b[39mCALL_COMMAND_NAME \u001b[38;5;241m+\u001b[39m\\\n\u001b[1;32m   1317\u001b[0m     \u001b[38;5;28mself\u001b[39m\u001b[38;5;241m.\u001b[39mcommand_header \u001b[38;5;241m+\u001b[39m\\\n\u001b[1;32m   1318\u001b[0m     args_command \u001b[38;5;241m+\u001b[39m\\\n\u001b[1;32m   1319\u001b[0m     proto\u001b[38;5;241m.\u001b[39mEND_COMMAND_PART\n\u001b[1;32m   1321\u001b[0m answer \u001b[38;5;241m=\u001b[39m \u001b[38;5;28mself\u001b[39m\u001b[38;5;241m.\u001b[39mgateway_client\u001b[38;5;241m.\u001b[39msend_command(command)\n\u001b[0;32m-> 1322\u001b[0m return_value \u001b[38;5;241m=\u001b[39m \u001b[43mget_return_value\u001b[49m\u001b[43m(\u001b[49m\n\u001b[1;32m   1323\u001b[0m \u001b[43m    \u001b[49m\u001b[43manswer\u001b[49m\u001b[43m,\u001b[49m\u001b[43m \u001b[49m\u001b[38;5;28;43mself\u001b[39;49m\u001b[38;5;241;43m.\u001b[39;49m\u001b[43mgateway_client\u001b[49m\u001b[43m,\u001b[49m\u001b[43m \u001b[49m\u001b[38;5;28;43mself\u001b[39;49m\u001b[38;5;241;43m.\u001b[39;49m\u001b[43mtarget_id\u001b[49m\u001b[43m,\u001b[49m\u001b[43m \u001b[49m\u001b[38;5;28;43mself\u001b[39;49m\u001b[38;5;241;43m.\u001b[39;49m\u001b[43mname\u001b[49m\u001b[43m)\u001b[49m\n\u001b[1;32m   1325\u001b[0m \u001b[38;5;28;01mfor\u001b[39;00m temp_arg \u001b[38;5;129;01min\u001b[39;00m temp_args:\n\u001b[1;32m   1326\u001b[0m     \u001b[38;5;28;01mif\u001b[39;00m \u001b[38;5;28mhasattr\u001b[39m(temp_arg, \u001b[38;5;124m\"\u001b[39m\u001b[38;5;124m_detach\u001b[39m\u001b[38;5;124m\"\u001b[39m):\n",
      "File \u001b[0;32m~/.cache/pypoetry/virtualenvs/realtime-fraud-detection-system-jsIdL3x4-py3.11/lib/python3.11/site-packages/pyspark/errors/exceptions/captured.py:179\u001b[0m, in \u001b[0;36mcapture_sql_exception.<locals>.deco\u001b[0;34m(*a, **kw)\u001b[0m\n\u001b[1;32m    177\u001b[0m \u001b[38;5;28;01mdef\u001b[39;00m\u001b[38;5;250m \u001b[39m\u001b[38;5;21mdeco\u001b[39m(\u001b[38;5;241m*\u001b[39ma: Any, \u001b[38;5;241m*\u001b[39m\u001b[38;5;241m*\u001b[39mkw: Any) \u001b[38;5;241m-\u001b[39m\u001b[38;5;241m>\u001b[39m Any:\n\u001b[1;32m    178\u001b[0m     \u001b[38;5;28;01mtry\u001b[39;00m:\n\u001b[0;32m--> 179\u001b[0m         \u001b[38;5;28;01mreturn\u001b[39;00m \u001b[43mf\u001b[49m\u001b[43m(\u001b[49m\u001b[38;5;241;43m*\u001b[39;49m\u001b[43ma\u001b[49m\u001b[43m,\u001b[49m\u001b[43m \u001b[49m\u001b[38;5;241;43m*\u001b[39;49m\u001b[38;5;241;43m*\u001b[39;49m\u001b[43mkw\u001b[49m\u001b[43m)\u001b[49m\n\u001b[1;32m    180\u001b[0m     \u001b[38;5;28;01mexcept\u001b[39;00m Py4JJavaError \u001b[38;5;28;01mas\u001b[39;00m e:\n\u001b[1;32m    181\u001b[0m         converted \u001b[38;5;241m=\u001b[39m convert_exception(e\u001b[38;5;241m.\u001b[39mjava_exception)\n",
      "File \u001b[0;32m~/.cache/pypoetry/virtualenvs/realtime-fraud-detection-system-jsIdL3x4-py3.11/lib/python3.11/site-packages/py4j/protocol.py:326\u001b[0m, in \u001b[0;36mget_return_value\u001b[0;34m(answer, gateway_client, target_id, name)\u001b[0m\n\u001b[1;32m    324\u001b[0m value \u001b[38;5;241m=\u001b[39m OUTPUT_CONVERTER[\u001b[38;5;28mtype\u001b[39m](answer[\u001b[38;5;241m2\u001b[39m:], gateway_client)\n\u001b[1;32m    325\u001b[0m \u001b[38;5;28;01mif\u001b[39;00m answer[\u001b[38;5;241m1\u001b[39m] \u001b[38;5;241m==\u001b[39m REFERENCE_TYPE:\n\u001b[0;32m--> 326\u001b[0m     \u001b[38;5;28;01mraise\u001b[39;00m Py4JJavaError(\n\u001b[1;32m    327\u001b[0m         \u001b[38;5;124m\"\u001b[39m\u001b[38;5;124mAn error occurred while calling \u001b[39m\u001b[38;5;132;01m{0}\u001b[39;00m\u001b[38;5;132;01m{1}\u001b[39;00m\u001b[38;5;132;01m{2}\u001b[39;00m\u001b[38;5;124m.\u001b[39m\u001b[38;5;130;01m\\n\u001b[39;00m\u001b[38;5;124m\"\u001b[39m\u001b[38;5;241m.\u001b[39m\n\u001b[1;32m    328\u001b[0m         \u001b[38;5;28mformat\u001b[39m(target_id, \u001b[38;5;124m\"\u001b[39m\u001b[38;5;124m.\u001b[39m\u001b[38;5;124m\"\u001b[39m, name), value)\n\u001b[1;32m    329\u001b[0m \u001b[38;5;28;01melse\u001b[39;00m:\n\u001b[1;32m    330\u001b[0m     \u001b[38;5;28;01mraise\u001b[39;00m Py4JError(\n\u001b[1;32m    331\u001b[0m         \u001b[38;5;124m\"\u001b[39m\u001b[38;5;124mAn error occurred while calling \u001b[39m\u001b[38;5;132;01m{0}\u001b[39;00m\u001b[38;5;132;01m{1}\u001b[39;00m\u001b[38;5;132;01m{2}\u001b[39;00m\u001b[38;5;124m. Trace:\u001b[39m\u001b[38;5;130;01m\\n\u001b[39;00m\u001b[38;5;132;01m{3}\u001b[39;00m\u001b[38;5;130;01m\\n\u001b[39;00m\u001b[38;5;124m\"\u001b[39m\u001b[38;5;241m.\u001b[39m\n\u001b[1;32m    332\u001b[0m         \u001b[38;5;28mformat\u001b[39m(target_id, \u001b[38;5;124m\"\u001b[39m\u001b[38;5;124m.\u001b[39m\u001b[38;5;124m\"\u001b[39m, name, value))\n",
      "\u001b[0;31mPy4JJavaError\u001b[0m: An error occurred while calling o63.sql.\n: software.amazon.awssdk.core.exception.SdkClientException: Unable to load region from any of the providers in the chain software.amazon.awssdk.regions.providers.DefaultAwsRegionProviderChain@b4c2a86: [software.amazon.awssdk.regions.providers.SystemSettingsRegionProvider@1058bf35: Unable to load region from system settings. Region must be specified either via environment variable (AWS_REGION) or  system property (aws.region)., software.amazon.awssdk.regions.providers.AwsProfileRegionProvider@6989cf10: No region provided in profile: default, software.amazon.awssdk.regions.providers.InstanceProfileRegionProvider@54107b8e: Unable to contact EC2 metadata service.]\n\tat software.amazon.awssdk.core.exception.SdkClientException$BuilderImpl.build(SdkClientException.java:111)\n\tat software.amazon.awssdk.regions.providers.AwsRegionProviderChain.getRegion(AwsRegionProviderChain.java:70)\n\tat software.amazon.awssdk.awscore.client.builder.AwsDefaultClientBuilder.resolveRegion(AwsDefaultClientBuilder.java:293)\n\tat software.amazon.awssdk.utils.AttributeMap$DerivedValue.primeCache(AttributeMap.java:600)\n\tat software.amazon.awssdk.utils.AttributeMap$DerivedValue.get(AttributeMap.java:589)\n\tat software.amazon.awssdk.utils.AttributeMap$Builder.resolveValue(AttributeMap.java:396)\n\tat java.base/java.util.ArrayList.forEach(ArrayList.java:1596)\n\tat software.amazon.awssdk.utils.AttributeMap$Builder.build(AttributeMap.java:362)\n\tat software.amazon.awssdk.core.client.config.SdkClientConfiguration$Builder.build(SdkClientConfiguration.java:232)\n\tat software.amazon.awssdk.awscore.client.builder.AwsDefaultClientBuilder.finalizeAwsConfiguration(AwsDefaultClientBuilder.java:184)\n\tat software.amazon.awssdk.awscore.client.builder.AwsDefaultClientBuilder.finalizeChildConfiguration(AwsDefaultClientBuilder.java:161)\n\tat software.amazon.awssdk.core.client.builder.SdkDefaultClientBuilder.syncClientConfiguration(SdkDefaultClientBuilder.java:188)\n\tat software.amazon.awssdk.services.s3.DefaultS3ClientBuilder.buildClient(DefaultS3ClientBuilder.java:37)\n\tat software.amazon.awssdk.services.s3.DefaultS3ClientBuilder.buildClient(DefaultS3ClientBuilder.java:26)\n\tat software.amazon.awssdk.core.client.builder.SdkDefaultClientBuilder.build(SdkDefaultClientBuilder.java:155)\n\tat org.apache.iceberg.aws.AwsClientFactories$DefaultAwsClientFactory.s3(AwsClientFactories.java:116)\n\tat org.apache.iceberg.aws.s3.S3FileIO.client(S3FileIO.java:327)\n\tat org.apache.iceberg.aws.s3.S3FileIO.newOutputFile(S3FileIO.java:135)\n\tat org.apache.iceberg.BaseMetastoreTableOperations.writeNewMetadata(BaseMetastoreTableOperations.java:165)\n\tat org.apache.iceberg.BaseMetastoreTableOperations.writeNewMetadataIfRequired(BaseMetastoreTableOperations.java:160)\n\tat org.apache.iceberg.nessie.NessieTableOperations.doCommit(NessieTableOperations.java:115)\n\tat org.apache.iceberg.BaseMetastoreTableOperations.commit(BaseMetastoreTableOperations.java:135)\n\tat org.apache.iceberg.BaseMetastoreCatalog$BaseMetastoreCatalogTableBuilder.create(BaseMetastoreCatalog.java:201)\n\tat org.apache.iceberg.CachingCatalog$CachingTableBuilder.lambda$create$0(CachingCatalog.java:261)\n\tat org.apache.iceberg.shaded.com.github.benmanes.caffeine.cache.BoundedLocalCache.lambda$doComputeIfAbsent$14(BoundedLocalCache.java:2406)\n\tat java.base/java.util.concurrent.ConcurrentHashMap.compute(ConcurrentHashMap.java:1916)\n\tat org.apache.iceberg.shaded.com.github.benmanes.caffeine.cache.BoundedLocalCache.doComputeIfAbsent(BoundedLocalCache.java:2404)\n\tat org.apache.iceberg.shaded.com.github.benmanes.caffeine.cache.BoundedLocalCache.computeIfAbsent(BoundedLocalCache.java:2387)\n\tat org.apache.iceberg.shaded.com.github.benmanes.caffeine.cache.LocalCache.computeIfAbsent(LocalCache.java:108)\n\tat org.apache.iceberg.shaded.com.github.benmanes.caffeine.cache.LocalManualCache.get(LocalManualCache.java:62)\n\tat org.apache.iceberg.CachingCatalog$CachingTableBuilder.create(CachingCatalog.java:257)\n\tat org.apache.iceberg.spark.SparkCatalog.createTable(SparkCatalog.java:247)\n\tat org.apache.spark.sql.connector.catalog.TableCatalog.createTable(TableCatalog.java:223)\n\tat org.apache.spark.sql.execution.datasources.v2.CreateTableExec.run(CreateTableExec.scala:44)\n\tat org.apache.spark.sql.execution.datasources.v2.V2CommandExec.result$lzycompute(V2CommandExec.scala:43)\n\tat org.apache.spark.sql.execution.datasources.v2.V2CommandExec.result(V2CommandExec.scala:43)\n\tat org.apache.spark.sql.execution.datasources.v2.V2CommandExec.executeCollect(V2CommandExec.scala:49)\n\tat org.apache.spark.sql.execution.QueryExecution$$anonfun$eagerlyExecuteCommands$1.$anonfun$applyOrElse$1(QueryExecution.scala:107)\n\tat org.apache.spark.sql.execution.SQLExecution$.$anonfun$withNewExecutionId$6(SQLExecution.scala:125)\n\tat org.apache.spark.sql.execution.SQLExecution$.withSQLConfPropagated(SQLExecution.scala:201)\n\tat org.apache.spark.sql.execution.SQLExecution$.$anonfun$withNewExecutionId$1(SQLExecution.scala:108)\n\tat org.apache.spark.sql.SparkSession.withActive(SparkSession.scala:900)\n\tat org.apache.spark.sql.execution.SQLExecution$.withNewExecutionId(SQLExecution.scala:66)\n\tat org.apache.spark.sql.execution.QueryExecution$$anonfun$eagerlyExecuteCommands$1.applyOrElse(QueryExecution.scala:107)\n\tat org.apache.spark.sql.execution.QueryExecution$$anonfun$eagerlyExecuteCommands$1.applyOrElse(QueryExecution.scala:98)\n\tat org.apache.spark.sql.catalyst.trees.TreeNode.$anonfun$transformDownWithPruning$1(TreeNode.scala:461)\n\tat org.apache.spark.sql.catalyst.trees.CurrentOrigin$.withOrigin(origin.scala:76)\n\tat org.apache.spark.sql.catalyst.trees.TreeNode.transformDownWithPruning(TreeNode.scala:461)\n\tat org.apache.spark.sql.catalyst.plans.logical.LogicalPlan.org$apache$spark$sql$catalyst$plans$logical$AnalysisHelper$$super$transformDownWithPruning(LogicalPlan.scala:32)\n\tat org.apache.spark.sql.catalyst.plans.logical.AnalysisHelper.transformDownWithPruning(AnalysisHelper.scala:267)\n\tat org.apache.spark.sql.catalyst.plans.logical.AnalysisHelper.transformDownWithPruning$(AnalysisHelper.scala:263)\n\tat org.apache.spark.sql.catalyst.plans.logical.LogicalPlan.transformDownWithPruning(LogicalPlan.scala:32)\n\tat org.apache.spark.sql.catalyst.plans.logical.LogicalPlan.transformDownWithPruning(LogicalPlan.scala:32)\n\tat org.apache.spark.sql.catalyst.trees.TreeNode.transformDown(TreeNode.scala:437)\n\tat org.apache.spark.sql.execution.QueryExecution.eagerlyExecuteCommands(QueryExecution.scala:98)\n\tat org.apache.spark.sql.execution.QueryExecution.commandExecuted$lzycompute(QueryExecution.scala:85)\n\tat org.apache.spark.sql.execution.QueryExecution.commandExecuted(QueryExecution.scala:83)\n\tat org.apache.spark.sql.Dataset.<init>(Dataset.scala:220)\n\tat org.apache.spark.sql.Dataset$.$anonfun$ofRows$2(Dataset.scala:100)\n\tat org.apache.spark.sql.SparkSession.withActive(SparkSession.scala:900)\n\tat org.apache.spark.sql.Dataset$.ofRows(Dataset.scala:97)\n\tat org.apache.spark.sql.SparkSession.$anonfun$sql$1(SparkSession.scala:638)\n\tat org.apache.spark.sql.SparkSession.withActive(SparkSession.scala:900)\n\tat org.apache.spark.sql.SparkSession.sql(SparkSession.scala:629)\n\tat org.apache.spark.sql.SparkSession.sql(SparkSession.scala:659)\n\tat java.base/jdk.internal.reflect.NativeMethodAccessorImpl.invoke0(Native Method)\n\tat java.base/jdk.internal.reflect.NativeMethodAccessorImpl.invoke(NativeMethodAccessorImpl.java:75)\n\tat java.base/jdk.internal.reflect.DelegatingMethodAccessorImpl.invoke(DelegatingMethodAccessorImpl.java:52)\n\tat java.base/java.lang.reflect.Method.invoke(Method.java:580)\n\tat py4j.reflection.MethodInvoker.invoke(MethodInvoker.java:244)\n\tat py4j.reflection.ReflectionEngine.invoke(ReflectionEngine.java:374)\n\tat py4j.Gateway.invoke(Gateway.java:282)\n\tat py4j.commands.AbstractCommand.invokeMethod(AbstractCommand.java:132)\n\tat py4j.commands.CallCommand.execute(CallCommand.java:79)\n\tat py4j.ClientServerConnection.waitForCommands(ClientServerConnection.java:182)\n\tat py4j.ClientServerConnection.run(ClientServerConnection.java:106)\n\tat java.base/java.lang.Thread.run(Thread.java:1583)\n"
     ]
    }
   ],
   "source": [
    "execute_query(\"\"\"\n",
    "        CREATE TABLE IF NOT EXISTS nessie.payment.customer (\n",
    "      customer_id INT,\n",
    "      x_location FLOAT,\n",
    "      y_location FLOAT,\n",
    "      row_created_timestamp TIMESTAMP,\n",
    "      row_updated_timestamp TIMESTAMP\n",
    ")\n",
    "USING iceberg\n",
    "\"\"\")"
   ]
  },
  {
   "cell_type": "code",
   "execution_count": null,
   "metadata": {},
   "outputs": [
    {
     "name": "stderr",
     "output_type": "stream",
     "text": [
      "25/02/11 00:23:07 WARN AdminClientConfig: The configuration 'key.deserializer' was supplied but isn't a known config.\n",
      "25/02/11 00:23:07 WARN AdminClientConfig: The configuration 'value.deserializer' was supplied but isn't a known config.\n",
      "25/02/11 00:23:07 WARN AdminClientConfig: The configuration 'enable.auto.commit' was supplied but isn't a known config.\n",
      "25/02/11 00:23:07 WARN AdminClientConfig: The configuration 'max.poll.records' was supplied but isn't a known config.\n",
      "25/02/11 00:23:07 WARN AdminClientConfig: The configuration 'auto.offset.reset' was supplied but isn't a known config.\n",
      "25/02/11 00:23:08 WARN AdminClientConfig: The configuration 'key.deserializer' was supplied but isn't a known config.\n",
      "25/02/11 00:23:08 WARN AdminClientConfig: The configuration 'value.deserializer' was supplied but isn't a known config.\n",
      "25/02/11 00:23:08 WARN AdminClientConfig: The configuration 'enable.auto.commit' was supplied but isn't a known config.\n",
      "25/02/11 00:23:08 WARN AdminClientConfig: The configuration 'max.poll.records' was supplied but isn't a known config.\n",
      "25/02/11 00:23:08 WARN AdminClientConfig: The configuration 'auto.offset.reset' was supplied but isn't a known config.\n",
      "                                                                                \r"
     ]
    },
    {
     "name": "stdout",
     "output_type": "stream",
     "text": [
      "++\n",
      "||\n",
      "++\n",
      "++\n",
      "\n"
     ]
    }
   ],
   "source": [
    "execute_query(\"\"\"\n",
    "MERGE INTO nessie.payment.customer AS target\n",
    "USING latest_data AS source\n",
    "ON target.customer_id = source.customer_id\n",
    "WHEN MATCHED THEN\n",
    "  UPDATE SET\n",
    "    target.x_location = source.x_location,\n",
    "    target.y_location = source.y_location,\n",
    "    target.row_updated_timestamp = source.row_updated_timestamp\n",
    "WHEN NOT MATCHED THEN\n",
    "  INSERT (\n",
    "    customer_id,\n",
    "    x_location,\n",
    "    y_location,\n",
    "    row_created_timestamp,\n",
    "    row_updated_timestamp\n",
    "  )\n",
    "  VALUES (\n",
    "    source.customer_id,\n",
    "    source.x_location,\n",
    "    source.y_location,\n",
    "    source.row_created_timestamp,\n",
    "    source.row_updated_timestamp\n",
    "  )\n",
    "\"\"\")"
   ]
  },
  {
   "cell_type": "code",
   "execution_count": 83,
   "metadata": {},
   "outputs": [
    {
     "name": "stdout",
     "output_type": "stream",
     "text": [
      "+-----------+----------+----------+--------------------------+--------------------------+\n",
      "|customer_id|x_location|y_location|row_created_timestamp     |row_updated_timestamp     |\n",
      "+-----------+----------+----------+--------------------------+--------------------------+\n",
      "|0          |54.88135  |71.518936 |2025-02-11 00:23:07.265899|2025-02-11 00:23:07.265899|\n",
      "|1          |60.276337 |54.48832  |2025-02-11 00:23:07.265899|2025-02-11 00:23:07.265899|\n",
      "|2          |50.4567   |64.58941  |2025-02-11 00:23:07.265899|2025-02-11 00:23:07.265899|\n",
      "|3          |64.58941  |43.75872  |2025-02-11 00:23:07.265899|2025-02-11 00:23:07.265899|\n",
      "|4          |43.75872  |89.1773   |2025-02-11 00:23:07.265899|2025-02-11 00:23:07.265899|\n",
      "|5          |89.1773   |96.36628  |2025-02-11 00:23:07.265899|2025-02-11 00:23:07.265899|\n",
      "|6          |96.36628  |38.34415  |2025-02-11 00:23:07.265899|2025-02-11 00:23:07.265899|\n",
      "|7          |38.34415  |79.1725   |2025-02-11 00:23:07.265899|2025-02-11 00:23:07.265899|\n",
      "|8          |79.1725   |52.889492 |2025-02-11 00:23:07.265899|2025-02-11 00:23:07.265899|\n",
      "|9          |52.889492 |56.804455 |2025-02-11 00:23:07.265899|2025-02-11 00:23:07.265899|\n",
      "|10         |40.7128   |74.006    |2025-02-11 00:23:07.265899|2025-02-11 00:23:07.265899|\n",
      "+-----------+----------+----------+--------------------------+--------------------------+\n",
      "\n"
     ]
    }
   ],
   "source": [
    "execute_query(\"\"\"select * from payment.customer  \"\"\")"
   ]
  },
  {
   "cell_type": "code",
   "execution_count": 75,
   "metadata": {},
   "outputs": [
    {
     "name": "stdout",
     "output_type": "stream",
     "text": [
      "+-----------+----------+----------+\n",
      "|customer_id|x_location|y_location|\n",
      "+-----------+----------+----------+\n",
      "|0          |54.88135  |71.518937 |\n",
      "|1          |60.276338 |54.488318 |\n",
      "|2          |50.4567   |64.589411 |\n",
      "|3          |64.589411 |43.758721 |\n",
      "|4          |43.758721 |89.1773   |\n",
      "|5          |89.1773   |96.366276 |\n",
      "|6          |96.366276 |38.344152 |\n",
      "|7          |38.344152 |79.172504 |\n",
      "|8          |79.172504 |52.889492 |\n",
      "|9          |52.889492 |56.804456 |\n",
      "|10         |40.7128   |74.006    |\n",
      "+-----------+----------+----------+\n",
      "\n"
     ]
    }
   ],
   "source": [
    "execute_query(\"\"\"select * from payment.customers \"\"\")"
   ]
  },
  {
   "cell_type": "code",
   "execution_count": null,
   "metadata": {},
   "outputs": [],
   "source": [
    "postgres -> debezium -> kafka (retention policy - 7 days ) -> spark streaming -> minio (s3)"
   ]
  },
  {
   "cell_type": "code",
   "execution_count": null,
   "metadata": {},
   "outputs": [],
   "source": [
    "kafka -> topic -> transform -> s3 table (create / replace )\n",
    "\n",
    "incremental processing \n",
    "\n",
    "1. kafka -> event -> \n",
    "\n",
    "incremental read kafka basis offset -> spark streaming -> checkpointing (state store )\n",
    "\n",
    "triggers -> freuently job execution\n",
    "\n",
    "\n",
    "\n",
    "\n",
    "\n",
    "done this:\n",
    "10 row -> updates + inserts + delete  upsert -> key column \n",
    "\n",
    "merge command (iceberg)\n",
    "\n",
    "\n",
    "table - 100 rows \n",
    "\n",
    "8 am \n",
    "\n"
   ]
  }
 ],
 "metadata": {
  "kernelspec": {
   "display_name": "realtime-fraud-detection-system-jsIdL3x4-py3.11",
   "language": "python",
   "name": "python3"
  },
  "language_info": {
   "codemirror_mode": {
    "name": "ipython",
    "version": 3
   },
   "file_extension": ".py",
   "mimetype": "text/x-python",
   "name": "python",
   "nbconvert_exporter": "python",
   "pygments_lexer": "ipython3",
   "version": "3.11.11"
  }
 },
 "nbformat": 4,
 "nbformat_minor": 2
}
