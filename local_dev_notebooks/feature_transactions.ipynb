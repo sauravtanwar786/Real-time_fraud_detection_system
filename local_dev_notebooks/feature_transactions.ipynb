{
 "cells": [
  {
   "cell_type": "code",
   "execution_count": 1,
   "metadata": {},
   "outputs": [],
   "source": [
    "from pyspark.sql import SparkSession\n",
    "from pyspark.sql.types import StringType\n",
    "from pyspark.sql.functions import col\n",
    "from pyspark.sql.types import StringType, StructType, StructField\n"
   ]
  },
  {
   "cell_type": "code",
   "execution_count": null,
   "metadata": {},
   "outputs": [],
   "source": [
    "from pyspark.sql import SparkSession\n",
    "spark = (SparkSession.builder\n",
    "                .config(\"spark.jars.packages\", \"org.apache.spark:spark-sql-kafka-0-10_2.12:3.3.1,org.apache.iceberg:iceberg-spark-runtime-3.5_2.12:1.7.1,org.apache.hadoop:hadoop-aws:3.3.2\")\n",
    "                .config(\"spark.hadoop.fs.s3a.endpoint\", \"http://localhost:9000\") \n",
    "                .config(\"spark.hadoop.fs.s3a.access.key\", \"minio\") \n",
    "                .config(\"spark.hadoop.fs.s3a.secret.key\", \"minio123\") \n",
    "                .config(\"spark.hadoop.fs.s3a.path.style.access\", \"true\") \n",
    "                .config(\"spark.hadoop.fs.s3a.impl\", \"org.apache.hadoop.fs.s3a.S3AFileSystem\")\n",
    "                .config(\"spark.sql.catalog.spark_catalog\", \"org.apache.iceberg.spark.SparkSessionCatalog\")\n",
    "                .config(\"spark.sql.catalog.spark_catalog.type\", \"hadoop\")\n",
    "                .config(\"spark.sql.catalog.spark_catalog.warehouse\", \"s3a://commerce/feature/\") \n",
    "                .config(\"spark.sql.extensions\", \"org.apache.iceberg.spark.extensions.IcebergSparkSessionExtensions\") \n",
    "                .appName(\"feature transaction\")\n",
    "         .getOrCreate())"
   ]
  },
  {
   "cell_type": "code",
   "execution_count": null,
   "metadata": {},
   "outputs": [],
   "source": [
    "execute_query(\"\"\"\n",
    "CREATE TABLE IF NOT EXISTS feature.transaction (\n",
    "    tx_id INT, -- Unique ID for each transaction\n",
    "    tx_datetime TIMESTAMP,\n",
    "    tx_amount FLOAT, -- Transaction amount\n",
    "    tx_during_weekend BOOLEAN,\n",
    "    tx_during_night BOOLEAN, \n",
    "    customer_id INT, \n",
    "    terminal_id INT, \n",
    "    customer_nb_tx_1day_window INT, -- Customer's number of transactions in the last 1 day\n",
    "    customer_avg_amount_1day_window FLOAT, -- Customer's average transaction amount in the last 1 day\n",
    "    customer_nb_tx_7day_window INT, -- Customer's number of transactions in the last 7 days\n",
    "    customer_avg_amount_7day_window FLOAT, -- Customer's average transaction amount in the last 7 days\n",
    "    customer_nb_tx_30day_window INT, -- Customer's number of transactions in the last 30 days\n",
    "    customer_avg_amount_30day_window FLOAT, -- Customer's average transaction amount in the last 30 days\n",
    "    terminal_nb_tx_1day_window INT, -- Terminal's number of transactions in the last 1 day\n",
    "    terminal_risk_1day_window FLOAT, -- Terminal's risk score for the last 1 day\n",
    "    terminal_nb_tx_7day_window INT, -- Terminal's number of transactions in the last 7 days\n",
    "    terminal_risk_7day_window FLOAT, -- Terminal's risk score for the last 7 days\n",
    "    terminal_nb_tx_30day_window INT, -- Terminal's number of transactions in the last 30 days\n",
    "    terminal_risk_30day_window FLOAT, -- Terminal's risk score for the last 30 days \n",
    "    row_created_timestamp TIMESTAMP, \n",
    "    row_updated_timestamp TIMESTAMP, \n",
    "    FOREIGN KEY (customer_id) REFERENCES feature.customer(customer_id),\n",
    "    FOREIGN KEY (terminal_id) REFERENCES feature.terminal(terminal_id)\n",
    ")\n",
    "USING iceberg\n",
    "\"\"\").show(truncate=False)\n"
   ]
  }
 ],
 "metadata": {
  "kernelspec": {
   "display_name": ".venv",
   "language": "python",
   "name": "python3"
  },
  "language_info": {
   "codemirror_mode": {
    "name": "ipython",
    "version": 3
   },
   "file_extension": ".py",
   "mimetype": "text/x-python",
   "name": "python",
   "nbconvert_exporter": "python",
   "pygments_lexer": "ipython3",
   "version": "3.11.10"
  }
 },
 "nbformat": 4,
 "nbformat_minor": 2
}
