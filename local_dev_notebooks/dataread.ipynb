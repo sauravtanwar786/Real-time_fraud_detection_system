{
 "cells": [
  {
   "cell_type": "code",
   "execution_count": 7,
   "metadata": {},
   "outputs": [
    {
     "name": "stdout",
     "output_type": "stream",
     "text": [
      "   TRANSACTION_ID         TX_DATETIME CUSTOMER_ID TERMINAL_ID  TX_AMOUNT  \\\n",
      "0         2290801 2025-01-26 00:00:13        2885        4353      52.15   \n",
      "1         2290802 2025-01-26 00:00:54        3270        9304      87.33   \n",
      "2         2290803 2025-01-26 00:01:53        3407        7489      99.19   \n",
      "3         2290804 2025-01-26 00:03:40        2383        4606      43.04   \n",
      "4         2290805 2025-01-26 00:04:14        3195        3521      53.46   \n",
      "\n",
      "  TX_TIME_SECONDS TX_TIME_DAYS  TX_FRAUD  TX_FRAUD_SCENARIO  \n",
      "0        20649613          239         0                  0  \n",
      "1        20649654          239         0                  0  \n",
      "2        20649713          239         0                  0  \n",
      "3        20649820          239         0                  0  \n",
      "4        20649854          239         0                  0  \n"
     ]
    }
   ],
   "source": [
    "import os\n",
    "import pickle\n",
    "import pandas as pd\n",
    "\n",
    "# Path to the folder containing pickle files\n",
    "pickle_folder_path = \"../Ml_model/simulated-data-raw/\"\n",
    "\n",
    "# Define the date range for the pickle files to load\n",
    "start_date = \"2025-01-01\"\n",
    "end_date = \"2025-01-31\"\n",
    "\n",
    "# List to store DataFrames\n",
    "dataframes = []\n",
    "\n",
    "# Iterate over all files in the directory\n",
    "for file_name in os.listdir(pickle_folder_path):\n",
    "    # Check if the file matches the date range and has a .pkl extension\n",
    "    if file_name.endswith(\".pkl\") and start_date <= file_name[:10] <= end_date:\n",
    "        file_path = os.path.join(pickle_folder_path, file_name)\n",
    "        \n",
    "        # Load the pickle file\n",
    "        with open(file_path, 'rb') as file:\n",
    "            data = pickle.load(file)\n",
    "            # Append the DataFrame to the list\n",
    "            dataframes.append(pd.DataFrame(data))\n",
    "\n",
    "# Combine all DataFrames into one\n",
    "df = pd.concat(dataframes, ignore_index=True)\n",
    "\n",
    "# Display the resulting DataFrame\n",
    "print(df.head())\n"
   ]
  },
  {
   "cell_type": "code",
   "execution_count": null,
   "metadata": {},
   "outputs": [],
   "source": []
  }
 ],
 "metadata": {
  "kernelspec": {
   "display_name": ".venv",
   "language": "python",
   "name": "python3"
  },
  "language_info": {
   "codemirror_mode": {
    "name": "ipython",
    "version": 3
   },
   "file_extension": ".py",
   "mimetype": "text/x-python",
   "name": "python",
   "nbconvert_exporter": "python",
   "pygments_lexer": "ipython3",
   "version": "3.11.10"
  }
 },
 "nbformat": 4,
 "nbformat_minor": 2
}
